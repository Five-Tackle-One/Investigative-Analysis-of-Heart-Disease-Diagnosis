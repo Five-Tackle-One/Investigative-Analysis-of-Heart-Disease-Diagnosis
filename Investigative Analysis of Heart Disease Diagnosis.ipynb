{
 "cells": [
  {
   "cell_type": "markdown",
   "id": "listed-wealth",
   "metadata": {},
   "source": [
    "<h1 style='text-align:center'><strong>Investigative Analysis of Heart Disease Diagnosis</strong></h1>"
   ]
  },
  {
   "cell_type": "markdown",
   "id": "separated-holder",
   "metadata": {},
   "source": [
    "Dataset <a href=\"https://www.kaggle.com/ronitf/heart-disease-uci?select=heart.csv\">Heart Disease UCI</a>"
   ]
  },
  {
   "cell_type": "markdown",
   "id": "provincial-filter",
   "metadata": {},
   "source": [
    "<a id=\"section_n\" name=\"section_n\"></a>"
   ]
  },
  {
   "cell_type": "markdown",
   "id": "ultimate-european",
   "metadata": {},
   "source": [
    "## Table of Contents"
   ]
  },
  {
   "cell_type": "markdown",
   "id": "drawn-activation",
   "metadata": {},
   "source": [
    "* [1. Introduction](#chapter2)\n",
    "    * [Heart Disease](#section_2_1)\n",
    "    * [Relevant Study](#section_2_2)\n",
    "    * [Research Question and Problem Statement](#section_2_3)\n",
    "    * [Data Description](#section_2_4)\n",
    "    * [Executive Summary](#section_2_5)\n",
    "    * [Variable Description](#section_2_6)\n",
    "* [2. Data Analysis and Exploration](#chapter3)\n",
    "    * [Data Preparation](#section_3_1)\n",
    "    * [Missing Values](#section_3_2)\n",
    "    * [Encoding](#section_3_4)\n",
    "    * [Exploratory Analysis and Data Visualization](#section_3_5)\n",
    "* [3. Predicting Heart Disease Using Logistic Regression](#chapter4)\n",
    "    * [Data Preparation](#section_4_1)\n",
    "    * [Training A Model](#section_4_2)\n",
    "    * [Training A State of The Art Model](#section_4_3)\n",
    "    * [Compare Model Performance](#section_4_4)\n",
    "    * [Compare Best Dataset](#section_4_5)\n",
    "    * [Limitations](#section_4_6)\n",
    "    * [Future Work](#section_4_7)\n",
    "    * [Conclusion](#section_4_8)"
   ]
  },
  {
   "cell_type": "markdown",
   "id": "corresponding-tiger",
   "metadata": {},
   "source": [
    "<h4 style=\"color:lightcoral\"><strong>Sources</strong></h4>\n",
    "\n",
    "\n",
    "* <a href=\"https://0-www-sciencedirect-com.innopac.wits.ac.za/science/article/pii/0002914989905249?via%3Dihub\">International application of a new probability algorithm for the diagnosis of coronary artery disease </a>\n",
    "\n",
    "* <a href=\"https://my.clevelandclinic.org/health/diseases/17069-heart-failure-understanding-heart-failure\">Understanding Heart failure</a> \n",
    "\n",
    "* <a href=\"https://my.clevelandclinic.org/health/diseases/16898-coronary-artery-disease\">Coronary Artery Disease</a>"
   ]
  },
  {
   "cell_type": "markdown",
   "id": "center-suffering",
   "metadata": {},
   "source": [
    "<a id=\"chapter2\" name=\"chapter2\"></a> "
   ]
  },
  {
   "cell_type": "markdown",
   "id": "induced-racing",
   "metadata": {},
   "source": [
    "<h2 style=\"text-align:center\">Introduction: Heart Disease Diagnosis</h2>"
   ]
  },
  {
   "cell_type": "markdown",
   "id": "enhanced-hamilton",
   "metadata": {},
   "source": [
    "<a id=\"section_2_1\" name=\"section_2_1\"></a>"
   ]
  },
  {
   "cell_type": "markdown",
   "id": "continuous-berlin",
   "metadata": {},
   "source": [
    "<h4 style=\"color:lightcoral\"><strong>Heart Disease</strong></h4>\n",
    "\n",
    "The <a href=\"https://www.cdc.gov/heartdisease/about.htm\">CDC</a> describes heart disease as a class of heart conditions that affect the blood flow to the heart. The detrimental effect of a heart condition can lead to a heart attack. A heart attack occurs when the arteries that supply your heart with blood and oxygen are blocked. The blockage is caused by a build-up of fat, and cholesterol that form plaque in the arteries. Such occurrences can restrict the blow flow destroying parts of the heart. Each type of heart disease is caused by a series of different conditions related to specific individuals and contributes significantly to conditions that lead to death.\n",
    "\n",
    "The <strong>Centers for Disease Control and Prevention</strong>(CDC) approximates that 47% of Americans suffer from risk factors that lead to heart disease. These risk factors are listed as \n",
    "\n",
    "* Diabetes\n",
    "\n",
    "* Overweight and obesity\n",
    "\n",
    "* Unhealthy diet\n",
    "\n",
    "About 25% of death in the <a href=\"https://www.medicalnewstoday.com/articles/237191\">United States</a> occur due to heart disease and it affects all genders and ethnic groups. "
   ]
  },
  {
   "cell_type": "markdown",
   "id": "spoken-wyoming",
   "metadata": {},
   "source": [
    "<a id=\"section_2_2\" name=\"section_2_2\"></a>"
   ]
  },
  {
   "cell_type": "markdown",
   "id": "configured-runner",
   "metadata": {},
   "source": [
    "<h4 style=\"color:lightcoral\"><strong>Relevant Study:</strong></h4>\n",
    "<strong style=\"color:#E77471\">International Application of A New Probability Algorithm For The Diagnosis of Coronary Artery Disease:</strong> Robert Detrano,MD\n",
    "\n",
    "Robert Detrano tested a discriminant function model for estimating probabilities of angiographic coronary disease on the Cleveland, Ohio, Clinic patients. The reference group comprised of 303 patients for coronary angiography at the Cleveland Clinic between <strong>May 1981</strong> and <strong>September 1984</strong>. Their objective was to make the algorithm relevant to assumed variables(or information) that a medical professional might have access to. In this instance, they chose 13 different predictors relative to the information that clinics usually ask to determine whether a patient has heart disease.\n",
    "\n",
    "<strong style=\"color:#E77471\">Prior Research Results:</strong>\n",
    "* David W.Aha & Dennis Kibler attained an accuracy of 77.0% percent \n",
    "* John Gennari attained an accuracy of 78.9% percent using a CLASSIT conceptual clustering system"
   ]
  },
  {
   "cell_type": "markdown",
   "id": "solid-atmosphere",
   "metadata": {},
   "source": [
    "<a id=\"section_2_3\" name=\"section_2_3\"></a>"
   ]
  },
  {
   "cell_type": "markdown",
   "id": "ordered-japanese",
   "metadata": {},
   "source": [
    "<h4 style=\"color:lightcoral\"><strong>Researh Question and Problem</strong></h4>\n",
    "\n",
    "<strong style=\"color:lightcoral\">Research Problem:</strong>\n",
    "Medical professionals often misclassify patients that suffer from heart disease. Human beings are prone to errors, \"to err is human\", and it is natural for doctors to incorrectly conclude that a patient that has heart disease does not have it.\n",
    "We would like to determine the presence of heart disease in a patient, specifically focused on correctly classifying a true positive such that the model tries to learn when a patient has heart disease.\n",
    "\n",
    "<strong style=\"color:lightcoral\">Hypothesis:</strong>\n",
    "The logistic regression performed on the combined datasets will produce a better predictive model than previous <a href=\"https://0-pubmed-ncbi-nlm-nih-gov.innopac.wits.ac.za/2756873/\">studies</a>. We hypothesise that the model, having more data, will learn the variability of the distribution of feature values. Thus allowing our model to generalize well for the testing data\n",
    "\n",
    "<strong style=\"color:lightcoral\">Methodology</strong>:\n",
    "Determine a predictive model of the combined datasets comprised of the following \n",
    "* Cleveland Dataset\n",
    "* Hungarian Dataset\n",
    "* Switzerland Dataset\n",
    "* Long Beach Dataset\n"
   ]
  },
  {
   "cell_type": "markdown",
   "id": "usual-kitty",
   "metadata": {},
   "source": [
    "<a id=\"section_2_4\" name=\"section_2_4\"></a>"
   ]
  },
  {
   "cell_type": "markdown",
   "id": "canadian-defensive",
   "metadata": {},
   "source": [
    "<h4 style=\"color:lightcoral\"><strong>Data Description</strong></h4>\n",
    "The datasets used in this experiments are collected from the following locations \n",
    "\n",
    "* 1. Cleveland Clinic Foundation (cleveland.data)\n",
    "* 2. Hungarian Institute of Cardiology, Budapest (hungarian.data)\n",
    "* 3. V.A. Medical Center, Long Beach, CA (long-beach-va.data)\n",
    "* 4. University Hospital, Zurich, Switzerland (switzerland.data)\n",
    "\n",
    "<strong style=\"color:lightcoral\">Credits:</strong> \n",
    "* Hungarian Institute of Cardiology. Budapest: <strong>Andras Janosi, M.D.</strong>\n",
    "* University Hospital, Zurich, Switzerland: <strong>William Steinbrunn, M.D.</strong>\n",
    "* University Hospital, Basel, Switzerland: <strong>Matthias Pfisterer, M.D.</strong>\n",
    "* V.A. Medical Center, Long Beach and Cleveland Clinic Foundation: <strong>Robert Detrano, M.D., Ph.D.</strong>\n",
    "\n",
    "The data collected from these clinics contain 76 attributes. Previous selected 14 attributes based on statistical significance that determine the present of heart disease. As such, we will extend their approach by using the same attributes but combining different datasets from different universities.\n",
    "\n",
    "The following is the attributes used in the dataset<br>\n",
    "<strong style=\"color:#E77471\">Age:</strong> \n",
    "> $ x \\in \\mathbb{R}$ \n",
    "\n",
    "\n",
    "<strong style=\"color:#E77471\">Sex</strong>\n",
    "> 0 = Female\n",
    "\n",
    "> 1 = Male\n",
    "\n",
    "\n",
    "\n",
    "<strong style=\"color:#E77471\">Chol: Serum Cholestoral in mg/dl</strong>\n",
    "> $ x \\in \\mathbb{R}$ \n",
    "\n",
    "\n",
    "<strong style='color:#E77471'>Trestbps: Resting Blood Pressure (in mm Hg on admission to the hospital)</strong>\n",
    "> $ x \\in \\mathbb{R}$ \n",
    "\n",
    "\n",
    "<strong style=\"color:#E77471\">Chest Pain Type</strong>\n",
    "> Value 1 = Typical Angina\n",
    "\n",
    "> Value 2 = Atypical Angina\n",
    "\n",
    "> Value 3 = Non-Anginal Pain\n",
    "\n",
    "> Value 4 = Asymptomatic\n",
    "\n",
    "\n",
    "\n",
    "<strong style=\"color:#E77471\">Thalach: Maximum Heart Rate Achieved</strong>\n",
    "> $ x \\in \\mathbb{R}$ \n",
    "\n",
    "\n",
    "<strong style=\"color:#E77471\">Exang: Exercise Induced Angina </strong>\n",
    "> 1 = Yes\n",
    "\n",
    "> 0 = No\n",
    "\n",
    "<strong style=\"color:#E77471\">Fasting Blood Sugar > 120 mg</strong>\n",
    "> 1 = True\n",
    "\n",
    "> 2 = False \n",
    "\n",
    "\n",
    "<strong style=\"color:#E77471\">Resting Electrocardiographic Results</strong>\n",
    ">  Value 0=  Normal\n",
    "\n",
    ">  Value 2=Having ST-T Wave Abnormality (T Wave Inversions)\n",
    "\n",
    ">  Value 3= Showing Probable or Definite Left Ventricular Hypertrophy\n",
    "\n",
    "<strong style='color:#E77471'>OldPeak = ST Depression Induced by Exercise Relative to Eest</strong>\n",
    "> $ x \\in \\mathbb{R}$ \n",
    "\n",
    "\n",
    "\n",
    "<strong style='color:#E77471'>ca: Number of Major Vessels (0-3) colored by flourosopy</strong>\n",
    "\n",
    "<strong style='color:#E77471'>thal: </strong>\n",
    "> 3 = normal\n",
    "\n",
    "> 6 = fixed defect\n",
    "\n",
    "> 7 = reversable defect\n",
    "\n",
    "<strong style=\"color:#E77471\">Slope: The Slope of the Peak Exercise of ST Segment</strong>\n",
    ">  Value 1= Upsloping\n",
    "\n",
    ">  Value 2= Flat\n",
    "\n",
    ">  Value 3= Downsloping\n",
    "\n",
    "\n",
    "<strong style=\"color:#E77471\">Target: Presence of Heart Disease</strong>\n",
    ">  Value 0= Absence\n",
    "\n",
    ">  Value 1= Presence\n"
   ]
  },
  {
   "cell_type": "markdown",
   "id": "nuclear-macro",
   "metadata": {},
   "source": [
    "<a id=\"section_2_5\" name=\"section_2_5\"></a>"
   ]
  },
  {
   "cell_type": "markdown",
   "id": "constitutional-donor",
   "metadata": {},
   "source": [
    "<h4 style=\"color:lightcoral\"><strong>Executive Summary</strong></h4>"
   ]
  },
  {
   "cell_type": "markdown",
   "id": "retained-attempt",
   "metadata": {},
   "source": [
    "<a id=\"chapter3\" name=\"chapter3\"></a> "
   ]
  },
  {
   "cell_type": "markdown",
   "id": "exact-sheriff",
   "metadata": {},
   "source": [
    "<h2 style=\"text-align:center\">Data Analysis and Exploration</h2>"
   ]
  },
  {
   "cell_type": "markdown",
   "id": "separated-dubai",
   "metadata": {},
   "source": [
    "<a id=\"section_3_1\" name=\"section_3_1\"></a>"
   ]
  },
  {
   "cell_type": "code",
   "execution_count": 1,
   "id": "plastic-juice",
   "metadata": {},
   "outputs": [],
   "source": [
    "import pandas as pd\n",
    "import numpy as np\n",
    "import matplotlib.pyplot as plt\n",
    "import engine.data_preparation as dp\n",
    "import engine.data_visualization as dv\n",
    "import engine.logistic_regression as lr\n",
    "import engine.accuracy as acc\n",
    "import seaborn as sns\n",
    "import warnings\n",
    "from IPython.display import clear_output\n",
    "from sklearn.model_selection import train_test_split\n",
    "from sklearn.linear_model import LogisticRegression\n",
    "\n",
    "%matplotlib inline\n",
    "warnings.filterwarnings('ignore')\n",
    "%load_ext autoreload\n",
    "\n",
    "%autoreload"
   ]
  },
  {
   "cell_type": "markdown",
   "id": "higher-access",
   "metadata": {},
   "source": [
    "<h4 style=\"color:lightcoral\"><strong>Data Preparation</strong></h4>\n",
    "\n",
    "> Read dataset \n",
    "\n",
    "> Appropriately change data types\n",
    "\n",
    "> Description \n",
    "> * Number of rows\n",
    "> * Number of features\n",
    "\n",
    "> Is the data balanced ?\n"
   ]
  },
  {
   "cell_type": "code",
   "execution_count": 2,
   "id": "applied-newark",
   "metadata": {},
   "outputs": [],
   "source": [
    "dir_str = \"Datasets/data/processed.{}.data\"\n",
    "names = {\"age\":\"Age\",\"sex\":\"Sex\",\"cp\":\"Chest Pain Type\",\"trestbps\":\"Resting Blood Pressure\",\"chol\":\"Serum Cholestoral In mg/dl\",\n",
    "         \"fbs\":\"Fasting Blood Sugar > 120 mg/dl\",\"restecg\":\"Resting Electrocardiographic Results\",\"thalach\":\"Duration of Exercise In Minutes\",\n",
    "         \"exang\":\"Exercise Induced Angina\",\"oldpeak\":\"ST Depression Induced By Exercise\",\"slope\":\"The Slope of The Peak Exercise ST Segment\",\n",
    "         \"ca\":\"Number of Major Vessels\",\"thal\":\"Normal/Fixed or Reversable Defect\",\"num\":\"Presence\"\n",
    "        }\n",
    "convert_dict = {'sex': int,'cp': int,'fbs':int,'restecg':int,'exang':int,'slope':int,'ca':int,'num':int}\n",
    "columns = list(names.keys())"
   ]
  },
  {
   "cell_type": "code",
   "execution_count": 3,
   "id": "deadly-legislation",
   "metadata": {},
   "outputs": [
    {
     "name": "stdout",
     "output_type": "stream",
     "text": [
      "cleveland: Number of Rows: 303 x Number of Columns: 14 \n",
      "hungarian: Number of Rows: 294 x Number of Columns: 14 \n",
      "switzerland: Number of Rows: 123 x Number of Columns: 14 \n",
      "long beach: Number of Rows: 200 x Number of Columns: 14 \n",
      "======================================================================================================\n"
     ]
    },
    {
     "data": {
      "text/html": [
       "<div>\n",
       "<style scoped>\n",
       "    .dataframe tbody tr th:only-of-type {\n",
       "        vertical-align: middle;\n",
       "    }\n",
       "\n",
       "    .dataframe tbody tr th {\n",
       "        vertical-align: top;\n",
       "    }\n",
       "\n",
       "    .dataframe thead th {\n",
       "        text-align: right;\n",
       "    }\n",
       "</style>\n",
       "<table border=\"1\" class=\"dataframe\">\n",
       "  <thead>\n",
       "    <tr style=\"text-align: right;\">\n",
       "      <th></th>\n",
       "      <th>age</th>\n",
       "      <th>sex</th>\n",
       "      <th>cp</th>\n",
       "      <th>trestbps</th>\n",
       "      <th>chol</th>\n",
       "      <th>fbs</th>\n",
       "      <th>restecg</th>\n",
       "      <th>thalach</th>\n",
       "      <th>exang</th>\n",
       "      <th>oldpeak</th>\n",
       "      <th>slope</th>\n",
       "      <th>ca</th>\n",
       "      <th>thal</th>\n",
       "      <th>num</th>\n",
       "    </tr>\n",
       "  </thead>\n",
       "  <tbody>\n",
       "    <tr>\n",
       "      <th>0</th>\n",
       "      <td>63.0</td>\n",
       "      <td>1.0</td>\n",
       "      <td>1.0</td>\n",
       "      <td>145.0</td>\n",
       "      <td>233.0</td>\n",
       "      <td>1.0</td>\n",
       "      <td>2.0</td>\n",
       "      <td>150.0</td>\n",
       "      <td>0.0</td>\n",
       "      <td>2.3</td>\n",
       "      <td>3.0</td>\n",
       "      <td>0.0</td>\n",
       "      <td>6.0</td>\n",
       "      <td>0</td>\n",
       "    </tr>\n",
       "    <tr>\n",
       "      <th>1</th>\n",
       "      <td>67.0</td>\n",
       "      <td>1.0</td>\n",
       "      <td>4.0</td>\n",
       "      <td>160.0</td>\n",
       "      <td>286.0</td>\n",
       "      <td>0.0</td>\n",
       "      <td>2.0</td>\n",
       "      <td>108.0</td>\n",
       "      <td>1.0</td>\n",
       "      <td>1.5</td>\n",
       "      <td>2.0</td>\n",
       "      <td>3.0</td>\n",
       "      <td>3.0</td>\n",
       "      <td>2</td>\n",
       "    </tr>\n",
       "    <tr>\n",
       "      <th>2</th>\n",
       "      <td>67.0</td>\n",
       "      <td>1.0</td>\n",
       "      <td>4.0</td>\n",
       "      <td>120.0</td>\n",
       "      <td>229.0</td>\n",
       "      <td>0.0</td>\n",
       "      <td>2.0</td>\n",
       "      <td>129.0</td>\n",
       "      <td>1.0</td>\n",
       "      <td>2.6</td>\n",
       "      <td>2.0</td>\n",
       "      <td>2.0</td>\n",
       "      <td>7.0</td>\n",
       "      <td>1</td>\n",
       "    </tr>\n",
       "    <tr>\n",
       "      <th>3</th>\n",
       "      <td>37.0</td>\n",
       "      <td>1.0</td>\n",
       "      <td>3.0</td>\n",
       "      <td>130.0</td>\n",
       "      <td>250.0</td>\n",
       "      <td>0.0</td>\n",
       "      <td>0.0</td>\n",
       "      <td>187.0</td>\n",
       "      <td>0.0</td>\n",
       "      <td>3.5</td>\n",
       "      <td>3.0</td>\n",
       "      <td>0.0</td>\n",
       "      <td>3.0</td>\n",
       "      <td>0</td>\n",
       "    </tr>\n",
       "    <tr>\n",
       "      <th>4</th>\n",
       "      <td>41.0</td>\n",
       "      <td>0.0</td>\n",
       "      <td>2.0</td>\n",
       "      <td>130.0</td>\n",
       "      <td>204.0</td>\n",
       "      <td>0.0</td>\n",
       "      <td>2.0</td>\n",
       "      <td>172.0</td>\n",
       "      <td>0.0</td>\n",
       "      <td>1.4</td>\n",
       "      <td>1.0</td>\n",
       "      <td>0.0</td>\n",
       "      <td>3.0</td>\n",
       "      <td>0</td>\n",
       "    </tr>\n",
       "  </tbody>\n",
       "</table>\n",
       "</div>"
      ],
      "text/plain": [
       "    age  sex   cp  trestbps   chol  fbs  restecg  thalach  exang  oldpeak  \\\n",
       "0  63.0  1.0  1.0     145.0  233.0  1.0      2.0    150.0    0.0      2.3   \n",
       "1  67.0  1.0  4.0     160.0  286.0  0.0      2.0    108.0    1.0      1.5   \n",
       "2  67.0  1.0  4.0     120.0  229.0  0.0      2.0    129.0    1.0      2.6   \n",
       "3  37.0  1.0  3.0     130.0  250.0  0.0      0.0    187.0    0.0      3.5   \n",
       "4  41.0  0.0  2.0     130.0  204.0  0.0      2.0    172.0    0.0      1.4   \n",
       "\n",
       "   slope   ca  thal  num  \n",
       "0    3.0  0.0   6.0    0  \n",
       "1    2.0  3.0   3.0    2  \n",
       "2    2.0  2.0   7.0    1  \n",
       "3    3.0  0.0   3.0    0  \n",
       "4    1.0  0.0   3.0    0  "
      ]
     },
     "execution_count": 3,
     "metadata": {},
     "output_type": "execute_result"
    }
   ],
   "source": [
    "cleveland = pd.read_csv(dir_str.format(\"cleveland\"),names=columns,na_values='?')\n",
    "hungarian = pd.read_csv(dir_str.format(\"hungarian\"),names=columns,na_values='?')\n",
    "switzerland = pd.read_csv(dir_str.format(\"switzerland\"),names=columns,na_values='?')\n",
    "va = pd.read_csv(dir_str.format(\"va\"),names=columns,na_values='?')\n",
    "print(\"{}: Number of Rows: {} x Number of Columns: {} \".format(\"cleveland\",len(cleveland),len(cleveland.columns)))\n",
    "print(\"{}: Number of Rows: {} x Number of Columns: {} \".format(\"hungarian\",len(hungarian),len(hungarian.columns)))\n",
    "print(\"{}: Number of Rows: {} x Number of Columns: {} \".format(\"switzerland\",len(switzerland),len(switzerland.columns)))\n",
    "print(\"{}: Number of Rows: {} x Number of Columns: {} \".format(\"long beach\",len(va),len(va.columns)))\n",
    "print('======================================================================================================')\n",
    "cleveland.head()"
   ]
  },
  {
   "cell_type": "code",
   "execution_count": 4,
   "id": "capable-navigator",
   "metadata": {},
   "outputs": [
    {
     "data": {
      "text/html": [
       "<div>\n",
       "<style scoped>\n",
       "    .dataframe tbody tr th:only-of-type {\n",
       "        vertical-align: middle;\n",
       "    }\n",
       "\n",
       "    .dataframe tbody tr th {\n",
       "        vertical-align: top;\n",
       "    }\n",
       "\n",
       "    .dataframe thead th {\n",
       "        text-align: right;\n",
       "    }\n",
       "</style>\n",
       "<table border=\"1\" class=\"dataframe\">\n",
       "  <thead>\n",
       "    <tr style=\"text-align: right;\">\n",
       "      <th></th>\n",
       "      <th>Missing Values</th>\n",
       "    </tr>\n",
       "  </thead>\n",
       "  <tbody>\n",
       "    <tr>\n",
       "      <th>age</th>\n",
       "      <td>0</td>\n",
       "    </tr>\n",
       "    <tr>\n",
       "      <th>sex</th>\n",
       "      <td>0</td>\n",
       "    </tr>\n",
       "    <tr>\n",
       "      <th>cp</th>\n",
       "      <td>0</td>\n",
       "    </tr>\n",
       "    <tr>\n",
       "      <th>trestbps</th>\n",
       "      <td>59</td>\n",
       "    </tr>\n",
       "    <tr>\n",
       "      <th>chol</th>\n",
       "      <td>29</td>\n",
       "    </tr>\n",
       "    <tr>\n",
       "      <th>fbs</th>\n",
       "      <td>90</td>\n",
       "    </tr>\n",
       "    <tr>\n",
       "      <th>restecg</th>\n",
       "      <td>2</td>\n",
       "    </tr>\n",
       "    <tr>\n",
       "      <th>thalach</th>\n",
       "      <td>55</td>\n",
       "    </tr>\n",
       "    <tr>\n",
       "      <th>exang</th>\n",
       "      <td>55</td>\n",
       "    </tr>\n",
       "    <tr>\n",
       "      <th>oldpeak</th>\n",
       "      <td>62</td>\n",
       "    </tr>\n",
       "    <tr>\n",
       "      <th>slope</th>\n",
       "      <td>306</td>\n",
       "    </tr>\n",
       "    <tr>\n",
       "      <th>ca</th>\n",
       "      <td>607</td>\n",
       "    </tr>\n",
       "    <tr>\n",
       "      <th>thal</th>\n",
       "      <td>482</td>\n",
       "    </tr>\n",
       "    <tr>\n",
       "      <th>num</th>\n",
       "      <td>0</td>\n",
       "    </tr>\n",
       "  </tbody>\n",
       "</table>\n",
       "</div>"
      ],
      "text/plain": [
       "          Missing Values\n",
       "age                    0\n",
       "sex                    0\n",
       "cp                     0\n",
       "trestbps              59\n",
       "chol                  29\n",
       "fbs                   90\n",
       "restecg                2\n",
       "thalach               55\n",
       "exang                 55\n",
       "oldpeak               62\n",
       "slope                306\n",
       "ca                   607\n",
       "thal                 482\n",
       "num                    0"
      ]
     },
     "execution_count": 4,
     "metadata": {},
     "output_type": "execute_result"
    }
   ],
   "source": [
    "cleveland = dp.group_target(cleveland);hungarian =  dp.group_target(hungarian)\n",
    "switzerland = dp.group_target(switzerland);va =  dp.group_target(va)\n",
    "heart_data = pd.concat([cleveland,hungarian,switzerland,va])\n",
    "heart_data = heart_data.drop_duplicates()\n",
    "display_missing_info = pd.DataFrame(heart_data.isnull().sum())\n",
    "display_missing_info.rename(columns={0:\"Missing Values\"},inplace=True)\n",
    "display_missing_info"
   ]
  },
  {
   "cell_type": "markdown",
   "id": "scheduled-sullivan",
   "metadata": {},
   "source": [
    "<a id=\"section_3_2\" name=\"section_3_2\"></a>"
   ]
  },
  {
   "cell_type": "markdown",
   "id": "related-significance",
   "metadata": {},
   "source": [
    "<h4 style=\"color:lightcoral\"><strong>Missing Values</strong></h4>\n",
    "<strong style=\"color:lightcoral\">Goals</strong>: Create 3 different datasets from:\n",
    "\n",
    "> Dropping values\n",
    "\n",
    "> Replacing missing values with the modes"
   ]
  },
  {
   "cell_type": "code",
   "execution_count": 5,
   "id": "identified-forwarding",
   "metadata": {},
   "outputs": [],
   "source": [
    "# ============== Drop Missing Values\n",
    "drop_missing_cleveland = (cleveland.copy().dropna()).astype(convert_dict)\n",
    "drop_missing_hungarian = ( hungarian.copy().dropna()).astype(convert_dict)\n",
    "drop_missing_switzerland = (switzerland.copy().dropna()).astype(convert_dict)\n",
    "drop_missing_va = (va.copy().dropna()).astype(convert_dict)\n",
    "drop_missing_heart = (heart_data.copy().dropna()).astype(convert_dict) # This is the combined dataset\n",
    "\n",
    "\n",
    "# ================ Mode Dataset  - Missing values replaced with the mode\n",
    "mode_cleveland = ((dp.replace_missing_with_mode(cleveland.copy())).astype(convert_dict)).drop_duplicates()\n",
    "mode_hungarian = ((dp.replace_missing_with_mode(hungarian.copy())).astype(convert_dict)).drop_duplicates()\n",
    "mode_switzerland = ((dp.replace_missing_with_mode(switzerland.copy())).astype(convert_dict)).drop_duplicates()\n",
    "mode_va = ((dp.replace_missing_with_mode(va.copy())).astype(convert_dict)).drop_duplicates()\n",
    "mode_heart = ((dp.replace_missing_with_mode(heart_data.copy())).astype(convert_dict)).drop_duplicates()"
   ]
  },
  {
   "cell_type": "markdown",
   "id": "compliant-stomach",
   "metadata": {},
   "source": [
    "<a id=\"section_3_3\" name=\"section_3_3\"></a>"
   ]
  },
  {
   "cell_type": "markdown",
   "id": "genuine-vessel",
   "metadata": {},
   "source": [
    "<h4 style=\"color:lightcoral\"><strong>Encoding</strong></h4>\n",
    "<strong style=\"color:lightcoral\">Goals</strong>: Encode the data for model preparation\n",
    "\n",
    "> One-Hot encode dataset\n"
   ]
  },
  {
   "cell_type": "code",
   "execution_count": 6,
   "id": "legal-tongue",
   "metadata": {},
   "outputs": [],
   "source": [
    "# ============== Drop Missing Values\n",
    "encode_drop_missing_cleveland = dp.one_hot_encoding_2(drop_missing_cleveland)\n",
    "encode_drop_missing_hungarian = dp.one_hot_encoding_2(drop_missing_hungarian)\n",
    "encode_drop_missing_switzerland = dp.one_hot_encoding_2(drop_missing_switzerland)\n",
    "encode_drop_missing_va = dp.one_hot_encoding_2(drop_missing_va)\n",
    "encode_drop_missing_heart = dp.one_hot_encoding_2(drop_missing_heart)\n",
    "\n",
    "# ================ Mode Dataset  - Missing values replaced with the mode\n",
    "encode_mode_cleveland = dp.one_hot_encoding_2(mode_cleveland)\n",
    "encode_mode_hungarian = dp.one_hot_encoding_2(mode_hungarian)\n",
    "encode_mode_switzerland = dp.one_hot_encoding_2(mode_switzerland)\n",
    "encode_mode_va = dp.one_hot_encoding_2(mode_va)\n",
    "encode_mode_heart = dp.one_hot_encoding_2(mode_heart)"
   ]
  },
  {
   "cell_type": "markdown",
   "id": "legitimate-oakland",
   "metadata": {},
   "source": [
    "<a id=\"section_3_5\" name=\"section_3_5\"></a>"
   ]
  },
  {
   "cell_type": "markdown",
   "id": "following-telescope",
   "metadata": {},
   "source": [
    "<h4 style=\"color:lightcoral\"><strong>Exploratory Analysis and Data Visualization</strong></h4>\n",
    "\n",
    "\n",
    "> Countplots\n",
    "\n",
    "> Histogram\n",
    "\n",
    "> Box Plot\n"
   ]
  },
  {
   "cell_type": "code",
   "execution_count": 7,
   "id": "solid-greene",
   "metadata": {},
   "outputs": [
    {
     "data": {
      "text/html": [
       "<div>\n",
       "<style scoped>\n",
       "    .dataframe tbody tr th:only-of-type {\n",
       "        vertical-align: middle;\n",
       "    }\n",
       "\n",
       "    .dataframe tbody tr th {\n",
       "        vertical-align: top;\n",
       "    }\n",
       "\n",
       "    .dataframe thead th {\n",
       "        text-align: right;\n",
       "    }\n",
       "</style>\n",
       "<table border=\"1\" class=\"dataframe\">\n",
       "  <thead>\n",
       "    <tr style=\"text-align: right;\">\n",
       "      <th></th>\n",
       "      <th>age</th>\n",
       "      <th>sex</th>\n",
       "      <th>cp</th>\n",
       "      <th>trestbps</th>\n",
       "      <th>chol</th>\n",
       "      <th>fbs</th>\n",
       "      <th>restecg</th>\n",
       "      <th>thalach</th>\n",
       "      <th>exang</th>\n",
       "      <th>oldpeak</th>\n",
       "      <th>slope</th>\n",
       "      <th>ca</th>\n",
       "      <th>thal</th>\n",
       "      <th>num</th>\n",
       "    </tr>\n",
       "  </thead>\n",
       "  <tbody>\n",
       "    <tr>\n",
       "      <th>0</th>\n",
       "      <td>63.0</td>\n",
       "      <td>1</td>\n",
       "      <td>1</td>\n",
       "      <td>145.0</td>\n",
       "      <td>233.0</td>\n",
       "      <td>1</td>\n",
       "      <td>1</td>\n",
       "      <td>150.0</td>\n",
       "      <td>0</td>\n",
       "      <td>2.3</td>\n",
       "      <td>1</td>\n",
       "      <td>0</td>\n",
       "      <td>6.0</td>\n",
       "      <td>0</td>\n",
       "    </tr>\n",
       "    <tr>\n",
       "      <th>1</th>\n",
       "      <td>67.0</td>\n",
       "      <td>1</td>\n",
       "      <td>1</td>\n",
       "      <td>160.0</td>\n",
       "      <td>286.0</td>\n",
       "      <td>0</td>\n",
       "      <td>1</td>\n",
       "      <td>108.0</td>\n",
       "      <td>1</td>\n",
       "      <td>1.5</td>\n",
       "      <td>1</td>\n",
       "      <td>1</td>\n",
       "      <td>1.0</td>\n",
       "      <td>1</td>\n",
       "    </tr>\n",
       "    <tr>\n",
       "      <th>2</th>\n",
       "      <td>67.0</td>\n",
       "      <td>1</td>\n",
       "      <td>1</td>\n",
       "      <td>120.0</td>\n",
       "      <td>229.0</td>\n",
       "      <td>0</td>\n",
       "      <td>1</td>\n",
       "      <td>129.0</td>\n",
       "      <td>1</td>\n",
       "      <td>2.6</td>\n",
       "      <td>1</td>\n",
       "      <td>1</td>\n",
       "      <td>7.0</td>\n",
       "      <td>1</td>\n",
       "    </tr>\n",
       "    <tr>\n",
       "      <th>3</th>\n",
       "      <td>37.0</td>\n",
       "      <td>1</td>\n",
       "      <td>1</td>\n",
       "      <td>130.0</td>\n",
       "      <td>250.0</td>\n",
       "      <td>0</td>\n",
       "      <td>0</td>\n",
       "      <td>187.0</td>\n",
       "      <td>0</td>\n",
       "      <td>3.5</td>\n",
       "      <td>1</td>\n",
       "      <td>0</td>\n",
       "      <td>1.0</td>\n",
       "      <td>0</td>\n",
       "    </tr>\n",
       "    <tr>\n",
       "      <th>4</th>\n",
       "      <td>41.0</td>\n",
       "      <td>0</td>\n",
       "      <td>1</td>\n",
       "      <td>130.0</td>\n",
       "      <td>204.0</td>\n",
       "      <td>0</td>\n",
       "      <td>1</td>\n",
       "      <td>172.0</td>\n",
       "      <td>0</td>\n",
       "      <td>1.4</td>\n",
       "      <td>1</td>\n",
       "      <td>0</td>\n",
       "      <td>1.0</td>\n",
       "      <td>0</td>\n",
       "    </tr>\n",
       "    <tr>\n",
       "      <th>...</th>\n",
       "      <td>...</td>\n",
       "      <td>...</td>\n",
       "      <td>...</td>\n",
       "      <td>...</td>\n",
       "      <td>...</td>\n",
       "      <td>...</td>\n",
       "      <td>...</td>\n",
       "      <td>...</td>\n",
       "      <td>...</td>\n",
       "      <td>...</td>\n",
       "      <td>...</td>\n",
       "      <td>...</td>\n",
       "      <td>...</td>\n",
       "      <td>...</td>\n",
       "    </tr>\n",
       "    <tr>\n",
       "      <th>297</th>\n",
       "      <td>57.0</td>\n",
       "      <td>0</td>\n",
       "      <td>1</td>\n",
       "      <td>140.0</td>\n",
       "      <td>241.0</td>\n",
       "      <td>0</td>\n",
       "      <td>0</td>\n",
       "      <td>123.0</td>\n",
       "      <td>1</td>\n",
       "      <td>0.2</td>\n",
       "      <td>1</td>\n",
       "      <td>0</td>\n",
       "      <td>7.0</td>\n",
       "      <td>1</td>\n",
       "    </tr>\n",
       "    <tr>\n",
       "      <th>298</th>\n",
       "      <td>45.0</td>\n",
       "      <td>1</td>\n",
       "      <td>1</td>\n",
       "      <td>110.0</td>\n",
       "      <td>264.0</td>\n",
       "      <td>0</td>\n",
       "      <td>0</td>\n",
       "      <td>132.0</td>\n",
       "      <td>0</td>\n",
       "      <td>1.2</td>\n",
       "      <td>1</td>\n",
       "      <td>0</td>\n",
       "      <td>7.0</td>\n",
       "      <td>1</td>\n",
       "    </tr>\n",
       "    <tr>\n",
       "      <th>299</th>\n",
       "      <td>68.0</td>\n",
       "      <td>1</td>\n",
       "      <td>1</td>\n",
       "      <td>144.0</td>\n",
       "      <td>193.0</td>\n",
       "      <td>1</td>\n",
       "      <td>0</td>\n",
       "      <td>141.0</td>\n",
       "      <td>0</td>\n",
       "      <td>3.4</td>\n",
       "      <td>1</td>\n",
       "      <td>1</td>\n",
       "      <td>7.0</td>\n",
       "      <td>1</td>\n",
       "    </tr>\n",
       "    <tr>\n",
       "      <th>300</th>\n",
       "      <td>57.0</td>\n",
       "      <td>1</td>\n",
       "      <td>1</td>\n",
       "      <td>130.0</td>\n",
       "      <td>131.0</td>\n",
       "      <td>0</td>\n",
       "      <td>0</td>\n",
       "      <td>115.0</td>\n",
       "      <td>1</td>\n",
       "      <td>1.2</td>\n",
       "      <td>1</td>\n",
       "      <td>1</td>\n",
       "      <td>7.0</td>\n",
       "      <td>1</td>\n",
       "    </tr>\n",
       "    <tr>\n",
       "      <th>301</th>\n",
       "      <td>57.0</td>\n",
       "      <td>0</td>\n",
       "      <td>1</td>\n",
       "      <td>130.0</td>\n",
       "      <td>236.0</td>\n",
       "      <td>0</td>\n",
       "      <td>1</td>\n",
       "      <td>174.0</td>\n",
       "      <td>0</td>\n",
       "      <td>0.0</td>\n",
       "      <td>1</td>\n",
       "      <td>1</td>\n",
       "      <td>1.0</td>\n",
       "      <td>1</td>\n",
       "    </tr>\n",
       "  </tbody>\n",
       "</table>\n",
       "<p>297 rows × 14 columns</p>\n",
       "</div>"
      ],
      "text/plain": [
       "      age  sex  cp  trestbps   chol  fbs  restecg  thalach  exang  oldpeak  \\\n",
       "0    63.0    1   1     145.0  233.0    1        1    150.0      0      2.3   \n",
       "1    67.0    1   1     160.0  286.0    0        1    108.0      1      1.5   \n",
       "2    67.0    1   1     120.0  229.0    0        1    129.0      1      2.6   \n",
       "3    37.0    1   1     130.0  250.0    0        0    187.0      0      3.5   \n",
       "4    41.0    0   1     130.0  204.0    0        1    172.0      0      1.4   \n",
       "..    ...  ...  ..       ...    ...  ...      ...      ...    ...      ...   \n",
       "297  57.0    0   1     140.0  241.0    0        0    123.0      1      0.2   \n",
       "298  45.0    1   1     110.0  264.0    0        0    132.0      0      1.2   \n",
       "299  68.0    1   1     144.0  193.0    1        0    141.0      0      3.4   \n",
       "300  57.0    1   1     130.0  131.0    0        0    115.0      1      1.2   \n",
       "301  57.0    0   1     130.0  236.0    0        1    174.0      0      0.0   \n",
       "\n",
       "     slope  ca  thal  num  \n",
       "0        1   0   6.0    0  \n",
       "1        1   1   1.0    1  \n",
       "2        1   1   7.0    1  \n",
       "3        1   0   1.0    0  \n",
       "4        1   0   1.0    0  \n",
       "..     ...  ..   ...  ...  \n",
       "297      1   0   7.0    1  \n",
       "298      1   0   7.0    1  \n",
       "299      1   1   7.0    1  \n",
       "300      1   1   7.0    1  \n",
       "301      1   1   1.0    1  \n",
       "\n",
       "[297 rows x 14 columns]"
      ]
     },
     "execution_count": 7,
     "metadata": {},
     "output_type": "execute_result"
    }
   ],
   "source": [
    "categories = list(convert_dict.keys())\n",
    "continuous = list(filter(lambda x:x not in categories,drop_missing_cleveland.columns))\n",
    "drop_missing_cleveland"
   ]
  },
  {
   "cell_type": "markdown",
   "id": "desirable-gregory",
   "metadata": {},
   "source": [
    "Below is a count plot such that the y-axis is given by the age and the x-axis by the sex.\n",
    "0 represents the females and 1 represents the males. Num(legend) is the target class where 0 is absence and 1 is presence of heart disease. Given the below plot, we can see that mostly women, on average, contribute mostly to having heart diseaase and their relative age is around 50 and 60"
   ]
  },
  {
   "cell_type": "code",
   "execution_count": 8,
   "id": "mexican-tooth",
   "metadata": {},
   "outputs": [
    {
     "data": {
      "text/plain": [
       "<AxesSubplot:xlabel='sex', ylabel='age'>"
      ]
     },
     "execution_count": 8,
     "metadata": {},
     "output_type": "execute_result"
    },
    {
     "data": {
      "image/png": "[encoded data removed]",
      "text/plain": [
       "<Figure size 432x288 with 1 Axes>"
      ]
     },
     "metadata": {
      "needs_background": "light"
     },
     "output_type": "display_data"
    }
   ],
   "source": [
    "description_dataset = dp.make_description_dataset(drop_missing_cleveland,categories)\n",
    "sns.barplot(x=\"sex\", y=\"age\", data=drop_missing_cleveland,hue='num')"
   ]
  },
  {
   "cell_type": "markdown",
   "id": "instructional-volume",
   "metadata": {},
   "source": [
    "Below, we can note that the dataset is relatively balanced. There is no indication of one target class overwhleming the other."
   ]
  },
  {
   "cell_type": "code",
   "execution_count": 9,
   "id": "dramatic-hamburg",
   "metadata": {},
   "outputs": [
    {
     "data": {
      "text/plain": [
       "<AxesSubplot:xlabel='num', ylabel='count'>"
      ]
     },
     "execution_count": 9,
     "metadata": {},
     "output_type": "execute_result"
    },
    {
     "data": {
      "image/png": "[encoded data removed]",
      "text/plain": [
       "<Figure size 432x288 with 1 Axes>"
      ]
     },
     "metadata": {
      "needs_background": "light"
     },
     "output_type": "display_data"
    }
   ],
   "source": [
    "sns.countplot(x=\"num\",data=description_dataset)"
   ]
  },
  {
   "cell_type": "markdown",
   "id": "likely-savings",
   "metadata": {},
   "source": [
    "Below is the bar graphs that represent how many unique values exist for each feature. This allows us to see the distribution of the data and determine whether there is an overwhelming obersvation from each attribute"
   ]
  },
  {
   "cell_type": "code",
   "execution_count": 10,
   "id": "critical-medication",
   "metadata": {},
   "outputs": [
    {
     "data": {
      "image/png": "[encoded data removed]",
      "text/plain": [
       "<Figure size 1080x720 with 6 Axes>"
      ]
     },
     "metadata": {
      "needs_background": "light"
     },
     "output_type": "display_data"
    }
   ],
   "source": [
    "dv.count_plot_categories(description_dataset,categories,names)"
   ]
  },
  {
   "cell_type": "markdown",
   "id": "little-dayton",
   "metadata": {},
   "source": [
    "Below is the distribution of feature values for each attribute where the each attribute is separated by whether a patient has heart disease or not"
   ]
  },
  {
   "cell_type": "code",
   "execution_count": 11,
   "id": "compressed-problem",
   "metadata": {},
   "outputs": [
    {
     "data": {
      "image/png": "[encoded data removed]",
      "text/plain": [
       "<Figure size 1080x720 with 6 Axes>"
      ]
     },
     "metadata": {
      "needs_background": "light"
     },
     "output_type": "display_data"
    }
   ],
   "source": [
    "dv.hist_plot_continuous(drop_missing_cleveland,continuous,names,n=3,m=2,hue='num')"
   ]
  },
  {
   "cell_type": "markdown",
   "id": "clinical-documentation",
   "metadata": {},
   "source": [
    "Below is the box plot representing the summary statistics of each attribute. This allows us to summarize the distribution of each attribute to get an understanding of the data. We can see the following means \n",
    "* <strong>Age</strong>: Approx 55\n",
    "* <strong>Resting Blood Pressure</strong>: 130\n",
    "* <strong>Cholestoral</strong>: Approx 250 in mg\n",
    "* <strong>Duration of Exercise </strong>: Approx 155 Minutes"
   ]
  },
  {
   "cell_type": "code",
   "execution_count": 12,
   "id": "derived-disco",
   "metadata": {},
   "outputs": [
    {
     "data": {
      "image/png": "[encoded data removed]",
      "text/plain": [
       "<Figure size 1080x720 with 6 Axes>"
      ]
     },
     "metadata": {
      "needs_background": "light"
     },
     "output_type": "display_data"
    }
   ],
   "source": [
    "dv.box_plot_continuous(drop_missing_cleveland,continuous,names,n=3,m=2,hue='num')"
   ]
  },
  {
   "cell_type": "markdown",
   "id": "other-parade",
   "metadata": {},
   "source": [
    "<a id=\"chapter_4\" name=\"chapter_4\"></a>"
   ]
  },
  {
   "cell_type": "markdown",
   "id": "joint-andorra",
   "metadata": {},
   "source": [
    "<h2 style=\"text-align:center\">Predicting Heart Disease Using Logistic Regression</h2>\n",
    "\n",
    "> Train a model to predict heart disease \n",
    "> * Perform Hyperparameter Tuning\n",
    "\n",
    "> Optimize the model to predict heart disease \n",
    "> * Perform Hyperparameter Tuning\n",
    "\n",
    "> Train a state of the art algorithm\n",
    "\n",
    "> Compare the three models and interpret the results\n",
    "\n",
    "\n",
    "> Finalize the choice of the final model"
   ]
  },
  {
   "cell_type": "markdown",
   "id": "early-wichita",
   "metadata": {},
   "source": [
    "<a id=\"section_4_1\" name=\"section_4_1\"></a>"
   ]
  },
  {
   "cell_type": "markdown",
   "id": "alleged-fleet",
   "metadata": {},
   "source": [
    "<h4 style=\"color:lightcoral\"><strong>Data Preparation</strong></h4>\n",
    "\n",
    "> Train Validation Test Split\n",
    "\n",
    "> Using the dataset that dropped the missing values\n",
    "\n",
    "> Set the hyperparameters of the model\n"
   ]
  },
  {
   "cell_type": "code",
   "execution_count": 13,
   "id": "exposed-upgrade",
   "metadata": {},
   "outputs": [
    {
     "data": {
      "text/html": [
       "<div>\n",
       "<style scoped>\n",
       "    .dataframe tbody tr th:only-of-type {\n",
       "        vertical-align: middle;\n",
       "    }\n",
       "\n",
       "    .dataframe tbody tr th {\n",
       "        vertical-align: top;\n",
       "    }\n",
       "\n",
       "    .dataframe thead th {\n",
       "        text-align: right;\n",
       "    }\n",
       "</style>\n",
       "<table border=\"1\" class=\"dataframe\">\n",
       "  <thead>\n",
       "    <tr style=\"text-align: right;\">\n",
       "      <th></th>\n",
       "      <th>Bias</th>\n",
       "      <th>age</th>\n",
       "      <th>trestbps</th>\n",
       "      <th>chol</th>\n",
       "      <th>thalach</th>\n",
       "      <th>oldpeak</th>\n",
       "      <th>thal</th>\n",
       "      <th>sex_0</th>\n",
       "      <th>sex_1</th>\n",
       "      <th>cp_1</th>\n",
       "      <th>...</th>\n",
       "      <th>fbs_1</th>\n",
       "      <th>restecg_0</th>\n",
       "      <th>restecg_1</th>\n",
       "      <th>exang_0</th>\n",
       "      <th>exang_1</th>\n",
       "      <th>slope_1</th>\n",
       "      <th>slope_2</th>\n",
       "      <th>ca_0</th>\n",
       "      <th>ca_1</th>\n",
       "      <th>num</th>\n",
       "    </tr>\n",
       "  </thead>\n",
       "  <tbody>\n",
       "    <tr>\n",
       "      <th>0</th>\n",
       "      <td>1.0</td>\n",
       "      <td>0.479167</td>\n",
       "      <td>0.169811</td>\n",
       "      <td>0.280172</td>\n",
       "      <td>0.679389</td>\n",
       "      <td>0.000000</td>\n",
       "      <td>0.000000</td>\n",
       "      <td>0.0</td>\n",
       "      <td>1.0</td>\n",
       "      <td>1.0</td>\n",
       "      <td>...</td>\n",
       "      <td>0.0</td>\n",
       "      <td>1.0</td>\n",
       "      <td>0.0</td>\n",
       "      <td>1.0</td>\n",
       "      <td>0.0</td>\n",
       "      <td>1.0</td>\n",
       "      <td>0.0</td>\n",
       "      <td>0.0</td>\n",
       "      <td>1.0</td>\n",
       "      <td>1</td>\n",
       "    </tr>\n",
       "    <tr>\n",
       "      <th>1</th>\n",
       "      <td>1.0</td>\n",
       "      <td>0.458333</td>\n",
       "      <td>0.433962</td>\n",
       "      <td>0.346983</td>\n",
       "      <td>0.877863</td>\n",
       "      <td>0.000000</td>\n",
       "      <td>0.000000</td>\n",
       "      <td>0.0</td>\n",
       "      <td>1.0</td>\n",
       "      <td>1.0</td>\n",
       "      <td>...</td>\n",
       "      <td>0.0</td>\n",
       "      <td>0.0</td>\n",
       "      <td>1.0</td>\n",
       "      <td>0.0</td>\n",
       "      <td>1.0</td>\n",
       "      <td>1.0</td>\n",
       "      <td>0.0</td>\n",
       "      <td>1.0</td>\n",
       "      <td>0.0</td>\n",
       "      <td>0</td>\n",
       "    </tr>\n",
       "    <tr>\n",
       "      <th>2</th>\n",
       "      <td>1.0</td>\n",
       "      <td>0.729167</td>\n",
       "      <td>0.433962</td>\n",
       "      <td>0.506466</td>\n",
       "      <td>0.664122</td>\n",
       "      <td>0.000000</td>\n",
       "      <td>0.000000</td>\n",
       "      <td>0.0</td>\n",
       "      <td>1.0</td>\n",
       "      <td>1.0</td>\n",
       "      <td>...</td>\n",
       "      <td>0.0</td>\n",
       "      <td>1.0</td>\n",
       "      <td>0.0</td>\n",
       "      <td>1.0</td>\n",
       "      <td>0.0</td>\n",
       "      <td>1.0</td>\n",
       "      <td>0.0</td>\n",
       "      <td>1.0</td>\n",
       "      <td>0.0</td>\n",
       "      <td>1</td>\n",
       "    </tr>\n",
       "    <tr>\n",
       "      <th>3</th>\n",
       "      <td>1.0</td>\n",
       "      <td>0.250000</td>\n",
       "      <td>0.245283</td>\n",
       "      <td>0.122845</td>\n",
       "      <td>0.847328</td>\n",
       "      <td>0.000000</td>\n",
       "      <td>0.000000</td>\n",
       "      <td>0.0</td>\n",
       "      <td>1.0</td>\n",
       "      <td>1.0</td>\n",
       "      <td>...</td>\n",
       "      <td>0.0</td>\n",
       "      <td>1.0</td>\n",
       "      <td>0.0</td>\n",
       "      <td>1.0</td>\n",
       "      <td>0.0</td>\n",
       "      <td>1.0</td>\n",
       "      <td>0.0</td>\n",
       "      <td>1.0</td>\n",
       "      <td>0.0</td>\n",
       "      <td>0</td>\n",
       "    </tr>\n",
       "    <tr>\n",
       "      <th>4</th>\n",
       "      <td>1.0</td>\n",
       "      <td>0.625000</td>\n",
       "      <td>0.716981</td>\n",
       "      <td>0.405172</td>\n",
       "      <td>0.671756</td>\n",
       "      <td>0.032258</td>\n",
       "      <td>1.000000</td>\n",
       "      <td>0.0</td>\n",
       "      <td>1.0</td>\n",
       "      <td>1.0</td>\n",
       "      <td>...</td>\n",
       "      <td>0.0</td>\n",
       "      <td>0.0</td>\n",
       "      <td>1.0</td>\n",
       "      <td>1.0</td>\n",
       "      <td>0.0</td>\n",
       "      <td>1.0</td>\n",
       "      <td>0.0</td>\n",
       "      <td>1.0</td>\n",
       "      <td>0.0</td>\n",
       "      <td>1</td>\n",
       "    </tr>\n",
       "    <tr>\n",
       "      <th>...</th>\n",
       "      <td>...</td>\n",
       "      <td>...</td>\n",
       "      <td>...</td>\n",
       "      <td>...</td>\n",
       "      <td>...</td>\n",
       "      <td>...</td>\n",
       "      <td>...</td>\n",
       "      <td>...</td>\n",
       "      <td>...</td>\n",
       "      <td>...</td>\n",
       "      <td>...</td>\n",
       "      <td>...</td>\n",
       "      <td>...</td>\n",
       "      <td>...</td>\n",
       "      <td>...</td>\n",
       "      <td>...</td>\n",
       "      <td>...</td>\n",
       "      <td>...</td>\n",
       "      <td>...</td>\n",
       "      <td>...</td>\n",
       "      <td>...</td>\n",
       "    </tr>\n",
       "    <tr>\n",
       "      <th>294</th>\n",
       "      <td>1.0</td>\n",
       "      <td>0.500000</td>\n",
       "      <td>0.339623</td>\n",
       "      <td>0.353448</td>\n",
       "      <td>0.549618</td>\n",
       "      <td>0.064516</td>\n",
       "      <td>0.000000</td>\n",
       "      <td>1.0</td>\n",
       "      <td>0.0</td>\n",
       "      <td>1.0</td>\n",
       "      <td>...</td>\n",
       "      <td>0.0</td>\n",
       "      <td>0.0</td>\n",
       "      <td>1.0</td>\n",
       "      <td>1.0</td>\n",
       "      <td>0.0</td>\n",
       "      <td>1.0</td>\n",
       "      <td>0.0</td>\n",
       "      <td>1.0</td>\n",
       "      <td>0.0</td>\n",
       "      <td>0</td>\n",
       "    </tr>\n",
       "    <tr>\n",
       "      <th>295</th>\n",
       "      <td>1.0</td>\n",
       "      <td>0.583333</td>\n",
       "      <td>0.528302</td>\n",
       "      <td>0.379310</td>\n",
       "      <td>0.312977</td>\n",
       "      <td>0.096774</td>\n",
       "      <td>0.833333</td>\n",
       "      <td>0.0</td>\n",
       "      <td>1.0</td>\n",
       "      <td>1.0</td>\n",
       "      <td>...</td>\n",
       "      <td>0.0</td>\n",
       "      <td>0.0</td>\n",
       "      <td>1.0</td>\n",
       "      <td>0.0</td>\n",
       "      <td>1.0</td>\n",
       "      <td>1.0</td>\n",
       "      <td>0.0</td>\n",
       "      <td>0.0</td>\n",
       "      <td>1.0</td>\n",
       "      <td>1</td>\n",
       "    </tr>\n",
       "    <tr>\n",
       "      <th>296</th>\n",
       "      <td>1.0</td>\n",
       "      <td>0.604167</td>\n",
       "      <td>0.490566</td>\n",
       "      <td>0.254310</td>\n",
       "      <td>0.259542</td>\n",
       "      <td>0.161290</td>\n",
       "      <td>1.000000</td>\n",
       "      <td>0.0</td>\n",
       "      <td>1.0</td>\n",
       "      <td>1.0</td>\n",
       "      <td>...</td>\n",
       "      <td>0.0</td>\n",
       "      <td>1.0</td>\n",
       "      <td>0.0</td>\n",
       "      <td>1.0</td>\n",
       "      <td>0.0</td>\n",
       "      <td>1.0</td>\n",
       "      <td>0.0</td>\n",
       "      <td>0.0</td>\n",
       "      <td>1.0</td>\n",
       "      <td>1</td>\n",
       "    </tr>\n",
       "    <tr>\n",
       "      <th>297</th>\n",
       "      <td>1.0</td>\n",
       "      <td>0.520833</td>\n",
       "      <td>0.264151</td>\n",
       "      <td>0.400862</td>\n",
       "      <td>0.343511</td>\n",
       "      <td>0.516129</td>\n",
       "      <td>0.000000</td>\n",
       "      <td>0.0</td>\n",
       "      <td>1.0</td>\n",
       "      <td>1.0</td>\n",
       "      <td>...</td>\n",
       "      <td>0.0</td>\n",
       "      <td>0.0</td>\n",
       "      <td>1.0</td>\n",
       "      <td>0.0</td>\n",
       "      <td>1.0</td>\n",
       "      <td>1.0</td>\n",
       "      <td>0.0</td>\n",
       "      <td>0.0</td>\n",
       "      <td>1.0</td>\n",
       "      <td>1</td>\n",
       "    </tr>\n",
       "    <tr>\n",
       "      <th>298</th>\n",
       "      <td>1.0</td>\n",
       "      <td>0.562500</td>\n",
       "      <td>1.000000</td>\n",
       "      <td>0.405172</td>\n",
       "      <td>0.473282</td>\n",
       "      <td>0.161290</td>\n",
       "      <td>1.000000</td>\n",
       "      <td>1.0</td>\n",
       "      <td>0.0</td>\n",
       "      <td>1.0</td>\n",
       "      <td>...</td>\n",
       "      <td>1.0</td>\n",
       "      <td>0.0</td>\n",
       "      <td>1.0</td>\n",
       "      <td>0.0</td>\n",
       "      <td>1.0</td>\n",
       "      <td>1.0</td>\n",
       "      <td>0.0</td>\n",
       "      <td>0.0</td>\n",
       "      <td>1.0</td>\n",
       "      <td>1</td>\n",
       "    </tr>\n",
       "  </tbody>\n",
       "</table>\n",
       "<p>299 rows × 22 columns</p>\n",
       "</div>"
      ],
      "text/plain": [
       "     Bias       age  trestbps      chol   thalach   oldpeak      thal  sex_0  \\\n",
       "0     1.0  0.479167  0.169811  0.280172  0.679389  0.000000  0.000000    0.0   \n",
       "1     1.0  0.458333  0.433962  0.346983  0.877863  0.000000  0.000000    0.0   \n",
       "2     1.0  0.729167  0.433962  0.506466  0.664122  0.000000  0.000000    0.0   \n",
       "3     1.0  0.250000  0.245283  0.122845  0.847328  0.000000  0.000000    0.0   \n",
       "4     1.0  0.625000  0.716981  0.405172  0.671756  0.032258  1.000000    0.0   \n",
       "..    ...       ...       ...       ...       ...       ...       ...    ...   \n",
       "294   1.0  0.500000  0.339623  0.353448  0.549618  0.064516  0.000000    1.0   \n",
       "295   1.0  0.583333  0.528302  0.379310  0.312977  0.096774  0.833333    0.0   \n",
       "296   1.0  0.604167  0.490566  0.254310  0.259542  0.161290  1.000000    0.0   \n",
       "297   1.0  0.520833  0.264151  0.400862  0.343511  0.516129  0.000000    0.0   \n",
       "298   1.0  0.562500  1.000000  0.405172  0.473282  0.161290  1.000000    1.0   \n",
       "\n",
       "     sex_1  cp_1  ...  fbs_1  restecg_0  restecg_1  exang_0  exang_1  slope_1  \\\n",
       "0      1.0   1.0  ...    0.0        1.0        0.0      1.0      0.0      1.0   \n",
       "1      1.0   1.0  ...    0.0        0.0        1.0      0.0      1.0      1.0   \n",
       "2      1.0   1.0  ...    0.0        1.0        0.0      1.0      0.0      1.0   \n",
       "3      1.0   1.0  ...    0.0        1.0        0.0      1.0      0.0      1.0   \n",
       "4      1.0   1.0  ...    0.0        0.0        1.0      1.0      0.0      1.0   \n",
       "..     ...   ...  ...    ...        ...        ...      ...      ...      ...   \n",
       "294    0.0   1.0  ...    0.0        0.0        1.0      1.0      0.0      1.0   \n",
       "295    1.0   1.0  ...    0.0        0.0        1.0      0.0      1.0      1.0   \n",
       "296    1.0   1.0  ...    0.0        1.0        0.0      1.0      0.0      1.0   \n",
       "297    1.0   1.0  ...    0.0        0.0        1.0      0.0      1.0      1.0   \n",
       "298    0.0   1.0  ...    1.0        0.0        1.0      0.0      1.0      1.0   \n",
       "\n",
       "     slope_2  ca_0  ca_1  num  \n",
       "0        0.0   0.0   1.0    1  \n",
       "1        0.0   1.0   0.0    0  \n",
       "2        0.0   1.0   0.0    1  \n",
       "3        0.0   1.0   0.0    0  \n",
       "4        0.0   1.0   0.0    1  \n",
       "..       ...   ...   ...  ...  \n",
       "294      0.0   1.0   0.0    0  \n",
       "295      0.0   0.0   1.0    1  \n",
       "296      0.0   0.0   1.0    1  \n",
       "297      0.0   0.0   1.0    1  \n",
       "298      0.0   0.0   1.0    1  \n",
       "\n",
       "[299 rows x 22 columns]"
      ]
     },
     "execution_count": 13,
     "metadata": {},
     "output_type": "execute_result"
    }
   ],
   "source": [
    "model_dataset = encode_drop_missing_heart.copy()\n",
    "model_dataset = dp.minmax_scale(model_dataset)\n",
    "model_dataset = dp.add_bias(model_dataset)\n",
    "model_dataset = model_dataset.sample(frac=1).reset_index(drop=True)\n",
    "model_dataset"
   ]
  },
  {
   "cell_type": "code",
   "execution_count": 14,
   "id": "ordinary-iceland",
   "metadata": {},
   "outputs": [],
   "source": [
    "X = model_dataset.iloc[:,:-1]\n",
    "y = model_dataset.iloc[:,-1] # # X_train, X_test, y_train, y_test = train_test_split(X, y, test_size=0.33, random_state=42)\n",
    "sixty_split =  int(len(model_dataset) * 0.6)\n",
    "twenty_split = int(len(model_dataset) * 0.2)\n",
    "X_train = X.iloc[:sixty_split];X_valid = X.iloc[sixty_split:sixty_split+twenty_split];X_test = X.iloc[sixty_split+twenty_split:]\n",
    "y_train = y.iloc[:sixty_split];y_valid = y.iloc[sixty_split:sixty_split+twenty_split];y_test = y.iloc[sixty_split+twenty_split:]"
   ]
  },
  {
   "cell_type": "code",
   "execution_count": 15,
   "id": "stretch-python",
   "metadata": {},
   "outputs": [
    {
     "data": {
      "text/html": [
       "<div>\n",
       "<style scoped>\n",
       "    .dataframe tbody tr th:only-of-type {\n",
       "        vertical-align: middle;\n",
       "    }\n",
       "\n",
       "    .dataframe tbody tr th {\n",
       "        vertical-align: top;\n",
       "    }\n",
       "\n",
       "    .dataframe thead th {\n",
       "        text-align: right;\n",
       "    }\n",
       "</style>\n",
       "<table border=\"1\" class=\"dataframe\">\n",
       "  <thead>\n",
       "    <tr style=\"text-align: right;\">\n",
       "      <th></th>\n",
       "      <th>Bias</th>\n",
       "      <th>age</th>\n",
       "      <th>trestbps</th>\n",
       "      <th>chol</th>\n",
       "      <th>thalach</th>\n",
       "      <th>oldpeak</th>\n",
       "      <th>thal</th>\n",
       "      <th>sex_0</th>\n",
       "      <th>sex_1</th>\n",
       "      <th>cp_1</th>\n",
       "      <th>...</th>\n",
       "      <th>fbs_1</th>\n",
       "      <th>restecg_0</th>\n",
       "      <th>restecg_1</th>\n",
       "      <th>exang_0</th>\n",
       "      <th>exang_1</th>\n",
       "      <th>slope_1</th>\n",
       "      <th>slope_2</th>\n",
       "      <th>ca_0</th>\n",
       "      <th>ca_1</th>\n",
       "      <th>num</th>\n",
       "    </tr>\n",
       "  </thead>\n",
       "  <tbody>\n",
       "    <tr>\n",
       "      <th>238</th>\n",
       "      <td>1.0</td>\n",
       "      <td>0.583333</td>\n",
       "      <td>0.339623</td>\n",
       "      <td>0.293103</td>\n",
       "      <td>0.786260</td>\n",
       "      <td>0.000000</td>\n",
       "      <td>0.0</td>\n",
       "      <td>1.0</td>\n",
       "      <td>0.0</td>\n",
       "      <td>1.0</td>\n",
       "      <td>...</td>\n",
       "      <td>0.0</td>\n",
       "      <td>0.0</td>\n",
       "      <td>1.0</td>\n",
       "      <td>1.0</td>\n",
       "      <td>0.0</td>\n",
       "      <td>1.0</td>\n",
       "      <td>0.0</td>\n",
       "      <td>0.0</td>\n",
       "      <td>1.0</td>\n",
       "      <td>1</td>\n",
       "    </tr>\n",
       "    <tr>\n",
       "      <th>239</th>\n",
       "      <td>1.0</td>\n",
       "      <td>0.479167</td>\n",
       "      <td>0.292453</td>\n",
       "      <td>0.241379</td>\n",
       "      <td>0.740458</td>\n",
       "      <td>0.161290</td>\n",
       "      <td>1.0</td>\n",
       "      <td>0.0</td>\n",
       "      <td>1.0</td>\n",
       "      <td>1.0</td>\n",
       "      <td>...</td>\n",
       "      <td>0.0</td>\n",
       "      <td>1.0</td>\n",
       "      <td>0.0</td>\n",
       "      <td>1.0</td>\n",
       "      <td>0.0</td>\n",
       "      <td>1.0</td>\n",
       "      <td>0.0</td>\n",
       "      <td>0.0</td>\n",
       "      <td>1.0</td>\n",
       "      <td>1</td>\n",
       "    </tr>\n",
       "    <tr>\n",
       "      <th>240</th>\n",
       "      <td>1.0</td>\n",
       "      <td>0.395833</td>\n",
       "      <td>0.339623</td>\n",
       "      <td>0.377155</td>\n",
       "      <td>0.519084</td>\n",
       "      <td>0.032258</td>\n",
       "      <td>0.0</td>\n",
       "      <td>1.0</td>\n",
       "      <td>0.0</td>\n",
       "      <td>1.0</td>\n",
       "      <td>...</td>\n",
       "      <td>0.0</td>\n",
       "      <td>1.0</td>\n",
       "      <td>0.0</td>\n",
       "      <td>1.0</td>\n",
       "      <td>0.0</td>\n",
       "      <td>1.0</td>\n",
       "      <td>0.0</td>\n",
       "      <td>1.0</td>\n",
       "      <td>0.0</td>\n",
       "      <td>0</td>\n",
       "    </tr>\n",
       "    <tr>\n",
       "      <th>241</th>\n",
       "      <td>1.0</td>\n",
       "      <td>0.625000</td>\n",
       "      <td>0.433962</td>\n",
       "      <td>0.165948</td>\n",
       "      <td>0.694656</td>\n",
       "      <td>0.000000</td>\n",
       "      <td>1.0</td>\n",
       "      <td>0.0</td>\n",
       "      <td>1.0</td>\n",
       "      <td>1.0</td>\n",
       "      <td>...</td>\n",
       "      <td>0.0</td>\n",
       "      <td>1.0</td>\n",
       "      <td>0.0</td>\n",
       "      <td>0.0</td>\n",
       "      <td>1.0</td>\n",
       "      <td>1.0</td>\n",
       "      <td>0.0</td>\n",
       "      <td>0.0</td>\n",
       "      <td>1.0</td>\n",
       "      <td>1</td>\n",
       "    </tr>\n",
       "    <tr>\n",
       "      <th>242</th>\n",
       "      <td>1.0</td>\n",
       "      <td>0.604167</td>\n",
       "      <td>0.528302</td>\n",
       "      <td>0.366379</td>\n",
       "      <td>0.305344</td>\n",
       "      <td>0.129032</td>\n",
       "      <td>1.0</td>\n",
       "      <td>0.0</td>\n",
       "      <td>1.0</td>\n",
       "      <td>1.0</td>\n",
       "      <td>...</td>\n",
       "      <td>0.0</td>\n",
       "      <td>0.0</td>\n",
       "      <td>1.0</td>\n",
       "      <td>0.0</td>\n",
       "      <td>1.0</td>\n",
       "      <td>1.0</td>\n",
       "      <td>0.0</td>\n",
       "      <td>1.0</td>\n",
       "      <td>0.0</td>\n",
       "      <td>1</td>\n",
       "    </tr>\n",
       "  </tbody>\n",
       "</table>\n",
       "<p>5 rows × 22 columns</p>\n",
       "</div>"
      ],
      "text/plain": [
       "     Bias       age  trestbps      chol   thalach   oldpeak  thal  sex_0  \\\n",
       "238   1.0  0.583333  0.339623  0.293103  0.786260  0.000000   0.0    1.0   \n",
       "239   1.0  0.479167  0.292453  0.241379  0.740458  0.161290   1.0    0.0   \n",
       "240   1.0  0.395833  0.339623  0.377155  0.519084  0.032258   0.0    1.0   \n",
       "241   1.0  0.625000  0.433962  0.165948  0.694656  0.000000   1.0    0.0   \n",
       "242   1.0  0.604167  0.528302  0.366379  0.305344  0.129032   1.0    0.0   \n",
       "\n",
       "     sex_1  cp_1  ...  fbs_1  restecg_0  restecg_1  exang_0  exang_1  slope_1  \\\n",
       "238    0.0   1.0  ...    0.0        0.0        1.0      1.0      0.0      1.0   \n",
       "239    1.0   1.0  ...    0.0        1.0        0.0      1.0      0.0      1.0   \n",
       "240    0.0   1.0  ...    0.0        1.0        0.0      1.0      0.0      1.0   \n",
       "241    1.0   1.0  ...    0.0        1.0        0.0      0.0      1.0      1.0   \n",
       "242    1.0   1.0  ...    0.0        0.0        1.0      0.0      1.0      1.0   \n",
       "\n",
       "     slope_2  ca_0  ca_1  num  \n",
       "238      0.0   0.0   1.0    1  \n",
       "239      0.0   0.0   1.0    1  \n",
       "240      0.0   1.0   0.0    0  \n",
       "241      0.0   0.0   1.0    1  \n",
       "242      0.0   1.0   0.0    1  \n",
       "\n",
       "[5 rows x 22 columns]"
      ]
     },
     "execution_count": 15,
     "metadata": {},
     "output_type": "execute_result"
    }
   ],
   "source": [
    "training_data = X_train.join(y_train)\n",
    "validation_data = X_valid.join(y_valid)\n",
    "testing_data = X_test.join(y_test)\n",
    "testing_data.head()"
   ]
  },
  {
   "cell_type": "code",
   "execution_count": 16,
   "id": "signed-wagner",
   "metadata": {},
   "outputs": [],
   "source": [
    "learning_rates =  [0.4,0.8,0.5,0.6]\n",
    "regularization_terms=[0.1,0.5,0.8,0.9]\n",
    "epochs = [80,100,60,70]"
   ]
  },
  {
   "cell_type": "markdown",
   "id": "pacific-pulse",
   "metadata": {},
   "source": [
    "<a id=\"section_4_2\" name=\"section_4_2\"></a>"
   ]
  },
  {
   "cell_type": "markdown",
   "id": "parental-abraham",
   "metadata": {},
   "source": [
    "<h4 style=\"color:lightcoral\"><strong>Training A Model</strong></h4>\n",
    "\n",
    "> Train A Logistic Regression Model using stochastic gradient descent\n",
    "\n",
    "> Train A Regularized Model using stochastic gradient descent\n",
    "\n",
    "> Train An Optimized Logistic Regression Model Using Mini-Batch Gradient Descent\n",
    "\n",
    "> Tune hyperparameters\n",
    "\n",
    "> Choose the best model\n"
   ]
  },
  {
   "cell_type": "code",
   "execution_count": 17,
   "id": "greenhouse-parallel",
   "metadata": {},
   "outputs": [],
   "source": [
    "hyperparameter = lr.validation_with_regularization(training_data,validation_data,y_valid,learning_rates = learning_rates,epochs =epochs,regularization_terms=regularization_terms) "
   ]
  },
  {
   "cell_type": "code",
   "execution_count": 18,
   "id": "macro-florist",
   "metadata": {},
   "outputs": [
    {
     "name": "stdout",
     "output_type": "stream",
     "text": [
      "The tuned learning rate hyperparemter is : 0.4\n",
      "The tuned epochs hyperparemter is : 80\n",
      "The tuned regularized_term hyperparemter is : 0.1\n"
     ]
    }
   ],
   "source": [
    "lrate = learning_rates[hyperparameter]\n",
    "nepochs = epochs[hyperparameter]\n",
    "regularized_term=regularization_terms[hyperparameter]\n",
    "print(\"The tuned learning rate hyperparemter is :\", lrate)\n",
    "print(\"The tuned epochs hyperparemter is :\", nepochs)\n",
    "print(\"The tuned regularized_term hyperparemter is :\", regularized_term)"
   ]
  },
  {
   "cell_type": "code",
   "execution_count": null,
   "id": "great-infection",
   "metadata": {},
   "outputs": [],
   "source": [
    "types = [\"bincross\",\"regularization\",\"bincross_mini_batch\"]\n",
    "type_titles = [\"Logistic Regression With SGD\",\"Logistic Regression With Regularization and SGD\",\"Logistic Regression With Mini-Batch Gradient Descent\"]\n",
    "normal_avg_acc,normal_predictions,normal_results,normal_ = lr.average_results(training_data,testing_data,y_test,lrate=lrate,nepochs=nepochs,regularized_term=0,niters=5,batch_size=32,type_=\"normal\")\n",
    "regularization_avg_acc,regularization_predictions,regularization_results,regularization_ = lr.average_results(training_data,testing_data,y_test,lrate=lrate,nepochs=nepochs,regularized_term=regularized_term,niters=5,batch_size=32,type_=\"regularization\")\n",
    "mini_batch_avg_acc,mini_batch_predictions,mini_batch_results,mini_batch_ = lr.average_results(training_data,testing_data,y_test,lrate=lrate,nepochs=nepochs,regularized_term=regularized_term,niters=5,batch_size=32,type_=\"bincross_mini_batch\")"
   ]
  },
  {
   "cell_type": "code",
   "execution_count": null,
   "id": "median-candle",
   "metadata": {},
   "outputs": [],
   "source": [
    "print(\"The accuracy for logistic regression model without regularization is: {}%\".format(normal_avg_acc))\n",
    "print(\"The accuracy for regularized logistic regression model is: {}%\".format(regularization_avg_acc))\n",
    "print(\"The accuracy for optimized logistic regression model using mini-batch is: {}%\".format(mini_batch_avg_acc))"
   ]
  },
  {
   "cell_type": "code",
   "execution_count": null,
   "id": "mathematical-studio",
   "metadata": {},
   "outputs": [],
   "source": [
    "results = [normal_results,regularization_results,mini_batch_results]\n",
    "predictions =[normal_predictions,regularization_predictions,mini_batch_predictions]\n",
    "errors = [normal_,regularization_,mini_batch_]"
   ]
  },
  {
   "cell_type": "code",
   "execution_count": null,
   "id": "micro-technician",
   "metadata": {},
   "outputs": [],
   "source": [
    "predicted_dataset = testing_data.copy()\n",
    "predicted_dataset['normal_predictions'] = normal_results\n",
    "predicted_dataset['regularized_predictions'] = regularization_results\n",
    "predicted_dataset['optimized_predictions'] = mini_batch_results\n",
    "predicted_dataset.head()"
   ]
  },
  {
   "cell_type": "code",
   "execution_count": null,
   "id": "assumed-selling",
   "metadata": {},
   "outputs": [],
   "source": [
    "acc.plot_cost_functions(nepochs,errors,type_titles)"
   ]
  },
  {
   "cell_type": "code",
   "execution_count": null,
   "id": "allied-cleveland",
   "metadata": {},
   "outputs": [],
   "source": [
    "acc.display_confusion_matrices(y_test,results,type_titles)"
   ]
  },
  {
   "cell_type": "code",
   "execution_count": null,
   "id": "documentary-investigation",
   "metadata": {},
   "outputs": [],
   "source": [
    "acc.plot_roc_curves(y_test,predictions,type_titles)"
   ]
  },
  {
   "cell_type": "markdown",
   "id": "welcome-cargo",
   "metadata": {},
   "source": [
    "The best model is the logistic regression with regularization using stochastic gradient descent"
   ]
  },
  {
   "cell_type": "markdown",
   "id": "actual-ready",
   "metadata": {},
   "source": [
    "<a id=\"section_4_3\" name=\"section_4_3\"></a>"
   ]
  },
  {
   "cell_type": "markdown",
   "id": "african-dairy",
   "metadata": {},
   "source": [
    "<h4 style=\"color:lightcoral\"><strong>Training A State of The Art Model</strong></h4>\n",
    "\n",
    "> Train A State of The Art Logistic Regression Model"
   ]
  },
  {
   "cell_type": "code",
   "execution_count": null,
   "id": "surprising-queue",
   "metadata": {},
   "outputs": [],
   "source": [
    "logreg = LogisticRegression()\n",
    "logreg.fit(X_train,y_train)\n",
    "y_pred = logreg.predict(X_test)\n",
    "y_pred_proba = logreg.predict_proba(X_test)[::,1]\n",
    "chosen_titles = [\"State of the Art Model\",\"Best Model: Logistic Regression With Regularization Using SGD\"]\n",
    "compare_results = [y_pred,regularization_results]\n",
    "# mini_batch_avg_acc,mini_batch_predictions,mini_batch_results,mini_batch_ \n",
    "# regularization_avg_acc,regularization_predictions,regularization_results,regularization_\n",
    "compare_predictions = [y_pred_proba,regularization_predictions]"
   ]
  },
  {
   "cell_type": "code",
   "execution_count": null,
   "id": "hairy-belly",
   "metadata": {},
   "outputs": [],
   "source": [
    "print(\"The accuracy of the state of the art logistic regression  is: {}\".format(acc.accuracy_metric(y_test,y_pred)))\n",
    "print(\"The accuracy of the best logistic regression  is: {}\".format(regularization_avg_acc))"
   ]
  },
  {
   "cell_type": "code",
   "execution_count": null,
   "id": "norman-execution",
   "metadata": {},
   "outputs": [],
   "source": [
    "acc.display_confusion_matrices(y_test,compare_results,chosen_titles)"
   ]
  },
  {
   "cell_type": "code",
   "execution_count": null,
   "id": "statewide-nurse",
   "metadata": {},
   "outputs": [],
   "source": [
    "acc.plot_roc_curves(y_test,compare_predictions,chosen_titles)"
   ]
  },
  {
   "cell_type": "markdown",
   "id": "human-region",
   "metadata": {},
   "source": [
    "<a id=\"section_4_4\" name=\"section_4_4\"></a>"
   ]
  },
  {
   "cell_type": "markdown",
   "id": "outstanding-repeat",
   "metadata": {},
   "source": [
    "<h4 style=\"color:lightcoral\"><strong>Compare Model Performance</strong></h4>\n",
    "\n",
    "> Compare the state of the art and the best chosen model\n",
    "\n",
    "We can see that the logisitic regression model with regularization using stochastic gradient descent performs relatively closely to the state of the art algorithm in terms of the ROC curve and AUC value"
   ]
  },
  {
   "cell_type": "markdown",
   "id": "opponent-cooperation",
   "metadata": {},
   "source": [
    "<a id=\"section_4_5\" name=\"section_4_5\"></a>"
   ]
  },
  {
   "cell_type": "markdown",
   "id": "moral-prisoner",
   "metadata": {},
   "source": [
    "<h4 style=\"color:lightcoral\"><strong>Compare Best Dataset</strong></h4>\n",
    "\n",
    "> Run regularized logistic regression on the other dataset(data with the mode replacing the missing values)"
   ]
  },
  {
   "cell_type": "code",
   "execution_count": null,
   "id": "delayed-subscription",
   "metadata": {},
   "outputs": [],
   "source": [
    "mode_dataset = encode_mode_heart.copy()\n",
    "mode_dataset = dp.minmax_scale(mode_dataset)\n",
    "mode_dataset = dp.add_bias(mode_dataset)\n",
    "mode_dataset = mode_dataset.sample(frac=1).reset_index(drop=True)\n",
    "mode_dataset"
   ]
  },
  {
   "cell_type": "code",
   "execution_count": null,
   "id": "working-census",
   "metadata": {},
   "outputs": [],
   "source": [
    "X_mode = mode_dataset.iloc[:,:-1]\n",
    "y_mode = mode_dataset.iloc[:,-1] # # X_train, X_test, y_train, y_test = train_test_split(X, y, test_size=0.33, random_state=42)\n",
    "sixty_split =  int(len(mode_dataset) * 0.6)\n",
    "twenty_split = int(len(mode_dataset) * 0.2)\n",
    "X_train_mode = X_mode.iloc[:sixty_split];X_valid_mode = X_mode.iloc[sixty_split:sixty_split+twenty_split];X_test_mode = X_mode.iloc[sixty_split+twenty_split:]\n",
    "y_train_mode = y_mode.iloc[:sixty_split];y_valid_mode = y_mode.iloc[sixty_split:sixty_split+twenty_split];y_test_mode = y_mode.iloc[sixty_split+twenty_split:]"
   ]
  },
  {
   "cell_type": "code",
   "execution_count": null,
   "id": "functional-reynolds",
   "metadata": {},
   "outputs": [],
   "source": [
    "training_data_mode = X_train_mode.join(y_train_mode)\n",
    "validation_data_mode = X_valid_mode.join(y_valid_mode)\n",
    "testing_data_mode = X_test_mode.join(y_test_mode)\n",
    "testing_data_mode.head()"
   ]
  },
  {
   "cell_type": "code",
   "execution_count": null,
   "id": "spanish-horror",
   "metadata": {},
   "outputs": [],
   "source": [
    "lrate = learning_rates[hyperparameter]\n",
    "nepochs = epochs[hyperparameter]\n",
    "regularized_term=regularization_terms[hyperparameter]"
   ]
  },
  {
   "cell_type": "code",
   "execution_count": null,
   "id": "jewish-impossible",
   "metadata": {},
   "outputs": [],
   "source": [
    "mode_regularization_avg_acc,mode_regularization_predictions,mode_regularization_results,mode_regularization_ = lr.average_results(training_data_mode,testing_data_mode,y_test_mode,lrate=lrate,nepochs=nepochs,regularized_term=regularized_term,niters=5,batch_size=32,type_=\"regularization\")"
   ]
  },
  {
   "cell_type": "code",
   "execution_count": null,
   "id": "functional-peninsula",
   "metadata": {},
   "outputs": [],
   "source": [
    "choose_results = [regularization_results,mode_regularization_results]\n",
    "# # mini_batch_avg_acc,mini_batch_predictions,mini_batch_results,mini_batch_ \n",
    "# regularization_avg_acc,regularization_predictions,regularization_results,regularization_\n",
    "choose_predictions =[regularization_predictions,mode_regularization_predictions]\n",
    "choose_errors = [regularization_,mode_regularization_]\n",
    "choose_titles = [\"Regularized Logistic With Dropped Missing Data\",\"Regularized Logistic With Mode Replacing Missing Data \"]"
   ]
  },
  {
   "cell_type": "code",
   "execution_count": null,
   "id": "approximate-porter",
   "metadata": {},
   "outputs": [],
   "source": [
    "print(\"The accuracy for {} is {}%\".format(choose_titles[0],regularization_avg_acc))\n",
    "print(\"The accuracy for {} is {}%\".format(choose_titles[1],mode_regularization_avg_acc))"
   ]
  },
  {
   "cell_type": "code",
   "execution_count": null,
   "id": "governmental-dimension",
   "metadata": {},
   "outputs": [],
   "source": [
    "acc.plot_cost_functions(nepochs,choose_errors,choose_titles)"
   ]
  },
  {
   "cell_type": "code",
   "execution_count": null,
   "id": "psychological-launch",
   "metadata": {},
   "outputs": [],
   "source": [
    "acc.display_confusion_matrix(y_test,regularization_results)\n",
    "plt.title(choose_titles[0])\n",
    "#  regularization_avg_acc,regularization_predictions,regularization_results,regularization_\n",
    "# mode_minibatch_avg_acc,mode_minibatch_predictions,mode_minibatch_results,mode_minibatch_\n",
    "# mini_batch_avg_acc,mini_batch_predictions,mini_batch_results,mini_batch_ "
   ]
  },
  {
   "cell_type": "code",
   "execution_count": null,
   "id": "floppy-outreach",
   "metadata": {},
   "outputs": [],
   "source": [
    "acc.display_confusion_matrix(y_test_mode,mode_regularization_results)\n",
    "plt.title(choose_titles[1])"
   ]
  },
  {
   "cell_type": "code",
   "execution_count": null,
   "id": "persistent-mongolia",
   "metadata": {},
   "outputs": [],
   "source": [
    "acc.plot_roc_curve(y_test,regularization_predictions)\n",
    "plt.title(choose_titles[0])"
   ]
  },
  {
   "cell_type": "code",
   "execution_count": null,
   "id": "heavy-poland",
   "metadata": {},
   "outputs": [],
   "source": [
    "acc.plot_roc_curve(y_test_mode,mode_regularization_predictions)\n",
    "plt.title(choose_titles[1])"
   ]
  },
  {
   "cell_type": "markdown",
   "id": "mature-python",
   "metadata": {},
   "source": [
    "<a id=\"section_4_6\" name=\"section_4_6\"></a>"
   ]
  },
  {
   "cell_type": "markdown",
   "id": "covered-newspaper",
   "metadata": {},
   "source": [
    "<h4 style=\"color:lightcoral\"><strong>Limitations</strong></h4>\n",
    "Research on this dataset only contained 14 attributes from 76 attributes. We hypothesise that the model might not be able to generalize to datasets that include new factors that might contribute to heart disease. This means that future works may improve the algorithm by including more attributes to account for a variety of new information"
   ]
  },
  {
   "cell_type": "markdown",
   "id": "attached-recycling",
   "metadata": {},
   "source": [
    "<a id=\"section_4_7\" name=\"section_4_7\"></a>"
   ]
  },
  {
   "cell_type": "markdown",
   "id": "accomplished-separate",
   "metadata": {},
   "source": [
    "\n",
    "<h4 style=\"color:lightcoral\"><strong>Future Work</strong></h4>\n",
    "Our algorithm has taken account of all datasets. Prior research perform algorithms on their respective datasets relative to their schools. We have further extended and improved their algorithm to give a better diagnosis on whether a patient has heart disease. \n",
    "\n",
    "We investigated our algorithms by using the combined datasets in two different ways. We dropped the missing values and replaced the missing values with the mode of the feature. The performance an algorithm trained on data that learns the outcome of the missing values is left for investigations"
   ]
  },
  {
   "cell_type": "markdown",
   "id": "jewish-latter",
   "metadata": {},
   "source": [
    "<a id=\"section_4_8\" name=\"section_4_8\"></a>"
   ]
  },
  {
   "cell_type": "markdown",
   "id": "positive-fleece",
   "metadata": {},
   "source": [
    "<h4 style=\"color:lightcoral\"><strong>Conclusion</strong></h4>\n"
   ]
  },
  {
   "cell_type": "markdown",
   "id": "operating-retail",
   "metadata": {},
   "source": [
    "Heart disease is a terrible condition that has a high rate of deaths. Creating algorithms that will detect conditions that could lead to the inference that a patient may have heart disease could save their lives. Logistic regression does in well in predicting whether an individual suffers from heart disease or not"
   ]
  },
  {
   "cell_type": "markdown",
   "id": "isolated-incident",
   "metadata": {},
   "source": [
    "[back to top](#section_n)"
   ]
  }
 ],
 "metadata": {
  "kernelspec": {
   "display_name": "Python 3",
   "language": "python",
   "name": "python3"
  },
  "language_info": {
   "codemirror_mode": {
    "name": "ipython",
    "version": 3
   },
   "file_extension": ".py",
   "mimetype": "text/x-python",
   "name": "python",
   "nbconvert_exporter": "python",
   "pygments_lexer": "ipython3",
   "version": "3.8.5"
  }
 },
 "nbformat": 4,
 "nbformat_minor": 5
}
