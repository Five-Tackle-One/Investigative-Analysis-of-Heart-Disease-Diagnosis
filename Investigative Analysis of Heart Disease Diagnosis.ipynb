{
 "cells": [
  {
   "cell_type": "markdown",
   "id": "monthly-emerald",
   "metadata": {},
   "source": [
    "<h1 style='text-align:center'>Investigative Analysis of Heart Disease Diagnosis</h1>"
   ]
  },
  {
   "cell_type": "markdown",
   "id": "afraid-ultimate",
   "metadata": {},
   "source": [
    "Dataset <a href=\"https://www.kaggle.com/ronitf/heart-disease-uci?select=heart.csv\">Heart Disease UCI</a>"
   ]
  },
  {
   "cell_type": "markdown",
   "id": "expanded-storage",
   "metadata": {},
   "source": [
    "<a id=\"section_n\" name=\"section_n\"></a>"
   ]
  },
  {
   "cell_type": "markdown",
   "id": "phantom-electronics",
   "metadata": {},
   "source": [
    "## Table of Contents"
   ]
  },
  {
   "cell_type": "markdown",
   "id": "collect-first",
   "metadata": {},
   "source": [
    "* [1. Introduction](#chapter2)\n",
    "    * [Heart Disease](#section_2_1)\n",
    "    * [Relevant Study](#section_2_2)\n",
    "    * [Research Question and Problem Statement](#section_2_3)\n",
    "    * [Data Description](#section_2_4)\n",
    "    * [Executive Summary](#section_2_5)\n",
    "    * [Variable Description](#section_2_6)\n",
    "* [2. Data Analysis and Exploration](#chapter3)\n",
    "    * [Data Preparation](#section_3_1)\n",
    "    * [Missing Values](#section_3_2)\n",
    "    * [Outliers](#section_3_3)\n",
    "    * [Encoding](#section_3_4)\n",
    "    * [Exploratory Analysis and Data Visualization](#section_3_5)\n",
    "* [3. Algorithm Implementation](#chapter4)\n",
    "    * [Data Preparation](#section_4_1)\n",
    "    * [Training A Model](#section_4_2)\n",
    "    * [Optimize The Model](#section_4_3)\n",
    "    * [Training A State of The Art Model](#section_4_4)\n",
    "    * [Compare Model Performance](#section_4_5)\n",
    "    * [Conclusion](#section_4_6)"
   ]
  },
  {
   "cell_type": "markdown",
   "id": "vanilla-terror",
   "metadata": {},
   "source": [
    "research / latex references\n",
    "\n",
    "*  https://0-pubmed-ncbi-nlm-nih-gov.innopac.wits.ac.za/2756873/  International application of a new probability algorithm for the diagnosis of coronary artery disease https://0-www-sciencedirect-com.innopac.wits.ac.za/science/article/pii/0002914989905249?via%3Dihub\n",
    "\n",
    "* Categories https://rdrr.io/github/coatless/ucidata/man/heart_disease.html#heading-3 \n",
    "\n",
    "* Another paper https://www.cabdirect.org/cabdirect/abstract/19711403775  \n",
    "Coronary heart disease in seven countries.\n",
    "\n",
    " \n",
    "*  Heart failure https://my.clevelandclinic.org/health/diseases/17069-heart-failure-understanding-heart-failure\n",
    "\n",
    "* Heart Disease https://my.clevelandclinic.org/health/diseases/16898-coronary-artery-disease"
   ]
  },
  {
   "cell_type": "markdown",
   "id": "outer-display",
   "metadata": {},
   "source": [
    "<a id=\"chapter2\" name=\"chapter2\">chapter2</a> "
   ]
  },
  {
   "cell_type": "markdown",
   "id": "cardiovascular-cookbook",
   "metadata": {},
   "source": [
    "<h2 style=\"text-align:center\">Introduction: Heart Disease Diagnosis</h2>"
   ]
  },
  {
   "cell_type": "markdown",
   "id": "artistic-distribution",
   "metadata": {},
   "source": [
    "<a id=\"section_2_1\" name=\"section_2_1\">section_2_1</a>"
   ]
  },
  {
   "cell_type": "markdown",
   "id": "structured-retention",
   "metadata": {},
   "source": [
    "<h4 style=\"color:lightcoral\"><strong>Heart Disease</strong></h4>"
   ]
  },
  {
   "cell_type": "markdown",
   "id": "super-baghdad",
   "metadata": {},
   "source": [
    "<a id=\"section_2_2\" name=\"section_2_2\">section_2_2</a>"
   ]
  },
  {
   "cell_type": "markdown",
   "id": "flying-korean",
   "metadata": {},
   "source": [
    "<h4 style=\"color:lightcoral\"><strong>Relevant Study</strong></h4>"
   ]
  },
  {
   "cell_type": "markdown",
   "id": "civic-karaoke",
   "metadata": {},
   "source": [
    "<a id=\"section_2_3\" name=\"section_2_3\">section_2_3</a>"
   ]
  },
  {
   "cell_type": "markdown",
   "id": "changed-treasury",
   "metadata": {},
   "source": [
    "<h4 style=\"color:lightcoral\"><strong>Researh Question and Problem</strong></h4>\n",
    "\n",
    "> <strong>Hypothesis:</strong>\n",
    "\n",
    "> <strong>Relationships</strong>:\n",
    "\n",
    "> <strong>Predictions</strong>: "
   ]
  },
  {
   "cell_type": "markdown",
   "id": "collective-aaron",
   "metadata": {},
   "source": [
    "<a id=\"section_2_4\" name=\"section_2_4\">section_2_4</a>"
   ]
  },
  {
   "cell_type": "markdown",
   "id": "comparable-slave",
   "metadata": {},
   "source": [
    "<h4 style=\"color:lightcoral\"><strong>Data Description</strong></h4>\n",
    "\n",
    "<strong style=\"color:lightcoral\">Age:</strong> age in years\n",
    "\n",
    "<strong style=\"color:lightcoral\">Sex</strong>\n",
    "> 1 = Male\n",
    "\n",
    "> 2 = Female\n",
    "\n",
    "\n",
    "\n",
    "<strong style=\"color:lightcoral\">Chol: Serum Cholestoral in mg/dl</strong>\n",
    "> $ x \\in \\mathbb{R}$ \n",
    "\n",
    "\n",
    "<strong style='color:lightcoral'>Trestbps: Resting Blood Pressure (in mm Hg on admission to the hospital)</strong>\n",
    "> $ x \\in \\mathbb{R}$ \n",
    "\n",
    "\n",
    "<strong style=\"color:lightcoral\">Chest Pain Type</strong>\n",
    "> Value 1 = Typical Angina\n",
    "\n",
    "> Value 2 = Atypical Angina\n",
    "\n",
    "> Value 3 = Non-Anginal Pain\n",
    "\n",
    "> Value 4 = Asymptomatic\n",
    "\n",
    "\n",
    "\n",
    "<strong style=\"color:lightcoral\">Thalach: Maximum Heart Rate Achieved</strong>\n",
    "> $ x \\in \\mathbb{R}$ \n",
    "\n",
    "\n",
    "<strong style=\"color:lightcoral\">Exang: Exercise Induced Angina </strong>\n",
    "> 1 = Yes\n",
    "\n",
    "> 0 = No\n",
    "\n",
    "<strong style=\"color:lightcoral\">Fasting Blood Sugar > 120 mg</strong>\n",
    "> 1 = True\n",
    "\n",
    "> 2 = False \n",
    "\n",
    "\n",
    "<strong style=\"color:lightcoral\">Resting Electrocardiographic Results</strong>\n",
    ">  Value 0=  Normal\n",
    "\n",
    ">  Value 2=Having ST-T Wave Abnormality (T Wave Inversions)\n",
    "\n",
    ">  Value 3= Showing Probable or Definite Left Ventricular Hypertrophy\n",
    "\n",
    "<strong style='color:lightcoral'>OldPeak = ST Depression Induced by Exercise Relative to Eest</strong>\n",
    "> $ x \\in \\mathbb{R}$ \n",
    "\n",
    "\n",
    "\n",
    "<strong style='color:lightcoral'>ca: Number of Major Vessels (0-3) colored by flourosopy</strong>\n",
    "\n",
    "<strong style='color:lightcoral'>thal: </strong>\n",
    "> 3 = normal\n",
    "\n",
    "> 6 = fixed defect\n",
    "\n",
    "> 7 = reversable defect\n",
    "\n",
    "<strong style=\"color:lightcoral\">Slope: The Slope of the Peak Exercise of ST Segment</strong>\n",
    ">  Value 1= Upsloping\n",
    "\n",
    ">  Value 2= Flat\n",
    "\n",
    ">  Value 3= Downsloping\n",
    "\n",
    "\n",
    "<strong style=\"color:lightcoral\">Target: Presence of Heart Disease</strong>\n",
    ">  Value 0= Absence\n",
    "\n",
    ">  Value 1= Presence\n"
   ]
  },
  {
   "cell_type": "markdown",
   "id": "finished-stage",
   "metadata": {},
   "source": [
    "<a id=\"section_2_5\" name=\"section_2_5\">section_2_5</a>"
   ]
  },
  {
   "cell_type": "markdown",
   "id": "billion-variable",
   "metadata": {},
   "source": [
    "<h4 style=\"color:lightcoral\"><strong>Executive Summary</strong></h4>"
   ]
  },
  {
   "cell_type": "markdown",
   "id": "popular-channel",
   "metadata": {},
   "source": [
    "<a id=\"chapter3\" name=\"chapter3\">chapter3</a> "
   ]
  },
  {
   "cell_type": "markdown",
   "id": "applicable-burner",
   "metadata": {},
   "source": [
    "<h2 style=\"text-align:center\">Data Analysis and Exploration</h2>"
   ]
  },
  {
   "cell_type": "markdown",
   "id": "great-shuttle",
   "metadata": {},
   "source": [
    "<a id=\"section_3_1\" name=\"section_3_1\">section_3_1</a>"
   ]
  },
  {
   "cell_type": "code",
   "execution_count": 1,
   "id": "brown-person",
   "metadata": {},
   "outputs": [],
   "source": [
    "import pandas as pd\n",
    "import numpy as np\n",
    "import matplotlib.pyplot as plt\n",
    "import engine.data_preparation as dp\n",
    "import engine.data_visualization as dv\n",
    "import engine.logistic_regression as lr\n",
    "import engine.accuracy as acc\n",
    "import seaborn as sns\n",
    "import warnings\n",
    "from IPython.display import clear_output\n",
    "from sklearn.model_selection import train_test_split\n",
    "%matplotlib inline\n",
    "warnings.filterwarnings('ignore')\n",
    "%load_ext autoreload\n",
    "\n",
    "%autoreload"
   ]
  },
  {
   "cell_type": "markdown",
   "id": "cooperative-mounting",
   "metadata": {},
   "source": [
    "<h4 style=\"color:lightcoral\"><strong>Data Preparation</strong></h4>\n",
    "\n",
    "> Read dataset \n",
    "\n",
    "> Appropriately change data types\n",
    "\n",
    "> Description \n",
    "> * Number of rows\n",
    "> * Number of features\n",
    "\n",
    "> Is the data balanced ?\n"
   ]
  },
  {
   "cell_type": "code",
   "execution_count": 2,
   "id": "bigger-average",
   "metadata": {},
   "outputs": [],
   "source": [
    "dir_str = \"Datasets/data/processed.{}.data\"\n",
    "names = {\"age\":\"Age\",\"sex\":\"Sex\",\"cp\":\"Chest Pain Type\",\"trestbps\":\"Resting Blood Pressure\",\"chol\":\"Serum Cholestoral In mg/dl\",\n",
    "         \"fbs\":\"Fasting Blood Sugar > 120 mg/dl\",\"restecg\":\"Resting Electrocardiographic Results\",\"thalach\":\"Duration of Exercise In Minutes\",\n",
    "         \"exang\":\"Exercise Induced Angina\",\"oldpeak\":\"ST Depression Induced By Exercise\",\"slope\":\"The Slope of The Peak Exercise ST Segment\",\n",
    "         \"ca\":\"Number of Major Vessels\",\"thal\":\"Normal/Fixed or Reversable Defect\",\"num\":\"Presence\"\n",
    "        }\n",
    "convert_dict = {'sex': int,'cp': int,'fbs':int,'restecg':int,'exang':int,'slope':int,'ca':int,'num':int}\n",
    "columns = list(names.keys())"
   ]
  },
  {
   "cell_type": "code",
   "execution_count": 3,
   "id": "conventional-recall",
   "metadata": {},
   "outputs": [
    {
     "name": "stdout",
     "output_type": "stream",
     "text": [
      "cleveland: Number of Rows: 303 x Number of Columns: 14 \n",
      "hungarian: Number of Rows: 294 x Number of Columns: 14 \n",
      "switzerland: Number of Rows: 123 x Number of Columns: 14 \n",
      "long beach: Number of Rows: 200 x Number of Columns: 14 \n",
      "======================================================================================================\n"
     ]
    },
    {
     "data": {
      "text/html": [
       "<div>\n",
       "<style scoped>\n",
       "    .dataframe tbody tr th:only-of-type {\n",
       "        vertical-align: middle;\n",
       "    }\n",
       "\n",
       "    .dataframe tbody tr th {\n",
       "        vertical-align: top;\n",
       "    }\n",
       "\n",
       "    .dataframe thead th {\n",
       "        text-align: right;\n",
       "    }\n",
       "</style>\n",
       "<table border=\"1\" class=\"dataframe\">\n",
       "  <thead>\n",
       "    <tr style=\"text-align: right;\">\n",
       "      <th></th>\n",
       "      <th>age</th>\n",
       "      <th>sex</th>\n",
       "      <th>cp</th>\n",
       "      <th>trestbps</th>\n",
       "      <th>chol</th>\n",
       "      <th>fbs</th>\n",
       "      <th>restecg</th>\n",
       "      <th>thalach</th>\n",
       "      <th>exang</th>\n",
       "      <th>oldpeak</th>\n",
       "      <th>slope</th>\n",
       "      <th>ca</th>\n",
       "      <th>thal</th>\n",
       "      <th>num</th>\n",
       "    </tr>\n",
       "  </thead>\n",
       "  <tbody>\n",
       "    <tr>\n",
       "      <th>0</th>\n",
       "      <td>63.0</td>\n",
       "      <td>1.0</td>\n",
       "      <td>1.0</td>\n",
       "      <td>145.0</td>\n",
       "      <td>233.0</td>\n",
       "      <td>1.0</td>\n",
       "      <td>2.0</td>\n",
       "      <td>150.0</td>\n",
       "      <td>0.0</td>\n",
       "      <td>2.3</td>\n",
       "      <td>3.0</td>\n",
       "      <td>0.0</td>\n",
       "      <td>6.0</td>\n",
       "      <td>0</td>\n",
       "    </tr>\n",
       "    <tr>\n",
       "      <th>1</th>\n",
       "      <td>67.0</td>\n",
       "      <td>1.0</td>\n",
       "      <td>4.0</td>\n",
       "      <td>160.0</td>\n",
       "      <td>286.0</td>\n",
       "      <td>0.0</td>\n",
       "      <td>2.0</td>\n",
       "      <td>108.0</td>\n",
       "      <td>1.0</td>\n",
       "      <td>1.5</td>\n",
       "      <td>2.0</td>\n",
       "      <td>3.0</td>\n",
       "      <td>3.0</td>\n",
       "      <td>2</td>\n",
       "    </tr>\n",
       "    <tr>\n",
       "      <th>2</th>\n",
       "      <td>67.0</td>\n",
       "      <td>1.0</td>\n",
       "      <td>4.0</td>\n",
       "      <td>120.0</td>\n",
       "      <td>229.0</td>\n",
       "      <td>0.0</td>\n",
       "      <td>2.0</td>\n",
       "      <td>129.0</td>\n",
       "      <td>1.0</td>\n",
       "      <td>2.6</td>\n",
       "      <td>2.0</td>\n",
       "      <td>2.0</td>\n",
       "      <td>7.0</td>\n",
       "      <td>1</td>\n",
       "    </tr>\n",
       "    <tr>\n",
       "      <th>3</th>\n",
       "      <td>37.0</td>\n",
       "      <td>1.0</td>\n",
       "      <td>3.0</td>\n",
       "      <td>130.0</td>\n",
       "      <td>250.0</td>\n",
       "      <td>0.0</td>\n",
       "      <td>0.0</td>\n",
       "      <td>187.0</td>\n",
       "      <td>0.0</td>\n",
       "      <td>3.5</td>\n",
       "      <td>3.0</td>\n",
       "      <td>0.0</td>\n",
       "      <td>3.0</td>\n",
       "      <td>0</td>\n",
       "    </tr>\n",
       "    <tr>\n",
       "      <th>4</th>\n",
       "      <td>41.0</td>\n",
       "      <td>0.0</td>\n",
       "      <td>2.0</td>\n",
       "      <td>130.0</td>\n",
       "      <td>204.0</td>\n",
       "      <td>0.0</td>\n",
       "      <td>2.0</td>\n",
       "      <td>172.0</td>\n",
       "      <td>0.0</td>\n",
       "      <td>1.4</td>\n",
       "      <td>1.0</td>\n",
       "      <td>0.0</td>\n",
       "      <td>3.0</td>\n",
       "      <td>0</td>\n",
       "    </tr>\n",
       "  </tbody>\n",
       "</table>\n",
       "</div>"
      ],
      "text/plain": [
       "    age  sex   cp  trestbps   chol  fbs  restecg  thalach  exang  oldpeak  \\\n",
       "0  63.0  1.0  1.0     145.0  233.0  1.0      2.0    150.0    0.0      2.3   \n",
       "1  67.0  1.0  4.0     160.0  286.0  0.0      2.0    108.0    1.0      1.5   \n",
       "2  67.0  1.0  4.0     120.0  229.0  0.0      2.0    129.0    1.0      2.6   \n",
       "3  37.0  1.0  3.0     130.0  250.0  0.0      0.0    187.0    0.0      3.5   \n",
       "4  41.0  0.0  2.0     130.0  204.0  0.0      2.0    172.0    0.0      1.4   \n",
       "\n",
       "   slope   ca  thal  num  \n",
       "0    3.0  0.0   6.0    0  \n",
       "1    2.0  3.0   3.0    2  \n",
       "2    2.0  2.0   7.0    1  \n",
       "3    3.0  0.0   3.0    0  \n",
       "4    1.0  0.0   3.0    0  "
      ]
     },
     "execution_count": 3,
     "metadata": {},
     "output_type": "execute_result"
    }
   ],
   "source": [
    "cleveland = pd.read_csv(dir_str.format(\"cleveland\"),names=columns,na_values='?')\n",
    "hungarian = pd.read_csv(dir_str.format(\"hungarian\"),names=columns,na_values='?')\n",
    "switzerland = pd.read_csv(dir_str.format(\"switzerland\"),names=columns,na_values='?')\n",
    "va = pd.read_csv(dir_str.format(\"va\"),names=columns,na_values='?')\n",
    "print(\"{}: Number of Rows: {} x Number of Columns: {} \".format(\"cleveland\",len(cleveland),len(cleveland.columns)))\n",
    "print(\"{}: Number of Rows: {} x Number of Columns: {} \".format(\"hungarian\",len(hungarian),len(hungarian.columns)))\n",
    "print(\"{}: Number of Rows: {} x Number of Columns: {} \".format(\"switzerland\",len(switzerland),len(switzerland.columns)))\n",
    "print(\"{}: Number of Rows: {} x Number of Columns: {} \".format(\"long beach\",len(va),len(va.columns)))\n",
    "print('======================================================================================================')\n",
    "cleveland.head()"
   ]
  },
  {
   "cell_type": "code",
   "execution_count": 4,
   "id": "pharmaceutical-disabled",
   "metadata": {},
   "outputs": [],
   "source": [
    "cleveland = dp.group_target(cleveland);hungarian =  dp.group_target(hungarian)\n",
    "switzerland = dp.group_target(switzerland);va =  dp.group_target(va)\n",
    "heart_data = pd.concat([cleveland,hungarian,switzerland,va])\n",
    "heart_data = heart_data.drop_duplicates()"
   ]
  },
  {
   "cell_type": "markdown",
   "id": "promising-ghana",
   "metadata": {},
   "source": [
    "<a id=\"section_3_2\" name=\"section_3_2\">section_3_2</a>"
   ]
  },
  {
   "cell_type": "markdown",
   "id": "flexible-vegetation",
   "metadata": {},
   "source": [
    "<h4 style=\"color:lightcoral\"><strong>Missing Values</strong></h4>\n",
    "<strong style=\"color:lightcoral\">Goals</strong>: Create 3 different datasets from:\n",
    "\n",
    "> Dropping values\n",
    "\n",
    "> Replacing missing values with the means\n",
    "\n",
    "> Learn the missing feature using an algorithm\n"
   ]
  },
  {
   "cell_type": "code",
   "execution_count": 5,
   "id": "random-delhi",
   "metadata": {},
   "outputs": [],
   "source": [
    "# ============== Drop Missing Values\n",
    "drop_missing_cleveland = (cleveland.copy().dropna()).astype(convert_dict)\n",
    "drop_missing_hungarian = ( hungarian.copy().dropna()).astype(convert_dict)\n",
    "drop_missing_switzerland = (switzerland.copy().dropna()).astype(convert_dict)\n",
    "drop_missing_va = (va.copy().dropna()).astype(convert_dict)\n",
    "drop_missing_heart = (heart_data.copy().dropna()).astype(convert_dict) # This is the combined dataset\n",
    "\n",
    "\n",
    "# ================ Mode Dataset  - Missing values replaced with the mode\n",
    "mode_cleveland = ((dp.replace_missing_with_mode(cleveland.copy())).astype(convert_dict)).drop_duplicates()\n",
    "mode_hungarian = ((dp.replace_missing_with_mode(hungarian.copy())).astype(convert_dict)).drop_duplicates()\n",
    "mode_switzerland = ((dp.replace_missing_with_mode(switzerland.copy())).astype(convert_dict)).drop_duplicates()\n",
    "mode_va = ((dp.replace_missing_with_mode(va.copy())).astype(convert_dict)).drop_duplicates()\n",
    "mode_heart = ((dp.replace_missing_with_mode(heart_data.copy())).astype(convert_dict)).drop_duplicates()\n",
    "\n",
    "\n",
    "\n",
    "# ================ Learned Missing Features Dataset "
   ]
  },
  {
   "cell_type": "markdown",
   "id": "received-mention",
   "metadata": {},
   "source": [
    "<a id=\"section_3_3\" name=\"section_3_3\">section_3_3</a>"
   ]
  },
  {
   "cell_type": "markdown",
   "id": "valid-wellington",
   "metadata": {},
   "source": [
    "<h4 style=\"color:lightcoral\"><strong>Outliers</strong></h4>"
   ]
  },
  {
   "cell_type": "code",
   "execution_count": null,
   "id": "centered-powder",
   "metadata": {},
   "outputs": [],
   "source": []
  },
  {
   "cell_type": "markdown",
   "id": "magnetic-argument",
   "metadata": {},
   "source": [
    "<a id=\"section_3_4\" name=\"section_3_4\">section_3_4</a>"
   ]
  },
  {
   "cell_type": "markdown",
   "id": "ideal-windsor",
   "metadata": {},
   "source": [
    "<h4 style=\"color:lightcoral\"><strong>Encoding</strong></h4>\n",
    "<strong style=\"color:lightcoral\">Goals</strong>: Encode the data for model preparation\n",
    "\n",
    "> One-Hot encode dataset\n"
   ]
  },
  {
   "cell_type": "code",
   "execution_count": 6,
   "id": "rapid-ordinance",
   "metadata": {},
   "outputs": [],
   "source": [
    "# ============== Drop Missing Values\n",
    "encode_drop_missing_cleveland = dp.one_hot_encoding_2(drop_missing_cleveland)\n",
    "encode_drop_missing_hungarian = dp.one_hot_encoding_2(drop_missing_hungarian)\n",
    "encode_drop_missing_switzerland = dp.one_hot_encoding_2(drop_missing_switzerland)\n",
    "encode_drop_missing_va = dp.one_hot_encoding_2(drop_missing_va)\n",
    "encode_drop_missing_heart = dp.one_hot_encoding_2(drop_missing_heart)\n",
    "\n",
    "# ================ Mode Dataset  - Missing values replaced with the mode\n",
    "encode_mode_cleveland = dp.one_hot_encoding_2(mode_cleveland)\n",
    "encode_mode_hungarian = dp.one_hot_encoding_2(mode_hungarian)\n",
    "encode_mode_switzerland = dp.one_hot_encoding_2(mode_switzerland)\n",
    "encode_mode_va = dp.one_hot_encoding_2(mode_va)\n",
    "encode_mode_heart = dp.one_hot_encoding_2(mode_heart)\n",
    "\n",
    "\n",
    "\n",
    "# ================ Learned Missing Features Dataset "
   ]
  },
  {
   "cell_type": "markdown",
   "id": "romantic-syndicate",
   "metadata": {},
   "source": [
    "<a id=\"section_3_5\" name=\"section_3_5\">section_3_5</a>"
   ]
  },
  {
   "cell_type": "markdown",
   "id": "substantial-robin",
   "metadata": {},
   "source": [
    "<h4 style=\"color:lightcoral\"><strong>Exploratory Analysis and Data Visualization</strong></h4>\n",
    "\n",
    "\n",
    "> Countplots\n",
    "\n",
    "> Histogram\n",
    "\n",
    "> Box Plot\n"
   ]
  },
  {
   "cell_type": "code",
   "execution_count": 7,
   "id": "expanded-meeting",
   "metadata": {},
   "outputs": [
    {
     "data": {
      "text/html": [
       "<div>\n",
       "<style scoped>\n",
       "    .dataframe tbody tr th:only-of-type {\n",
       "        vertical-align: middle;\n",
       "    }\n",
       "\n",
       "    .dataframe tbody tr th {\n",
       "        vertical-align: top;\n",
       "    }\n",
       "\n",
       "    .dataframe thead th {\n",
       "        text-align: right;\n",
       "    }\n",
       "</style>\n",
       "<table border=\"1\" class=\"dataframe\">\n",
       "  <thead>\n",
       "    <tr style=\"text-align: right;\">\n",
       "      <th></th>\n",
       "      <th>age</th>\n",
       "      <th>sex</th>\n",
       "      <th>cp</th>\n",
       "      <th>trestbps</th>\n",
       "      <th>chol</th>\n",
       "      <th>fbs</th>\n",
       "      <th>restecg</th>\n",
       "      <th>thalach</th>\n",
       "      <th>exang</th>\n",
       "      <th>oldpeak</th>\n",
       "      <th>slope</th>\n",
       "      <th>ca</th>\n",
       "      <th>thal</th>\n",
       "      <th>num</th>\n",
       "    </tr>\n",
       "  </thead>\n",
       "  <tbody>\n",
       "    <tr>\n",
       "      <th>0</th>\n",
       "      <td>63.0</td>\n",
       "      <td>1</td>\n",
       "      <td>1</td>\n",
       "      <td>145.0</td>\n",
       "      <td>233.0</td>\n",
       "      <td>1</td>\n",
       "      <td>1</td>\n",
       "      <td>150.0</td>\n",
       "      <td>0</td>\n",
       "      <td>2.3</td>\n",
       "      <td>1</td>\n",
       "      <td>0</td>\n",
       "      <td>6.0</td>\n",
       "      <td>0</td>\n",
       "    </tr>\n",
       "    <tr>\n",
       "      <th>1</th>\n",
       "      <td>67.0</td>\n",
       "      <td>1</td>\n",
       "      <td>1</td>\n",
       "      <td>160.0</td>\n",
       "      <td>286.0</td>\n",
       "      <td>0</td>\n",
       "      <td>1</td>\n",
       "      <td>108.0</td>\n",
       "      <td>1</td>\n",
       "      <td>1.5</td>\n",
       "      <td>1</td>\n",
       "      <td>1</td>\n",
       "      <td>1.0</td>\n",
       "      <td>1</td>\n",
       "    </tr>\n",
       "    <tr>\n",
       "      <th>2</th>\n",
       "      <td>67.0</td>\n",
       "      <td>1</td>\n",
       "      <td>1</td>\n",
       "      <td>120.0</td>\n",
       "      <td>229.0</td>\n",
       "      <td>0</td>\n",
       "      <td>1</td>\n",
       "      <td>129.0</td>\n",
       "      <td>1</td>\n",
       "      <td>2.6</td>\n",
       "      <td>1</td>\n",
       "      <td>1</td>\n",
       "      <td>7.0</td>\n",
       "      <td>1</td>\n",
       "    </tr>\n",
       "    <tr>\n",
       "      <th>3</th>\n",
       "      <td>37.0</td>\n",
       "      <td>1</td>\n",
       "      <td>1</td>\n",
       "      <td>130.0</td>\n",
       "      <td>250.0</td>\n",
       "      <td>0</td>\n",
       "      <td>0</td>\n",
       "      <td>187.0</td>\n",
       "      <td>0</td>\n",
       "      <td>3.5</td>\n",
       "      <td>1</td>\n",
       "      <td>0</td>\n",
       "      <td>1.0</td>\n",
       "      <td>0</td>\n",
       "    </tr>\n",
       "    <tr>\n",
       "      <th>4</th>\n",
       "      <td>41.0</td>\n",
       "      <td>0</td>\n",
       "      <td>1</td>\n",
       "      <td>130.0</td>\n",
       "      <td>204.0</td>\n",
       "      <td>0</td>\n",
       "      <td>1</td>\n",
       "      <td>172.0</td>\n",
       "      <td>0</td>\n",
       "      <td>1.4</td>\n",
       "      <td>1</td>\n",
       "      <td>0</td>\n",
       "      <td>1.0</td>\n",
       "      <td>0</td>\n",
       "    </tr>\n",
       "    <tr>\n",
       "      <th>...</th>\n",
       "      <td>...</td>\n",
       "      <td>...</td>\n",
       "      <td>...</td>\n",
       "      <td>...</td>\n",
       "      <td>...</td>\n",
       "      <td>...</td>\n",
       "      <td>...</td>\n",
       "      <td>...</td>\n",
       "      <td>...</td>\n",
       "      <td>...</td>\n",
       "      <td>...</td>\n",
       "      <td>...</td>\n",
       "      <td>...</td>\n",
       "      <td>...</td>\n",
       "    </tr>\n",
       "    <tr>\n",
       "      <th>297</th>\n",
       "      <td>57.0</td>\n",
       "      <td>0</td>\n",
       "      <td>1</td>\n",
       "      <td>140.0</td>\n",
       "      <td>241.0</td>\n",
       "      <td>0</td>\n",
       "      <td>0</td>\n",
       "      <td>123.0</td>\n",
       "      <td>1</td>\n",
       "      <td>0.2</td>\n",
       "      <td>1</td>\n",
       "      <td>0</td>\n",
       "      <td>7.0</td>\n",
       "      <td>1</td>\n",
       "    </tr>\n",
       "    <tr>\n",
       "      <th>298</th>\n",
       "      <td>45.0</td>\n",
       "      <td>1</td>\n",
       "      <td>1</td>\n",
       "      <td>110.0</td>\n",
       "      <td>264.0</td>\n",
       "      <td>0</td>\n",
       "      <td>0</td>\n",
       "      <td>132.0</td>\n",
       "      <td>0</td>\n",
       "      <td>1.2</td>\n",
       "      <td>1</td>\n",
       "      <td>0</td>\n",
       "      <td>7.0</td>\n",
       "      <td>1</td>\n",
       "    </tr>\n",
       "    <tr>\n",
       "      <th>299</th>\n",
       "      <td>68.0</td>\n",
       "      <td>1</td>\n",
       "      <td>1</td>\n",
       "      <td>144.0</td>\n",
       "      <td>193.0</td>\n",
       "      <td>1</td>\n",
       "      <td>0</td>\n",
       "      <td>141.0</td>\n",
       "      <td>0</td>\n",
       "      <td>3.4</td>\n",
       "      <td>1</td>\n",
       "      <td>1</td>\n",
       "      <td>7.0</td>\n",
       "      <td>1</td>\n",
       "    </tr>\n",
       "    <tr>\n",
       "      <th>300</th>\n",
       "      <td>57.0</td>\n",
       "      <td>1</td>\n",
       "      <td>1</td>\n",
       "      <td>130.0</td>\n",
       "      <td>131.0</td>\n",
       "      <td>0</td>\n",
       "      <td>0</td>\n",
       "      <td>115.0</td>\n",
       "      <td>1</td>\n",
       "      <td>1.2</td>\n",
       "      <td>1</td>\n",
       "      <td>1</td>\n",
       "      <td>7.0</td>\n",
       "      <td>1</td>\n",
       "    </tr>\n",
       "    <tr>\n",
       "      <th>301</th>\n",
       "      <td>57.0</td>\n",
       "      <td>0</td>\n",
       "      <td>1</td>\n",
       "      <td>130.0</td>\n",
       "      <td>236.0</td>\n",
       "      <td>0</td>\n",
       "      <td>1</td>\n",
       "      <td>174.0</td>\n",
       "      <td>0</td>\n",
       "      <td>0.0</td>\n",
       "      <td>1</td>\n",
       "      <td>1</td>\n",
       "      <td>1.0</td>\n",
       "      <td>1</td>\n",
       "    </tr>\n",
       "  </tbody>\n",
       "</table>\n",
       "<p>297 rows × 14 columns</p>\n",
       "</div>"
      ],
      "text/plain": [
       "      age  sex  cp  trestbps   chol  fbs  restecg  thalach  exang  oldpeak  \\\n",
       "0    63.0    1   1     145.0  233.0    1        1    150.0      0      2.3   \n",
       "1    67.0    1   1     160.0  286.0    0        1    108.0      1      1.5   \n",
       "2    67.0    1   1     120.0  229.0    0        1    129.0      1      2.6   \n",
       "3    37.0    1   1     130.0  250.0    0        0    187.0      0      3.5   \n",
       "4    41.0    0   1     130.0  204.0    0        1    172.0      0      1.4   \n",
       "..    ...  ...  ..       ...    ...  ...      ...      ...    ...      ...   \n",
       "297  57.0    0   1     140.0  241.0    0        0    123.0      1      0.2   \n",
       "298  45.0    1   1     110.0  264.0    0        0    132.0      0      1.2   \n",
       "299  68.0    1   1     144.0  193.0    1        0    141.0      0      3.4   \n",
       "300  57.0    1   1     130.0  131.0    0        0    115.0      1      1.2   \n",
       "301  57.0    0   1     130.0  236.0    0        1    174.0      0      0.0   \n",
       "\n",
       "     slope  ca  thal  num  \n",
       "0        1   0   6.0    0  \n",
       "1        1   1   1.0    1  \n",
       "2        1   1   7.0    1  \n",
       "3        1   0   1.0    0  \n",
       "4        1   0   1.0    0  \n",
       "..     ...  ..   ...  ...  \n",
       "297      1   0   7.0    1  \n",
       "298      1   0   7.0    1  \n",
       "299      1   1   7.0    1  \n",
       "300      1   1   7.0    1  \n",
       "301      1   1   1.0    1  \n",
       "\n",
       "[297 rows x 14 columns]"
      ]
     },
     "execution_count": 7,
     "metadata": {},
     "output_type": "execute_result"
    }
   ],
   "source": [
    "categories = list(convert_dict.keys())\n",
    "continuous = list(filter(lambda x:x not in categories,drop_missing_cleveland.columns))\n",
    "drop_missing_cleveland"
   ]
  },
  {
   "cell_type": "code",
   "execution_count": 8,
   "id": "developmental-diversity",
   "metadata": {},
   "outputs": [
    {
     "data": {
      "text/plain": [
       "<AxesSubplot:xlabel='sex', ylabel='age'>"
      ]
     },
     "execution_count": 8,
     "metadata": {},
     "output_type": "execute_result"
    },
    {
     "data": {
      "image/png": "[encoded data removed]",
      "text/plain": [
       "<Figure size 432x288 with 1 Axes>"
      ]
     },
     "metadata": {
      "needs_background": "light"
     },
     "output_type": "display_data"
    }
   ],
   "source": [
    "description_dataset = dp.make_description_dataset(drop_missing_cleveland,categories)\n",
    "sns.barplot(x=\"sex\", y=\"age\", data=drop_missing_cleveland,hue='num')"
   ]
  },
  {
   "cell_type": "code",
   "execution_count": 9,
   "id": "auburn-organization",
   "metadata": {},
   "outputs": [
    {
     "data": {
      "text/plain": [
       "<AxesSubplot:xlabel='num', ylabel='count'>"
      ]
     },
     "execution_count": 9,
     "metadata": {},
     "output_type": "execute_result"
    },
    {
     "data": {
      "image/png": "[encoded data removed]",
      "text/plain": [
       "<Figure size 432x288 with 1 Axes>"
      ]
     },
     "metadata": {
      "needs_background": "light"
     },
     "output_type": "display_data"
    }
   ],
   "source": [
    "sns.countplot(x=\"num\",data=description_dataset)"
   ]
  },
  {
   "cell_type": "code",
   "execution_count": 10,
   "id": "direct-thermal",
   "metadata": {},
   "outputs": [
    {
     "data": {
      "image/png": "[encoded data removed]",
      "text/plain": [
       "<Figure size 1080x720 with 6 Axes>"
      ]
     },
     "metadata": {
      "needs_background": "light"
     },
     "output_type": "display_data"
    }
   ],
   "source": [
    "dv.count_plot_categories(description_dataset,categories,names)"
   ]
  },
  {
   "cell_type": "code",
   "execution_count": 11,
   "id": "threatened-seafood",
   "metadata": {},
   "outputs": [
    {
     "data": {
      "image/png": "[encoded data removed]",
      "text/plain": [
       "<Figure size 1080x720 with 6 Axes>"
      ]
     },
     "metadata": {
      "needs_background": "light"
     },
     "output_type": "display_data"
    }
   ],
   "source": [
    "dv.hist_plot_continuous(drop_missing_cleveland,continuous,names,n=3,m=2,hue='num')"
   ]
  },
  {
   "cell_type": "code",
   "execution_count": 12,
   "id": "solid-footwear",
   "metadata": {},
   "outputs": [
    {
     "data": {
      "image/png": "[encoded data removed]",
      "text/plain": [
       "<Figure size 1080x720 with 6 Axes>"
      ]
     },
     "metadata": {
      "needs_background": "light"
     },
     "output_type": "display_data"
    }
   ],
   "source": [
    "dv.box_plot_continuous(drop_missing_cleveland,continuous,names,n=3,m=2,hue='num')"
   ]
  },
  {
   "cell_type": "markdown",
   "id": "fossil-remedy",
   "metadata": {},
   "source": [
    "<a id=\"chapter_4\" name=\"chapter_4\">chapter_4</a>"
   ]
  },
  {
   "cell_type": "markdown",
   "id": "czech-activity",
   "metadata": {},
   "source": [
    "<h2 style=\"text-align:center\">Algorithm</h2>\n",
    "\n",
    "> Train a model to predict heart disease \n",
    "> * Perform Hyperparameter Tuning\n",
    "\n",
    "> Optimize the model to predict heart disease \n",
    "> * Perform Hyperparameter Tuning\n",
    "\n",
    "> Train a state of the art algorithm\n",
    "\n",
    "> Compare the three models and interpret the results\n",
    "\\\n",
    "\n",
    "> Finalize the choice of the final model"
   ]
  },
  {
   "cell_type": "markdown",
   "id": "proud-speed",
   "metadata": {},
   "source": [
    "<a id=\"section_4_1\" name=\"section_4_1\">section_4_1</a>"
   ]
  },
  {
   "cell_type": "markdown",
   "id": "charming-thumb",
   "metadata": {},
   "source": [
    "<h4 style=\"color:lightcoral\"><strong>Data Preparation</strong></h4>\n",
    "\n",
    "> Train Validation Test Split\n",
    "\n",
    "> Cross-Validation using K-Fold\n",
    "\n",
    "> Set the hyperparameters of the model\n"
   ]
  },
  {
   "cell_type": "code",
   "execution_count": 13,
   "id": "natural-claim",
   "metadata": {},
   "outputs": [],
   "source": [
    "cleveland_dataset = encode_drop_missing_cleveland.copy()\n",
    "cleveland_dataset = dp.minmax_scale(cleveland_dataset)\n",
    "cleveland_dataset = dp.add_bias(cleveland_dataset)\n",
    "cleveland_dataset = cleveland_dataset.sample(frac=1).reset_index(drop=True)"
   ]
  },
  {
   "cell_type": "code",
   "execution_count": 14,
   "id": "covered-vacation",
   "metadata": {},
   "outputs": [],
   "source": [
    "X = cleveland_dataset.iloc[:,:-1]\n",
    "y = cleveland_dataset.iloc[:,-1] # # X_train, X_test, y_train, y_test = train_test_split(X, y, test_size=0.33, random_state=42)\n",
    "sixty_split =  int(len(cleveland_dataset) * 0.6)\n",
    "twenty_split = int(len(cleveland_dataset) * 0.2)\n",
    "X_train = X.iloc[:sixty_split];X_valid = X.iloc[sixty_split:sixty_split+twenty_split];X_test = X.iloc[sixty_split+twenty_split:]\n",
    "y_train = y.iloc[:sixty_split];y_valid = y.iloc[sixty_split:sixty_split+twenty_split];y_test = y.iloc[sixty_split+twenty_split:]"
   ]
  },
  {
   "cell_type": "code",
   "execution_count": 15,
   "id": "backed-nursing",
   "metadata": {},
   "outputs": [
    {
     "data": {
      "text/html": [
       "<div>\n",
       "<style scoped>\n",
       "    .dataframe tbody tr th:only-of-type {\n",
       "        vertical-align: middle;\n",
       "    }\n",
       "\n",
       "    .dataframe tbody tr th {\n",
       "        vertical-align: top;\n",
       "    }\n",
       "\n",
       "    .dataframe thead th {\n",
       "        text-align: right;\n",
       "    }\n",
       "</style>\n",
       "<table border=\"1\" class=\"dataframe\">\n",
       "  <thead>\n",
       "    <tr style=\"text-align: right;\">\n",
       "      <th></th>\n",
       "      <th>Bias</th>\n",
       "      <th>age</th>\n",
       "      <th>trestbps</th>\n",
       "      <th>chol</th>\n",
       "      <th>thalach</th>\n",
       "      <th>oldpeak</th>\n",
       "      <th>thal</th>\n",
       "      <th>sex_0</th>\n",
       "      <th>sex_1</th>\n",
       "      <th>cp_1</th>\n",
       "      <th>fbs_0</th>\n",
       "      <th>fbs_1</th>\n",
       "      <th>restecg_0</th>\n",
       "      <th>restecg_1</th>\n",
       "      <th>exang_0</th>\n",
       "      <th>exang_1</th>\n",
       "      <th>slope_1</th>\n",
       "      <th>ca_0</th>\n",
       "      <th>ca_1</th>\n",
       "      <th>num</th>\n",
       "    </tr>\n",
       "  </thead>\n",
       "  <tbody>\n",
       "    <tr>\n",
       "      <th>237</th>\n",
       "      <td>1.0</td>\n",
       "      <td>0.187500</td>\n",
       "      <td>0.245283</td>\n",
       "      <td>0.239726</td>\n",
       "      <td>0.847328</td>\n",
       "      <td>0.612903</td>\n",
       "      <td>1.0</td>\n",
       "      <td>0.0</td>\n",
       "      <td>1.0</td>\n",
       "      <td>1</td>\n",
       "      <td>1.0</td>\n",
       "      <td>0.0</td>\n",
       "      <td>1.0</td>\n",
       "      <td>0.0</td>\n",
       "      <td>0.0</td>\n",
       "      <td>1.0</td>\n",
       "      <td>1</td>\n",
       "      <td>1.0</td>\n",
       "      <td>0.0</td>\n",
       "      <td>1</td>\n",
       "    </tr>\n",
       "    <tr>\n",
       "      <th>238</th>\n",
       "      <td>1.0</td>\n",
       "      <td>0.583333</td>\n",
       "      <td>0.528302</td>\n",
       "      <td>0.095890</td>\n",
       "      <td>0.786260</td>\n",
       "      <td>0.258065</td>\n",
       "      <td>0.0</td>\n",
       "      <td>0.0</td>\n",
       "      <td>1.0</td>\n",
       "      <td>1</td>\n",
       "      <td>1.0</td>\n",
       "      <td>0.0</td>\n",
       "      <td>1.0</td>\n",
       "      <td>0.0</td>\n",
       "      <td>1.0</td>\n",
       "      <td>0.0</td>\n",
       "      <td>1</td>\n",
       "      <td>1.0</td>\n",
       "      <td>0.0</td>\n",
       "      <td>0</td>\n",
       "    </tr>\n",
       "    <tr>\n",
       "      <th>239</th>\n",
       "      <td>1.0</td>\n",
       "      <td>0.291667</td>\n",
       "      <td>0.264151</td>\n",
       "      <td>0.198630</td>\n",
       "      <td>0.717557</td>\n",
       "      <td>0.032258</td>\n",
       "      <td>0.0</td>\n",
       "      <td>1.0</td>\n",
       "      <td>0.0</td>\n",
       "      <td>1</td>\n",
       "      <td>1.0</td>\n",
       "      <td>0.0</td>\n",
       "      <td>1.0</td>\n",
       "      <td>0.0</td>\n",
       "      <td>1.0</td>\n",
       "      <td>0.0</td>\n",
       "      <td>1</td>\n",
       "      <td>1.0</td>\n",
       "      <td>0.0</td>\n",
       "      <td>0</td>\n",
       "    </tr>\n",
       "    <tr>\n",
       "      <th>240</th>\n",
       "      <td>1.0</td>\n",
       "      <td>0.645833</td>\n",
       "      <td>0.528302</td>\n",
       "      <td>0.301370</td>\n",
       "      <td>0.656489</td>\n",
       "      <td>0.419355</td>\n",
       "      <td>1.0</td>\n",
       "      <td>1.0</td>\n",
       "      <td>0.0</td>\n",
       "      <td>1</td>\n",
       "      <td>1.0</td>\n",
       "      <td>0.0</td>\n",
       "      <td>0.0</td>\n",
       "      <td>1.0</td>\n",
       "      <td>1.0</td>\n",
       "      <td>0.0</td>\n",
       "      <td>1</td>\n",
       "      <td>0.0</td>\n",
       "      <td>1.0</td>\n",
       "      <td>1</td>\n",
       "    </tr>\n",
       "    <tr>\n",
       "      <th>241</th>\n",
       "      <td>1.0</td>\n",
       "      <td>0.354167</td>\n",
       "      <td>0.245283</td>\n",
       "      <td>0.280822</td>\n",
       "      <td>0.557252</td>\n",
       "      <td>0.129032</td>\n",
       "      <td>1.0</td>\n",
       "      <td>0.0</td>\n",
       "      <td>1.0</td>\n",
       "      <td>1</td>\n",
       "      <td>1.0</td>\n",
       "      <td>0.0</td>\n",
       "      <td>0.0</td>\n",
       "      <td>1.0</td>\n",
       "      <td>1.0</td>\n",
       "      <td>0.0</td>\n",
       "      <td>1</td>\n",
       "      <td>1.0</td>\n",
       "      <td>0.0</td>\n",
       "      <td>1</td>\n",
       "    </tr>\n",
       "  </tbody>\n",
       "</table>\n",
       "</div>"
      ],
      "text/plain": [
       "     Bias       age  trestbps      chol   thalach   oldpeak  thal  sex_0  \\\n",
       "237   1.0  0.187500  0.245283  0.239726  0.847328  0.612903   1.0    0.0   \n",
       "238   1.0  0.583333  0.528302  0.095890  0.786260  0.258065   0.0    0.0   \n",
       "239   1.0  0.291667  0.264151  0.198630  0.717557  0.032258   0.0    1.0   \n",
       "240   1.0  0.645833  0.528302  0.301370  0.656489  0.419355   1.0    1.0   \n",
       "241   1.0  0.354167  0.245283  0.280822  0.557252  0.129032   1.0    0.0   \n",
       "\n",
       "     sex_1  cp_1  fbs_0  fbs_1  restecg_0  restecg_1  exang_0  exang_1  \\\n",
       "237    1.0     1    1.0    0.0        1.0        0.0      0.0      1.0   \n",
       "238    1.0     1    1.0    0.0        1.0        0.0      1.0      0.0   \n",
       "239    0.0     1    1.0    0.0        1.0        0.0      1.0      0.0   \n",
       "240    0.0     1    1.0    0.0        0.0        1.0      1.0      0.0   \n",
       "241    1.0     1    1.0    0.0        0.0        1.0      1.0      0.0   \n",
       "\n",
       "     slope_1  ca_0  ca_1  num  \n",
       "237        1   1.0   0.0    1  \n",
       "238        1   1.0   0.0    0  \n",
       "239        1   1.0   0.0    0  \n",
       "240        1   0.0   1.0    1  \n",
       "241        1   1.0   0.0    1  "
      ]
     },
     "execution_count": 15,
     "metadata": {},
     "output_type": "execute_result"
    }
   ],
   "source": [
    "training_data = X_train.join(y_train)\n",
    "validation_data = X_valid.join(y_valid)\n",
    "testing_data = X_test.join(y_test)\n",
    "testing_data.head()"
   ]
  },
  {
   "cell_type": "code",
   "execution_count": 16,
   "id": "martial-henry",
   "metadata": {},
   "outputs": [],
   "source": [
    "learning_rates =  [0.2,0.3,0.4,0.5,0.6]\n",
    "epochs = [100,120,150,200,250]"
   ]
  },
  {
   "cell_type": "markdown",
   "id": "suffering-lesbian",
   "metadata": {},
   "source": [
    "<a id=\"section_4_2\" name=\"section_4_2\">section_4_2</a>"
   ]
  },
  {
   "cell_type": "markdown",
   "id": "valued-philosophy",
   "metadata": {},
   "source": [
    "<h4 style=\"color:lightcoral\"><strong>Training A Model</strong></h4>\n",
    "\n",
    "> Train A Logistic regression model\n",
    "\n",
    "> Tune hyperparameters\n",
    "\n",
    "> Choose the best model\n"
   ]
  },
  {
   "cell_type": "code",
   "execution_count": 17,
   "id": "imposed-swimming",
   "metadata": {},
   "outputs": [],
   "source": [
    "hyperparameter = lr.validation(training_data,validation_data,y_valid,learning_rates =  [0.2,0.3,0.4,0.5,0.6],epochs = [100,120,150,200,250]) "
   ]
  },
  {
   "cell_type": "code",
   "execution_count": 18,
   "id": "horizontal-celtic",
   "metadata": {},
   "outputs": [
    {
     "name": "stdout",
     "output_type": "stream",
     "text": [
      "The tuned learning rate hyperparemter is : 0.5\n",
      "The tuned epochs hyperparemter is : 200\n"
     ]
    }
   ],
   "source": [
    "lrate = learning_rates[hyperparameter]\n",
    "npochs = epochs[hyperparameter]\n",
    "print(\"The tuned learning rate hyperparemter is :\", lrate)\n",
    "print(\"The tuned epochs hyperparemter is :\", npochs)"
   ]
  },
  {
   "cell_type": "code",
   "execution_count": 19,
   "id": "annual-radio",
   "metadata": {},
   "outputs": [],
   "source": [
    "coefficients,_ = lr.sgd(training_data,lrate,npochs) # lrate = 0.4, npochs = 150"
   ]
  },
  {
   "cell_type": "code",
   "execution_count": 20,
   "id": "indie-peninsula",
   "metadata": {},
   "outputs": [],
   "source": [
    "coefficients = np.array(coefficients).reshape(len(coefficients),1)\n",
    "predictions = acc.predict(testing_data,coefficients)\n",
    "results = acc.thresold_results(testing_data,coefficients)"
   ]
  },
  {
   "cell_type": "code",
   "execution_count": 21,
   "id": "nutritional-funds",
   "metadata": {},
   "outputs": [
    {
     "data": {
      "text/html": [
       "<div>\n",
       "<style scoped>\n",
       "    .dataframe tbody tr th:only-of-type {\n",
       "        vertical-align: middle;\n",
       "    }\n",
       "\n",
       "    .dataframe tbody tr th {\n",
       "        vertical-align: top;\n",
       "    }\n",
       "\n",
       "    .dataframe thead th {\n",
       "        text-align: right;\n",
       "    }\n",
       "</style>\n",
       "<table border=\"1\" class=\"dataframe\">\n",
       "  <thead>\n",
       "    <tr style=\"text-align: right;\">\n",
       "      <th></th>\n",
       "      <th>Bias</th>\n",
       "      <th>age</th>\n",
       "      <th>trestbps</th>\n",
       "      <th>chol</th>\n",
       "      <th>thalach</th>\n",
       "      <th>oldpeak</th>\n",
       "      <th>thal</th>\n",
       "      <th>sex_0</th>\n",
       "      <th>sex_1</th>\n",
       "      <th>cp_1</th>\n",
       "      <th>...</th>\n",
       "      <th>fbs_1</th>\n",
       "      <th>restecg_0</th>\n",
       "      <th>restecg_1</th>\n",
       "      <th>exang_0</th>\n",
       "      <th>exang_1</th>\n",
       "      <th>slope_1</th>\n",
       "      <th>ca_0</th>\n",
       "      <th>ca_1</th>\n",
       "      <th>num</th>\n",
       "      <th>predicted</th>\n",
       "    </tr>\n",
       "  </thead>\n",
       "  <tbody>\n",
       "    <tr>\n",
       "      <th>237</th>\n",
       "      <td>1.0</td>\n",
       "      <td>0.187500</td>\n",
       "      <td>0.245283</td>\n",
       "      <td>0.239726</td>\n",
       "      <td>0.847328</td>\n",
       "      <td>0.612903</td>\n",
       "      <td>1.0</td>\n",
       "      <td>0.0</td>\n",
       "      <td>1.0</td>\n",
       "      <td>1</td>\n",
       "      <td>...</td>\n",
       "      <td>0.0</td>\n",
       "      <td>1.0</td>\n",
       "      <td>0.0</td>\n",
       "      <td>0.0</td>\n",
       "      <td>1.0</td>\n",
       "      <td>1</td>\n",
       "      <td>1.0</td>\n",
       "      <td>0.0</td>\n",
       "      <td>1</td>\n",
       "      <td>0</td>\n",
       "    </tr>\n",
       "    <tr>\n",
       "      <th>238</th>\n",
       "      <td>1.0</td>\n",
       "      <td>0.583333</td>\n",
       "      <td>0.528302</td>\n",
       "      <td>0.095890</td>\n",
       "      <td>0.786260</td>\n",
       "      <td>0.258065</td>\n",
       "      <td>0.0</td>\n",
       "      <td>0.0</td>\n",
       "      <td>1.0</td>\n",
       "      <td>1</td>\n",
       "      <td>...</td>\n",
       "      <td>0.0</td>\n",
       "      <td>1.0</td>\n",
       "      <td>0.0</td>\n",
       "      <td>1.0</td>\n",
       "      <td>0.0</td>\n",
       "      <td>1</td>\n",
       "      <td>1.0</td>\n",
       "      <td>0.0</td>\n",
       "      <td>0</td>\n",
       "      <td>0</td>\n",
       "    </tr>\n",
       "    <tr>\n",
       "      <th>239</th>\n",
       "      <td>1.0</td>\n",
       "      <td>0.291667</td>\n",
       "      <td>0.264151</td>\n",
       "      <td>0.198630</td>\n",
       "      <td>0.717557</td>\n",
       "      <td>0.032258</td>\n",
       "      <td>0.0</td>\n",
       "      <td>1.0</td>\n",
       "      <td>0.0</td>\n",
       "      <td>1</td>\n",
       "      <td>...</td>\n",
       "      <td>0.0</td>\n",
       "      <td>1.0</td>\n",
       "      <td>0.0</td>\n",
       "      <td>1.0</td>\n",
       "      <td>0.0</td>\n",
       "      <td>1</td>\n",
       "      <td>1.0</td>\n",
       "      <td>0.0</td>\n",
       "      <td>0</td>\n",
       "      <td>0</td>\n",
       "    </tr>\n",
       "    <tr>\n",
       "      <th>240</th>\n",
       "      <td>1.0</td>\n",
       "      <td>0.645833</td>\n",
       "      <td>0.528302</td>\n",
       "      <td>0.301370</td>\n",
       "      <td>0.656489</td>\n",
       "      <td>0.419355</td>\n",
       "      <td>1.0</td>\n",
       "      <td>1.0</td>\n",
       "      <td>0.0</td>\n",
       "      <td>1</td>\n",
       "      <td>...</td>\n",
       "      <td>0.0</td>\n",
       "      <td>0.0</td>\n",
       "      <td>1.0</td>\n",
       "      <td>1.0</td>\n",
       "      <td>0.0</td>\n",
       "      <td>1</td>\n",
       "      <td>0.0</td>\n",
       "      <td>1.0</td>\n",
       "      <td>1</td>\n",
       "      <td>1</td>\n",
       "    </tr>\n",
       "    <tr>\n",
       "      <th>241</th>\n",
       "      <td>1.0</td>\n",
       "      <td>0.354167</td>\n",
       "      <td>0.245283</td>\n",
       "      <td>0.280822</td>\n",
       "      <td>0.557252</td>\n",
       "      <td>0.129032</td>\n",
       "      <td>1.0</td>\n",
       "      <td>0.0</td>\n",
       "      <td>1.0</td>\n",
       "      <td>1</td>\n",
       "      <td>...</td>\n",
       "      <td>0.0</td>\n",
       "      <td>0.0</td>\n",
       "      <td>1.0</td>\n",
       "      <td>1.0</td>\n",
       "      <td>0.0</td>\n",
       "      <td>1</td>\n",
       "      <td>1.0</td>\n",
       "      <td>0.0</td>\n",
       "      <td>1</td>\n",
       "      <td>1</td>\n",
       "    </tr>\n",
       "  </tbody>\n",
       "</table>\n",
       "<p>5 rows × 21 columns</p>\n",
       "</div>"
      ],
      "text/plain": [
       "     Bias       age  trestbps      chol   thalach   oldpeak  thal  sex_0  \\\n",
       "237   1.0  0.187500  0.245283  0.239726  0.847328  0.612903   1.0    0.0   \n",
       "238   1.0  0.583333  0.528302  0.095890  0.786260  0.258065   0.0    0.0   \n",
       "239   1.0  0.291667  0.264151  0.198630  0.717557  0.032258   0.0    1.0   \n",
       "240   1.0  0.645833  0.528302  0.301370  0.656489  0.419355   1.0    1.0   \n",
       "241   1.0  0.354167  0.245283  0.280822  0.557252  0.129032   1.0    0.0   \n",
       "\n",
       "     sex_1  cp_1  ...  fbs_1  restecg_0  restecg_1  exang_0  exang_1  slope_1  \\\n",
       "237    1.0     1  ...    0.0        1.0        0.0      0.0      1.0        1   \n",
       "238    1.0     1  ...    0.0        1.0        0.0      1.0      0.0        1   \n",
       "239    0.0     1  ...    0.0        1.0        0.0      1.0      0.0        1   \n",
       "240    0.0     1  ...    0.0        0.0        1.0      1.0      0.0        1   \n",
       "241    1.0     1  ...    0.0        0.0        1.0      1.0      0.0        1   \n",
       "\n",
       "     ca_0  ca_1  num  predicted  \n",
       "237   1.0   0.0    1          0  \n",
       "238   1.0   0.0    0          0  \n",
       "239   1.0   0.0    0          0  \n",
       "240   0.0   1.0    1          1  \n",
       "241   1.0   0.0    1          1  \n",
       "\n",
       "[5 rows x 21 columns]"
      ]
     },
     "execution_count": 21,
     "metadata": {},
     "output_type": "execute_result"
    }
   ],
   "source": [
    "testing_data['predicted'] = results\n",
    "testing_data.head()"
   ]
  },
  {
   "cell_type": "code",
   "execution_count": 22,
   "id": "sunrise-printer",
   "metadata": {},
   "outputs": [
    {
     "data": {
      "text/plain": [
       "83.33333333333334"
      ]
     },
     "execution_count": 22,
     "metadata": {},
     "output_type": "execute_result"
    }
   ],
   "source": [
    "acc.accuracy_metric(y_test,np.array(results))"
   ]
  },
  {
   "cell_type": "code",
   "execution_count": 23,
   "id": "resistant-vehicle",
   "metadata": {},
   "outputs": [
    {
     "data": {
      "text/plain": [
       "Text(0.5, 0, 'Number of Iterations')"
      ]
     },
     "execution_count": 23,
     "metadata": {},
     "output_type": "execute_result"
    },
    {
     "data": {
      "image/png": "[encoded data removed]",
      "text/plain": [
       "<Figure size 432x288 with 1 Axes>"
      ]
     },
     "metadata": {
      "needs_background": "light"
     },
     "output_type": "display_data"
    }
   ],
   "source": [
    "plt.plot(range(npochs)[10:],_[10:])\n",
    "plt.title(\"Cost Function Against The Number of Iterations\")\n",
    "plt.ylabel(\"Cost\")\n",
    "plt.xlabel(\"Number of Iterations\")"
   ]
  },
  {
   "cell_type": "code",
   "execution_count": 24,
   "id": "attached-supplement",
   "metadata": {},
   "outputs": [
    {
     "data": {
      "image/png": "[encoded data removed]",
      "text/plain": [
       "<Figure size 432x288 with 2 Axes>"
      ]
     },
     "metadata": {
      "needs_background": "light"
     },
     "output_type": "display_data"
    }
   ],
   "source": [
    "acc.display_confusion_matrix(y_test,results)"
   ]
  },
  {
   "cell_type": "code",
   "execution_count": 25,
   "id": "innovative-faith",
   "metadata": {},
   "outputs": [
    {
     "name": "stdout",
     "output_type": "stream",
     "text": [
      "No Skill: ROC AUC=0.500\n",
      "Logistic: ROC AUC=0.939\n"
     ]
    },
    {
     "data": {
      "image/png": "[encoded data removed]",
      "text/plain": [
       "<Figure size 432x288 with 1 Axes>"
      ]
     },
     "metadata": {
      "needs_background": "light"
     },
     "output_type": "display_data"
    }
   ],
   "source": [
    "acc.plot_roc_curve(y_test,predictions)"
   ]
  },
  {
   "cell_type": "markdown",
   "id": "delayed-cheese",
   "metadata": {},
   "source": [
    "<a id=\"section_4_3\" name=\"section_4_3\">section_4_3</a>"
   ]
  },
  {
   "cell_type": "markdown",
   "id": "cloudy-directory",
   "metadata": {},
   "source": [
    "<h4 style=\"color:lightcoral\"><strong>Optimize The Model</strong></h4>\n",
    "\n",
    "> Train An Optimized Logistic regression model\n",
    "\n",
    "> Tune hyperparameters\n",
    "\n",
    "> Choose the best model\n"
   ]
  },
  {
   "cell_type": "markdown",
   "id": "sensitive-borough",
   "metadata": {},
   "source": [
    "<a id=\"section_4_4\" name=\"section_4_4\">section_4_4</a>"
   ]
  },
  {
   "cell_type": "markdown",
   "id": "known-gates",
   "metadata": {},
   "source": [
    "<h4 style=\"color:lightcoral\"><strong>Training A State of The Art Model</strong></h4>\n",
    "\n",
    "> Train A Logistic regression model\n"
   ]
  },
  {
   "cell_type": "markdown",
   "id": "essential-option",
   "metadata": {},
   "source": [
    "<a id=\"section_4_5\" name=\"section_4_5\">section_4_5</a>"
   ]
  },
  {
   "cell_type": "markdown",
   "id": "attached-cattle",
   "metadata": {},
   "source": [
    "<h4 style=\"color:lightcoral\"><strong>Compare Model Performance</strong></h4>\n",
    "\n",
    "> Train A Logistic regression model\n"
   ]
  },
  {
   "cell_type": "markdown",
   "id": "spread-leader",
   "metadata": {},
   "source": [
    "<a id=\"section_4_6\" name=\"section_4_6\">section_4_6</a>"
   ]
  },
  {
   "cell_type": "markdown",
   "id": "unlikely-richardson",
   "metadata": {},
   "source": [
    "<h4 style=\"color:lightcoral\"><strong>Conclusion</strong></h4>"
   ]
  },
  {
   "cell_type": "markdown",
   "id": "simplified-opposition",
   "metadata": {},
   "source": [
    "[back to top](#section_n)"
   ]
  },
  {
   "cell_type": "code",
   "execution_count": null,
   "id": "surface-reward",
   "metadata": {},
   "outputs": [],
   "source": []
  }
 ],
 "metadata": {
  "kernelspec": {
   "display_name": "Python 3",
   "language": "python",
   "name": "python3"
  },
  "language_info": {
   "codemirror_mode": {
    "name": "ipython",
    "version": 3
   },
   "file_extension": ".py",
   "mimetype": "text/x-python",
   "name": "python",
   "nbconvert_exporter": "python",
   "pygments_lexer": "ipython3",
   "version": "3.8.5"
  }
 },
 "nbformat": 4,
 "nbformat_minor": 5
}
