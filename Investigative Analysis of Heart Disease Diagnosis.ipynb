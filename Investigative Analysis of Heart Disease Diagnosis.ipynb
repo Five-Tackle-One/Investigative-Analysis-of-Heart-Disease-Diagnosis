{
 "cells": [
  {
   "cell_type": "markdown",
   "id": "rough-telling",
   "metadata": {},
   "source": [
    "<h1 style='text-align:center'>Investigative Analysis of Heart Disease Diagnosis</h1>"
   ]
  },
  {
   "cell_type": "markdown",
   "id": "designing-dragon",
   "metadata": {},
   "source": [
    "Dataset <a href=\"https://www.kaggle.com/ronitf/heart-disease-uci?select=heart.csv\">Heart Disease UCI</a>"
   ]
  },
  {
   "cell_type": "markdown",
   "id": "wired-veteran",
   "metadata": {},
   "source": [
    "<a id=\"section_n\" name=\"section_n\"></a>"
   ]
  },
  {
   "cell_type": "markdown",
   "id": "mineral-sport",
   "metadata": {},
   "source": [
    "## Table of Contents"
   ]
  },
  {
   "cell_type": "markdown",
   "id": "wound-quantum",
   "metadata": {},
   "source": [
    "* [1. Introduction](#chapter2)\n",
    "    * [Heart Disease](#section_2_1)\n",
    "    * [Relevant Study](#section_2_2)\n",
    "    * [Research Question and Problem Statement](#section_2_3)\n",
    "    * [Data Description](#section_2_4)\n",
    "    * [Executive Summary](#section_2_5)\n",
    "    * [Variable Description](#section_2_6)\n",
    "* [2. Data Analysis and Exploration](#chapter3)\n",
    "    * [Data Preparation](#section_3_1)\n",
    "    * [Missing Values](#section_3_2)\n",
    "    * [Encoding](#section_3_4)\n",
    "    * [Exploratory Analysis and Data Visualization](#section_3_5)\n",
    "* [3. Algorithm Implementation](#chapter4)\n",
    "    * [Data Preparation](#section_4_1)\n",
    "    * [Training A Model](#section_4_2)\n",
    "    * [Training A State of The Art Model](#section_4_3)\n",
    "    * [Compare Model Performance](#section_4_4)\n",
    "    * [Compare Best Dataset](#section_4_5)\n",
    "    * [Future Work](#section_4_6)\n",
    "    * [Conclusion](#section_4_7)"
   ]
  },
  {
   "cell_type": "markdown",
   "id": "selected-sharing",
   "metadata": {},
   "source": [
    "research / latex references\n",
    "\n",
    "*  https://0-pubmed-ncbi-nlm-nih-gov.innopac.wits.ac.za/2756873/  International application of a new probability algorithm for the diagnosis of coronary artery disease https://0-www-sciencedirect-com.innopac.wits.ac.za/science/article/pii/0002914989905249?via%3Dihub\n",
    "\n",
    "* Categories https://rdrr.io/github/coatless/ucidata/man/heart_disease.html#heading-3 \n",
    "\n",
    "* Another paper https://www.cabdirect.org/cabdirect/abstract/19711403775  \n",
    "Coronary heart disease in seven countries.\n",
    "\n",
    " \n",
    "*  Heart failure https://my.clevelandclinic.org/health/diseases/17069-heart-failure-understanding-heart-failure\n",
    "\n",
    "* Heart Disease https://my.clevelandclinic.org/health/diseases/16898-coronary-artery-disease"
   ]
  },
  {
   "cell_type": "markdown",
   "id": "golden-sperm",
   "metadata": {},
   "source": [
    "<a id=\"chapter2\" name=\"chapter2\">chapter2</a> "
   ]
  },
  {
   "cell_type": "markdown",
   "id": "incident-michigan",
   "metadata": {},
   "source": [
    "<h2 style=\"text-align:center\">Introduction: Heart Disease Diagnosis</h2>"
   ]
  },
  {
   "cell_type": "markdown",
   "id": "accurate-america",
   "metadata": {},
   "source": [
    "<a id=\"section_2_1\" name=\"section_2_1\">section_2_1</a>"
   ]
  },
  {
   "cell_type": "markdown",
   "id": "parental-alignment",
   "metadata": {},
   "source": [
    "<h4 style=\"color:lightcoral\"><strong>Heart Disease</strong></h4>"
   ]
  },
  {
   "cell_type": "markdown",
   "id": "interested-grave",
   "metadata": {},
   "source": [
    "<a id=\"section_2_2\" name=\"section_2_2\">section_2_2</a>"
   ]
  },
  {
   "cell_type": "markdown",
   "id": "centered-lithuania",
   "metadata": {},
   "source": [
    "<h4 style=\"color:lightcoral\"><strong>Relevant Study</strong></h4>"
   ]
  },
  {
   "cell_type": "markdown",
   "id": "documentary-season",
   "metadata": {},
   "source": [
    "<a id=\"section_2_3\" name=\"section_2_3\">section_2_3</a>"
   ]
  },
  {
   "cell_type": "markdown",
   "id": "asian-sugar",
   "metadata": {},
   "source": [
    "<h4 style=\"color:lightcoral\"><strong>Researh Question and Problem</strong></h4>\n",
    "\n",
    "> <strong>Hypothesis:</strong>\n",
    "\n",
    "> <strong>Relationships</strong>:\n",
    "\n",
    "> <strong>Predictions</strong>: "
   ]
  },
  {
   "cell_type": "markdown",
   "id": "overall-graduation",
   "metadata": {},
   "source": [
    "<a id=\"section_2_4\" name=\"section_2_4\">section_2_4</a>"
   ]
  },
  {
   "cell_type": "markdown",
   "id": "conditional-wiring",
   "metadata": {},
   "source": [
    "<h4 style=\"color:lightcoral\"><strong>Data Description</strong></h4>\n",
    "\n",
    "<strong style=\"color:lightcoral\">Age:</strong> age in years\n",
    "\n",
    "<strong style=\"color:lightcoral\">Sex</strong>\n",
    "> 1 = Male\n",
    "\n",
    "> 2 = Female\n",
    "\n",
    "\n",
    "\n",
    "<strong style=\"color:lightcoral\">Chol: Serum Cholestoral in mg/dl</strong>\n",
    "> $ x \\in \\mathbb{R}$ \n",
    "\n",
    "\n",
    "<strong style='color:lightcoral'>Trestbps: Resting Blood Pressure (in mm Hg on admission to the hospital)</strong>\n",
    "> $ x \\in \\mathbb{R}$ \n",
    "\n",
    "\n",
    "<strong style=\"color:lightcoral\">Chest Pain Type</strong>\n",
    "> Value 1 = Typical Angina\n",
    "\n",
    "> Value 2 = Atypical Angina\n",
    "\n",
    "> Value 3 = Non-Anginal Pain\n",
    "\n",
    "> Value 4 = Asymptomatic\n",
    "\n",
    "\n",
    "\n",
    "<strong style=\"color:lightcoral\">Thalach: Maximum Heart Rate Achieved</strong>\n",
    "> $ x \\in \\mathbb{R}$ \n",
    "\n",
    "\n",
    "<strong style=\"color:lightcoral\">Exang: Exercise Induced Angina </strong>\n",
    "> 1 = Yes\n",
    "\n",
    "> 0 = No\n",
    "\n",
    "<strong style=\"color:lightcoral\">Fasting Blood Sugar > 120 mg</strong>\n",
    "> 1 = True\n",
    "\n",
    "> 2 = False \n",
    "\n",
    "\n",
    "<strong style=\"color:lightcoral\">Resting Electrocardiographic Results</strong>\n",
    ">  Value 0=  Normal\n",
    "\n",
    ">  Value 2=Having ST-T Wave Abnormality (T Wave Inversions)\n",
    "\n",
    ">  Value 3= Showing Probable or Definite Left Ventricular Hypertrophy\n",
    "\n",
    "<strong style='color:lightcoral'>OldPeak = ST Depression Induced by Exercise Relative to Eest</strong>\n",
    "> $ x \\in \\mathbb{R}$ \n",
    "\n",
    "\n",
    "\n",
    "<strong style='color:lightcoral'>ca: Number of Major Vessels (0-3) colored by flourosopy</strong>\n",
    "\n",
    "<strong style='color:lightcoral'>thal: </strong>\n",
    "> 3 = normal\n",
    "\n",
    "> 6 = fixed defect\n",
    "\n",
    "> 7 = reversable defect\n",
    "\n",
    "<strong style=\"color:lightcoral\">Slope: The Slope of the Peak Exercise of ST Segment</strong>\n",
    ">  Value 1= Upsloping\n",
    "\n",
    ">  Value 2= Flat\n",
    "\n",
    ">  Value 3= Downsloping\n",
    "\n",
    "\n",
    "<strong style=\"color:lightcoral\">Target: Presence of Heart Disease</strong>\n",
    ">  Value 0= Absence\n",
    "\n",
    ">  Value 1= Presence\n"
   ]
  },
  {
   "cell_type": "markdown",
   "id": "narrative-aberdeen",
   "metadata": {},
   "source": [
    "<a id=\"section_2_5\" name=\"section_2_5\">section_2_5</a>"
   ]
  },
  {
   "cell_type": "markdown",
   "id": "victorian-surfing",
   "metadata": {},
   "source": [
    "<h4 style=\"color:lightcoral\"><strong>Executive Summary</strong></h4>"
   ]
  },
  {
   "cell_type": "markdown",
   "id": "becoming-concept",
   "metadata": {},
   "source": [
    "<a id=\"chapter3\" name=\"chapter3\">chapter3</a> "
   ]
  },
  {
   "cell_type": "markdown",
   "id": "mathematical-leadership",
   "metadata": {},
   "source": [
    "<h2 style=\"text-align:center\">Data Analysis and Exploration</h2>"
   ]
  },
  {
   "cell_type": "markdown",
   "id": "missing-selection",
   "metadata": {},
   "source": [
    "<a id=\"section_3_1\" name=\"section_3_1\">section_3_1</a>"
   ]
  },
  {
   "cell_type": "code",
   "execution_count": 1,
   "id": "elder-midwest",
   "metadata": {},
   "outputs": [],
   "source": [
    "import pandas as pd\n",
    "import numpy as np\n",
    "import matplotlib.pyplot as plt\n",
    "import engine.data_preparation as dp\n",
    "import engine.data_visualization as dv\n",
    "import engine.logistic_regression as lr\n",
    "import engine.accuracy as acc\n",
    "import seaborn as sns\n",
    "import warnings\n",
    "from IPython.display import clear_output\n",
    "from sklearn.model_selection import train_test_split\n",
    "from sklearn.linear_model import LogisticRegression\n",
    "\n",
    "%matplotlib inline\n",
    "warnings.filterwarnings('ignore')\n",
    "%load_ext autoreload\n",
    "\n",
    "%autoreload"
   ]
  },
  {
   "cell_type": "markdown",
   "id": "greenhouse-method",
   "metadata": {},
   "source": [
    "<h4 style=\"color:lightcoral\"><strong>Data Preparation</strong></h4>\n",
    "\n",
    "> Read dataset \n",
    "\n",
    "> Appropriately change data types\n",
    "\n",
    "> Description \n",
    "> * Number of rows\n",
    "> * Number of features\n",
    "\n",
    "> Is the data balanced ?\n"
   ]
  },
  {
   "cell_type": "code",
   "execution_count": 2,
   "id": "naked-snapshot",
   "metadata": {},
   "outputs": [],
   "source": [
    "dir_str = \"Datasets/data/processed.{}.data\"\n",
    "names = {\"age\":\"Age\",\"sex\":\"Sex\",\"cp\":\"Chest Pain Type\",\"trestbps\":\"Resting Blood Pressure\",\"chol\":\"Serum Cholestoral In mg/dl\",\n",
    "         \"fbs\":\"Fasting Blood Sugar > 120 mg/dl\",\"restecg\":\"Resting Electrocardiographic Results\",\"thalach\":\"Duration of Exercise In Minutes\",\n",
    "         \"exang\":\"Exercise Induced Angina\",\"oldpeak\":\"ST Depression Induced By Exercise\",\"slope\":\"The Slope of The Peak Exercise ST Segment\",\n",
    "         \"ca\":\"Number of Major Vessels\",\"thal\":\"Normal/Fixed or Reversable Defect\",\"num\":\"Presence\"\n",
    "        }\n",
    "convert_dict = {'sex': int,'cp': int,'fbs':int,'restecg':int,'exang':int,'slope':int,'ca':int,'num':int}\n",
    "columns = list(names.keys())"
   ]
  },
  {
   "cell_type": "code",
   "execution_count": 3,
   "id": "mysterious-hobby",
   "metadata": {},
   "outputs": [
    {
     "name": "stdout",
     "output_type": "stream",
     "text": [
      "cleveland: Number of Rows: 303 x Number of Columns: 14 \n",
      "hungarian: Number of Rows: 294 x Number of Columns: 14 \n",
      "switzerland: Number of Rows: 123 x Number of Columns: 14 \n",
      "long beach: Number of Rows: 200 x Number of Columns: 14 \n",
      "======================================================================================================\n"
     ]
    },
    {
     "data": {
      "text/html": [
       "<div>\n",
       "<style scoped>\n",
       "    .dataframe tbody tr th:only-of-type {\n",
       "        vertical-align: middle;\n",
       "    }\n",
       "\n",
       "    .dataframe tbody tr th {\n",
       "        vertical-align: top;\n",
       "    }\n",
       "\n",
       "    .dataframe thead th {\n",
       "        text-align: right;\n",
       "    }\n",
       "</style>\n",
       "<table border=\"1\" class=\"dataframe\">\n",
       "  <thead>\n",
       "    <tr style=\"text-align: right;\">\n",
       "      <th></th>\n",
       "      <th>age</th>\n",
       "      <th>sex</th>\n",
       "      <th>cp</th>\n",
       "      <th>trestbps</th>\n",
       "      <th>chol</th>\n",
       "      <th>fbs</th>\n",
       "      <th>restecg</th>\n",
       "      <th>thalach</th>\n",
       "      <th>exang</th>\n",
       "      <th>oldpeak</th>\n",
       "      <th>slope</th>\n",
       "      <th>ca</th>\n",
       "      <th>thal</th>\n",
       "      <th>num</th>\n",
       "    </tr>\n",
       "  </thead>\n",
       "  <tbody>\n",
       "    <tr>\n",
       "      <th>0</th>\n",
       "      <td>63.0</td>\n",
       "      <td>1.0</td>\n",
       "      <td>1.0</td>\n",
       "      <td>145.0</td>\n",
       "      <td>233.0</td>\n",
       "      <td>1.0</td>\n",
       "      <td>2.0</td>\n",
       "      <td>150.0</td>\n",
       "      <td>0.0</td>\n",
       "      <td>2.3</td>\n",
       "      <td>3.0</td>\n",
       "      <td>0.0</td>\n",
       "      <td>6.0</td>\n",
       "      <td>0</td>\n",
       "    </tr>\n",
       "    <tr>\n",
       "      <th>1</th>\n",
       "      <td>67.0</td>\n",
       "      <td>1.0</td>\n",
       "      <td>4.0</td>\n",
       "      <td>160.0</td>\n",
       "      <td>286.0</td>\n",
       "      <td>0.0</td>\n",
       "      <td>2.0</td>\n",
       "      <td>108.0</td>\n",
       "      <td>1.0</td>\n",
       "      <td>1.5</td>\n",
       "      <td>2.0</td>\n",
       "      <td>3.0</td>\n",
       "      <td>3.0</td>\n",
       "      <td>2</td>\n",
       "    </tr>\n",
       "    <tr>\n",
       "      <th>2</th>\n",
       "      <td>67.0</td>\n",
       "      <td>1.0</td>\n",
       "      <td>4.0</td>\n",
       "      <td>120.0</td>\n",
       "      <td>229.0</td>\n",
       "      <td>0.0</td>\n",
       "      <td>2.0</td>\n",
       "      <td>129.0</td>\n",
       "      <td>1.0</td>\n",
       "      <td>2.6</td>\n",
       "      <td>2.0</td>\n",
       "      <td>2.0</td>\n",
       "      <td>7.0</td>\n",
       "      <td>1</td>\n",
       "    </tr>\n",
       "    <tr>\n",
       "      <th>3</th>\n",
       "      <td>37.0</td>\n",
       "      <td>1.0</td>\n",
       "      <td>3.0</td>\n",
       "      <td>130.0</td>\n",
       "      <td>250.0</td>\n",
       "      <td>0.0</td>\n",
       "      <td>0.0</td>\n",
       "      <td>187.0</td>\n",
       "      <td>0.0</td>\n",
       "      <td>3.5</td>\n",
       "      <td>3.0</td>\n",
       "      <td>0.0</td>\n",
       "      <td>3.0</td>\n",
       "      <td>0</td>\n",
       "    </tr>\n",
       "    <tr>\n",
       "      <th>4</th>\n",
       "      <td>41.0</td>\n",
       "      <td>0.0</td>\n",
       "      <td>2.0</td>\n",
       "      <td>130.0</td>\n",
       "      <td>204.0</td>\n",
       "      <td>0.0</td>\n",
       "      <td>2.0</td>\n",
       "      <td>172.0</td>\n",
       "      <td>0.0</td>\n",
       "      <td>1.4</td>\n",
       "      <td>1.0</td>\n",
       "      <td>0.0</td>\n",
       "      <td>3.0</td>\n",
       "      <td>0</td>\n",
       "    </tr>\n",
       "  </tbody>\n",
       "</table>\n",
       "</div>"
      ],
      "text/plain": [
       "    age  sex   cp  trestbps   chol  fbs  restecg  thalach  exang  oldpeak  \\\n",
       "0  63.0  1.0  1.0     145.0  233.0  1.0      2.0    150.0    0.0      2.3   \n",
       "1  67.0  1.0  4.0     160.0  286.0  0.0      2.0    108.0    1.0      1.5   \n",
       "2  67.0  1.0  4.0     120.0  229.0  0.0      2.0    129.0    1.0      2.6   \n",
       "3  37.0  1.0  3.0     130.0  250.0  0.0      0.0    187.0    0.0      3.5   \n",
       "4  41.0  0.0  2.0     130.0  204.0  0.0      2.0    172.0    0.0      1.4   \n",
       "\n",
       "   slope   ca  thal  num  \n",
       "0    3.0  0.0   6.0    0  \n",
       "1    2.0  3.0   3.0    2  \n",
       "2    2.0  2.0   7.0    1  \n",
       "3    3.0  0.0   3.0    0  \n",
       "4    1.0  0.0   3.0    0  "
      ]
     },
     "execution_count": 3,
     "metadata": {},
     "output_type": "execute_result"
    }
   ],
   "source": [
    "cleveland = pd.read_csv(dir_str.format(\"cleveland\"),names=columns,na_values='?')\n",
    "hungarian = pd.read_csv(dir_str.format(\"hungarian\"),names=columns,na_values='?')\n",
    "switzerland = pd.read_csv(dir_str.format(\"switzerland\"),names=columns,na_values='?')\n",
    "va = pd.read_csv(dir_str.format(\"va\"),names=columns,na_values='?')\n",
    "print(\"{}: Number of Rows: {} x Number of Columns: {} \".format(\"cleveland\",len(cleveland),len(cleveland.columns)))\n",
    "print(\"{}: Number of Rows: {} x Number of Columns: {} \".format(\"hungarian\",len(hungarian),len(hungarian.columns)))\n",
    "print(\"{}: Number of Rows: {} x Number of Columns: {} \".format(\"switzerland\",len(switzerland),len(switzerland.columns)))\n",
    "print(\"{}: Number of Rows: {} x Number of Columns: {} \".format(\"long beach\",len(va),len(va.columns)))\n",
    "print('======================================================================================================')\n",
    "cleveland.head()"
   ]
  },
  {
   "cell_type": "code",
   "execution_count": 4,
   "id": "measured-projection",
   "metadata": {},
   "outputs": [],
   "source": [
    "cleveland = dp.group_target(cleveland);hungarian =  dp.group_target(hungarian)\n",
    "switzerland = dp.group_target(switzerland);va =  dp.group_target(va)\n",
    "heart_data = pd.concat([cleveland,hungarian,switzerland,va])\n",
    "heart_data = heart_data.drop_duplicates()"
   ]
  },
  {
   "cell_type": "markdown",
   "id": "affected-alcohol",
   "metadata": {},
   "source": [
    "<a id=\"section_3_2\" name=\"section_3_2\">section_3_2</a>"
   ]
  },
  {
   "cell_type": "markdown",
   "id": "exciting-congress",
   "metadata": {},
   "source": [
    "<h4 style=\"color:lightcoral\"><strong>Missing Values</strong></h4>\n",
    "<strong style=\"color:lightcoral\">Goals</strong>: Create 3 different datasets from:\n",
    "\n",
    "> Dropping values\n",
    "\n",
    "> Replacing missing values with the means"
   ]
  },
  {
   "cell_type": "code",
   "execution_count": 5,
   "id": "identical-application",
   "metadata": {},
   "outputs": [],
   "source": [
    "# ============== Drop Missing Values\n",
    "drop_missing_cleveland = (cleveland.copy().dropna()).astype(convert_dict)\n",
    "drop_missing_hungarian = ( hungarian.copy().dropna()).astype(convert_dict)\n",
    "drop_missing_switzerland = (switzerland.copy().dropna()).astype(convert_dict)\n",
    "drop_missing_va = (va.copy().dropna()).astype(convert_dict)\n",
    "drop_missing_heart = (heart_data.copy().dropna()).astype(convert_dict) # This is the combined dataset\n",
    "\n",
    "\n",
    "# ================ Mode Dataset  - Missing values replaced with the mode\n",
    "mode_cleveland = ((dp.replace_missing_with_mode(cleveland.copy())).astype(convert_dict)).drop_duplicates()\n",
    "mode_hungarian = ((dp.replace_missing_with_mode(hungarian.copy())).astype(convert_dict)).drop_duplicates()\n",
    "mode_switzerland = ((dp.replace_missing_with_mode(switzerland.copy())).astype(convert_dict)).drop_duplicates()\n",
    "mode_va = ((dp.replace_missing_with_mode(va.copy())).astype(convert_dict)).drop_duplicates()\n",
    "mode_heart = ((dp.replace_missing_with_mode(heart_data.copy())).astype(convert_dict)).drop_duplicates()"
   ]
  },
  {
   "cell_type": "markdown",
   "id": "diagnostic-academy",
   "metadata": {},
   "source": [
    "<a id=\"section_3_3\" name=\"section_3_3\">section_3_3</a>"
   ]
  },
  {
   "cell_type": "markdown",
   "id": "powerful-board",
   "metadata": {},
   "source": [
    "<h4 style=\"color:lightcoral\"><strong>Encoding</strong></h4>\n",
    "<strong style=\"color:lightcoral\">Goals</strong>: Encode the data for model preparation\n",
    "\n",
    "> One-Hot encode dataset\n"
   ]
  },
  {
   "cell_type": "code",
   "execution_count": 6,
   "id": "massive-general",
   "metadata": {},
   "outputs": [],
   "source": [
    "# ============== Drop Missing Values\n",
    "encode_drop_missing_cleveland = dp.one_hot_encoding_2(drop_missing_cleveland)\n",
    "encode_drop_missing_hungarian = dp.one_hot_encoding_2(drop_missing_hungarian)\n",
    "encode_drop_missing_switzerland = dp.one_hot_encoding_2(drop_missing_switzerland)\n",
    "encode_drop_missing_va = dp.one_hot_encoding_2(drop_missing_va)\n",
    "encode_drop_missing_heart = dp.one_hot_encoding_2(drop_missing_heart)\n",
    "\n",
    "# ================ Mode Dataset  - Missing values replaced with the mode\n",
    "encode_mode_cleveland = dp.one_hot_encoding_2(mode_cleveland)\n",
    "encode_mode_hungarian = dp.one_hot_encoding_2(mode_hungarian)\n",
    "encode_mode_switzerland = dp.one_hot_encoding_2(mode_switzerland)\n",
    "encode_mode_va = dp.one_hot_encoding_2(mode_va)\n",
    "encode_mode_heart = dp.one_hot_encoding_2(mode_heart)"
   ]
  },
  {
   "cell_type": "markdown",
   "id": "incorporate-power",
   "metadata": {},
   "source": [
    "<a id=\"section_3_5\" name=\"section_3_5\">section_3_5</a>"
   ]
  },
  {
   "cell_type": "markdown",
   "id": "assigned-romance",
   "metadata": {},
   "source": [
    "<h4 style=\"color:lightcoral\"><strong>Exploratory Analysis and Data Visualization</strong></h4>\n",
    "\n",
    "\n",
    "> Countplots\n",
    "\n",
    "> Histogram\n",
    "\n",
    "> Box Plot\n"
   ]
  },
  {
   "cell_type": "code",
   "execution_count": 7,
   "id": "illegal-disclosure",
   "metadata": {},
   "outputs": [
    {
     "data": {
      "text/html": [
       "<div>\n",
       "<style scoped>\n",
       "    .dataframe tbody tr th:only-of-type {\n",
       "        vertical-align: middle;\n",
       "    }\n",
       "\n",
       "    .dataframe tbody tr th {\n",
       "        vertical-align: top;\n",
       "    }\n",
       "\n",
       "    .dataframe thead th {\n",
       "        text-align: right;\n",
       "    }\n",
       "</style>\n",
       "<table border=\"1\" class=\"dataframe\">\n",
       "  <thead>\n",
       "    <tr style=\"text-align: right;\">\n",
       "      <th></th>\n",
       "      <th>age</th>\n",
       "      <th>sex</th>\n",
       "      <th>cp</th>\n",
       "      <th>trestbps</th>\n",
       "      <th>chol</th>\n",
       "      <th>fbs</th>\n",
       "      <th>restecg</th>\n",
       "      <th>thalach</th>\n",
       "      <th>exang</th>\n",
       "      <th>oldpeak</th>\n",
       "      <th>slope</th>\n",
       "      <th>ca</th>\n",
       "      <th>thal</th>\n",
       "      <th>num</th>\n",
       "    </tr>\n",
       "  </thead>\n",
       "  <tbody>\n",
       "    <tr>\n",
       "      <th>0</th>\n",
       "      <td>63.0</td>\n",
       "      <td>1</td>\n",
       "      <td>1</td>\n",
       "      <td>145.0</td>\n",
       "      <td>233.0</td>\n",
       "      <td>1</td>\n",
       "      <td>1</td>\n",
       "      <td>150.0</td>\n",
       "      <td>0</td>\n",
       "      <td>2.3</td>\n",
       "      <td>1</td>\n",
       "      <td>0</td>\n",
       "      <td>6.0</td>\n",
       "      <td>0</td>\n",
       "    </tr>\n",
       "    <tr>\n",
       "      <th>1</th>\n",
       "      <td>67.0</td>\n",
       "      <td>1</td>\n",
       "      <td>1</td>\n",
       "      <td>160.0</td>\n",
       "      <td>286.0</td>\n",
       "      <td>0</td>\n",
       "      <td>1</td>\n",
       "      <td>108.0</td>\n",
       "      <td>1</td>\n",
       "      <td>1.5</td>\n",
       "      <td>1</td>\n",
       "      <td>1</td>\n",
       "      <td>1.0</td>\n",
       "      <td>1</td>\n",
       "    </tr>\n",
       "    <tr>\n",
       "      <th>2</th>\n",
       "      <td>67.0</td>\n",
       "      <td>1</td>\n",
       "      <td>1</td>\n",
       "      <td>120.0</td>\n",
       "      <td>229.0</td>\n",
       "      <td>0</td>\n",
       "      <td>1</td>\n",
       "      <td>129.0</td>\n",
       "      <td>1</td>\n",
       "      <td>2.6</td>\n",
       "      <td>1</td>\n",
       "      <td>1</td>\n",
       "      <td>7.0</td>\n",
       "      <td>1</td>\n",
       "    </tr>\n",
       "    <tr>\n",
       "      <th>3</th>\n",
       "      <td>37.0</td>\n",
       "      <td>1</td>\n",
       "      <td>1</td>\n",
       "      <td>130.0</td>\n",
       "      <td>250.0</td>\n",
       "      <td>0</td>\n",
       "      <td>0</td>\n",
       "      <td>187.0</td>\n",
       "      <td>0</td>\n",
       "      <td>3.5</td>\n",
       "      <td>1</td>\n",
       "      <td>0</td>\n",
       "      <td>1.0</td>\n",
       "      <td>0</td>\n",
       "    </tr>\n",
       "    <tr>\n",
       "      <th>4</th>\n",
       "      <td>41.0</td>\n",
       "      <td>0</td>\n",
       "      <td>1</td>\n",
       "      <td>130.0</td>\n",
       "      <td>204.0</td>\n",
       "      <td>0</td>\n",
       "      <td>1</td>\n",
       "      <td>172.0</td>\n",
       "      <td>0</td>\n",
       "      <td>1.4</td>\n",
       "      <td>1</td>\n",
       "      <td>0</td>\n",
       "      <td>1.0</td>\n",
       "      <td>0</td>\n",
       "    </tr>\n",
       "    <tr>\n",
       "      <th>...</th>\n",
       "      <td>...</td>\n",
       "      <td>...</td>\n",
       "      <td>...</td>\n",
       "      <td>...</td>\n",
       "      <td>...</td>\n",
       "      <td>...</td>\n",
       "      <td>...</td>\n",
       "      <td>...</td>\n",
       "      <td>...</td>\n",
       "      <td>...</td>\n",
       "      <td>...</td>\n",
       "      <td>...</td>\n",
       "      <td>...</td>\n",
       "      <td>...</td>\n",
       "    </tr>\n",
       "    <tr>\n",
       "      <th>297</th>\n",
       "      <td>57.0</td>\n",
       "      <td>0</td>\n",
       "      <td>1</td>\n",
       "      <td>140.0</td>\n",
       "      <td>241.0</td>\n",
       "      <td>0</td>\n",
       "      <td>0</td>\n",
       "      <td>123.0</td>\n",
       "      <td>1</td>\n",
       "      <td>0.2</td>\n",
       "      <td>1</td>\n",
       "      <td>0</td>\n",
       "      <td>7.0</td>\n",
       "      <td>1</td>\n",
       "    </tr>\n",
       "    <tr>\n",
       "      <th>298</th>\n",
       "      <td>45.0</td>\n",
       "      <td>1</td>\n",
       "      <td>1</td>\n",
       "      <td>110.0</td>\n",
       "      <td>264.0</td>\n",
       "      <td>0</td>\n",
       "      <td>0</td>\n",
       "      <td>132.0</td>\n",
       "      <td>0</td>\n",
       "      <td>1.2</td>\n",
       "      <td>1</td>\n",
       "      <td>0</td>\n",
       "      <td>7.0</td>\n",
       "      <td>1</td>\n",
       "    </tr>\n",
       "    <tr>\n",
       "      <th>299</th>\n",
       "      <td>68.0</td>\n",
       "      <td>1</td>\n",
       "      <td>1</td>\n",
       "      <td>144.0</td>\n",
       "      <td>193.0</td>\n",
       "      <td>1</td>\n",
       "      <td>0</td>\n",
       "      <td>141.0</td>\n",
       "      <td>0</td>\n",
       "      <td>3.4</td>\n",
       "      <td>1</td>\n",
       "      <td>1</td>\n",
       "      <td>7.0</td>\n",
       "      <td>1</td>\n",
       "    </tr>\n",
       "    <tr>\n",
       "      <th>300</th>\n",
       "      <td>57.0</td>\n",
       "      <td>1</td>\n",
       "      <td>1</td>\n",
       "      <td>130.0</td>\n",
       "      <td>131.0</td>\n",
       "      <td>0</td>\n",
       "      <td>0</td>\n",
       "      <td>115.0</td>\n",
       "      <td>1</td>\n",
       "      <td>1.2</td>\n",
       "      <td>1</td>\n",
       "      <td>1</td>\n",
       "      <td>7.0</td>\n",
       "      <td>1</td>\n",
       "    </tr>\n",
       "    <tr>\n",
       "      <th>301</th>\n",
       "      <td>57.0</td>\n",
       "      <td>0</td>\n",
       "      <td>1</td>\n",
       "      <td>130.0</td>\n",
       "      <td>236.0</td>\n",
       "      <td>0</td>\n",
       "      <td>1</td>\n",
       "      <td>174.0</td>\n",
       "      <td>0</td>\n",
       "      <td>0.0</td>\n",
       "      <td>1</td>\n",
       "      <td>1</td>\n",
       "      <td>1.0</td>\n",
       "      <td>1</td>\n",
       "    </tr>\n",
       "  </tbody>\n",
       "</table>\n",
       "<p>297 rows × 14 columns</p>\n",
       "</div>"
      ],
      "text/plain": [
       "      age  sex  cp  trestbps   chol  fbs  restecg  thalach  exang  oldpeak  \\\n",
       "0    63.0    1   1     145.0  233.0    1        1    150.0      0      2.3   \n",
       "1    67.0    1   1     160.0  286.0    0        1    108.0      1      1.5   \n",
       "2    67.0    1   1     120.0  229.0    0        1    129.0      1      2.6   \n",
       "3    37.0    1   1     130.0  250.0    0        0    187.0      0      3.5   \n",
       "4    41.0    0   1     130.0  204.0    0        1    172.0      0      1.4   \n",
       "..    ...  ...  ..       ...    ...  ...      ...      ...    ...      ...   \n",
       "297  57.0    0   1     140.0  241.0    0        0    123.0      1      0.2   \n",
       "298  45.0    1   1     110.0  264.0    0        0    132.0      0      1.2   \n",
       "299  68.0    1   1     144.0  193.0    1        0    141.0      0      3.4   \n",
       "300  57.0    1   1     130.0  131.0    0        0    115.0      1      1.2   \n",
       "301  57.0    0   1     130.0  236.0    0        1    174.0      0      0.0   \n",
       "\n",
       "     slope  ca  thal  num  \n",
       "0        1   0   6.0    0  \n",
       "1        1   1   1.0    1  \n",
       "2        1   1   7.0    1  \n",
       "3        1   0   1.0    0  \n",
       "4        1   0   1.0    0  \n",
       "..     ...  ..   ...  ...  \n",
       "297      1   0   7.0    1  \n",
       "298      1   0   7.0    1  \n",
       "299      1   1   7.0    1  \n",
       "300      1   1   7.0    1  \n",
       "301      1   1   1.0    1  \n",
       "\n",
       "[297 rows x 14 columns]"
      ]
     },
     "execution_count": 7,
     "metadata": {},
     "output_type": "execute_result"
    }
   ],
   "source": [
    "categories = list(convert_dict.keys())\n",
    "continuous = list(filter(lambda x:x not in categories,drop_missing_cleveland.columns))\n",
    "drop_missing_cleveland"
   ]
  },
  {
   "cell_type": "code",
   "execution_count": 8,
   "id": "piano-panama",
   "metadata": {},
   "outputs": [
    {
     "data": {
      "text/plain": [
       "<AxesSubplot:xlabel='sex', ylabel='age'>"
      ]
     },
     "execution_count": 8,
     "metadata": {},
     "output_type": "execute_result"
    },
    {
     "data": {
      "image/png": "[encoded data removed]",
      "text/plain": [
       "<Figure size 432x288 with 1 Axes>"
      ]
     },
     "metadata": {
      "needs_background": "light"
     },
     "output_type": "display_data"
    }
   ],
   "source": [
    "description_dataset = dp.make_description_dataset(drop_missing_cleveland,categories)\n",
    "sns.barplot(x=\"sex\", y=\"age\", data=drop_missing_cleveland,hue='num')"
   ]
  },
  {
   "cell_type": "code",
   "execution_count": 9,
   "id": "advisory-words",
   "metadata": {},
   "outputs": [
    {
     "data": {
      "text/plain": [
       "<AxesSubplot:xlabel='num', ylabel='count'>"
      ]
     },
     "execution_count": 9,
     "metadata": {},
     "output_type": "execute_result"
    },
    {
     "data": {
      "image/png": "[encoded data removed]",
      "text/plain": [
       "<Figure size 432x288 with 1 Axes>"
      ]
     },
     "metadata": {
      "needs_background": "light"
     },
     "output_type": "display_data"
    }
   ],
   "source": [
    "sns.countplot(x=\"num\",data=description_dataset)"
   ]
  },
  {
   "cell_type": "code",
   "execution_count": 10,
   "id": "civic-holiday",
   "metadata": {},
   "outputs": [
    {
     "data": {
      "image/png": "[encoded data removed]",
      "text/plain": [
       "<Figure size 1080x720 with 6 Axes>"
      ]
     },
     "metadata": {
      "needs_background": "light"
     },
     "output_type": "display_data"
    }
   ],
   "source": [
    "dv.count_plot_categories(description_dataset,categories,names)"
   ]
  },
  {
   "cell_type": "code",
   "execution_count": 11,
   "id": "proper-estate",
   "metadata": {},
   "outputs": [
    {
     "data": {
      "image/png": "[encoded data removed]",
      "text/plain": [
       "<Figure size 1080x720 with 6 Axes>"
      ]
     },
     "metadata": {
      "needs_background": "light"
     },
     "output_type": "display_data"
    }
   ],
   "source": [
    "dv.hist_plot_continuous(drop_missing_cleveland,continuous,names,n=3,m=2,hue='num')"
   ]
  },
  {
   "cell_type": "code",
   "execution_count": 12,
   "id": "consistent-breath",
   "metadata": {},
   "outputs": [
    {
     "data": {
      "image/png": "[encoded data removed]",
      "text/plain": [
       "<Figure size 1080x720 with 6 Axes>"
      ]
     },
     "metadata": {
      "needs_background": "light"
     },
     "output_type": "display_data"
    }
   ],
   "source": [
    "dv.box_plot_continuous(drop_missing_cleveland,continuous,names,n=3,m=2,hue='num')"
   ]
  },
  {
   "cell_type": "markdown",
   "id": "upper-singapore",
   "metadata": {},
   "source": [
    "<a id=\"chapter_4\" name=\"chapter_4\">chapter_4</a>"
   ]
  },
  {
   "cell_type": "markdown",
   "id": "exceptional-edmonton",
   "metadata": {},
   "source": [
    "<h2 style=\"text-align:center\">Algorithm</h2>\n",
    "\n",
    "> Train a model to predict heart disease \n",
    "> * Perform Hyperparameter Tuning\n",
    "\n",
    "> Optimize the model to predict heart disease \n",
    "> * Perform Hyperparameter Tuning\n",
    "\n",
    "> Train a state of the art algorithm\n",
    "\n",
    "> Compare the three models and interpret the results\n",
    "\\\n",
    "\n",
    "> Finalize the choice of the final model"
   ]
  },
  {
   "cell_type": "markdown",
   "id": "ruled-video",
   "metadata": {},
   "source": [
    "<a id=\"section_4_1\" name=\"section_4_1\">section_4_1</a>"
   ]
  },
  {
   "cell_type": "markdown",
   "id": "authorized-assumption",
   "metadata": {},
   "source": [
    "<h4 style=\"color:lightcoral\"><strong>Data Preparation</strong></h4>\n",
    "\n",
    "> Train Validation Test Split\n",
    "\n",
    "> Cross-Validation using K-Fold\n",
    "\n",
    "> Set the hyperparameters of the model\n"
   ]
  },
  {
   "cell_type": "code",
   "execution_count": 13,
   "id": "complex-power",
   "metadata": {},
   "outputs": [
    {
     "data": {
      "text/html": [
       "<div>\n",
       "<style scoped>\n",
       "    .dataframe tbody tr th:only-of-type {\n",
       "        vertical-align: middle;\n",
       "    }\n",
       "\n",
       "    .dataframe tbody tr th {\n",
       "        vertical-align: top;\n",
       "    }\n",
       "\n",
       "    .dataframe thead th {\n",
       "        text-align: right;\n",
       "    }\n",
       "</style>\n",
       "<table border=\"1\" class=\"dataframe\">\n",
       "  <thead>\n",
       "    <tr style=\"text-align: right;\">\n",
       "      <th></th>\n",
       "      <th>Bias</th>\n",
       "      <th>age</th>\n",
       "      <th>trestbps</th>\n",
       "      <th>chol</th>\n",
       "      <th>thalach</th>\n",
       "      <th>oldpeak</th>\n",
       "      <th>thal</th>\n",
       "      <th>sex_0</th>\n",
       "      <th>sex_1</th>\n",
       "      <th>cp_1</th>\n",
       "      <th>...</th>\n",
       "      <th>fbs_1</th>\n",
       "      <th>restecg_0</th>\n",
       "      <th>restecg_1</th>\n",
       "      <th>exang_0</th>\n",
       "      <th>exang_1</th>\n",
       "      <th>slope_1</th>\n",
       "      <th>slope_2</th>\n",
       "      <th>ca_0</th>\n",
       "      <th>ca_1</th>\n",
       "      <th>num</th>\n",
       "    </tr>\n",
       "  </thead>\n",
       "  <tbody>\n",
       "    <tr>\n",
       "      <th>0</th>\n",
       "      <td>1.0</td>\n",
       "      <td>0.625000</td>\n",
       "      <td>0.415094</td>\n",
       "      <td>0.368534</td>\n",
       "      <td>0.847328</td>\n",
       "      <td>0.000000</td>\n",
       "      <td>0.0</td>\n",
       "      <td>0.0</td>\n",
       "      <td>1.0</td>\n",
       "      <td>1.0</td>\n",
       "      <td>...</td>\n",
       "      <td>0.0</td>\n",
       "      <td>0.0</td>\n",
       "      <td>1.0</td>\n",
       "      <td>1.0</td>\n",
       "      <td>0.0</td>\n",
       "      <td>1.0</td>\n",
       "      <td>0.0</td>\n",
       "      <td>1.0</td>\n",
       "      <td>0.0</td>\n",
       "      <td>0</td>\n",
       "    </tr>\n",
       "    <tr>\n",
       "      <th>1</th>\n",
       "      <td>1.0</td>\n",
       "      <td>0.291667</td>\n",
       "      <td>0.358491</td>\n",
       "      <td>0.519397</td>\n",
       "      <td>0.496183</td>\n",
       "      <td>0.161290</td>\n",
       "      <td>1.0</td>\n",
       "      <td>1.0</td>\n",
       "      <td>0.0</td>\n",
       "      <td>1.0</td>\n",
       "      <td>...</td>\n",
       "      <td>1.0</td>\n",
       "      <td>0.0</td>\n",
       "      <td>1.0</td>\n",
       "      <td>0.0</td>\n",
       "      <td>1.0</td>\n",
       "      <td>1.0</td>\n",
       "      <td>0.0</td>\n",
       "      <td>1.0</td>\n",
       "      <td>0.0</td>\n",
       "      <td>1</td>\n",
       "    </tr>\n",
       "    <tr>\n",
       "      <th>2</th>\n",
       "      <td>1.0</td>\n",
       "      <td>0.437500</td>\n",
       "      <td>0.330189</td>\n",
       "      <td>0.206897</td>\n",
       "      <td>0.702290</td>\n",
       "      <td>0.000000</td>\n",
       "      <td>0.0</td>\n",
       "      <td>0.0</td>\n",
       "      <td>1.0</td>\n",
       "      <td>1.0</td>\n",
       "      <td>...</td>\n",
       "      <td>0.0</td>\n",
       "      <td>1.0</td>\n",
       "      <td>0.0</td>\n",
       "      <td>1.0</td>\n",
       "      <td>0.0</td>\n",
       "      <td>1.0</td>\n",
       "      <td>0.0</td>\n",
       "      <td>1.0</td>\n",
       "      <td>0.0</td>\n",
       "      <td>0</td>\n",
       "    </tr>\n",
       "    <tr>\n",
       "      <th>3</th>\n",
       "      <td>1.0</td>\n",
       "      <td>0.583333</td>\n",
       "      <td>0.669811</td>\n",
       "      <td>0.407328</td>\n",
       "      <td>0.404580</td>\n",
       "      <td>0.161290</td>\n",
       "      <td>1.0</td>\n",
       "      <td>0.0</td>\n",
       "      <td>1.0</td>\n",
       "      <td>1.0</td>\n",
       "      <td>...</td>\n",
       "      <td>1.0</td>\n",
       "      <td>0.0</td>\n",
       "      <td>1.0</td>\n",
       "      <td>1.0</td>\n",
       "      <td>0.0</td>\n",
       "      <td>1.0</td>\n",
       "      <td>0.0</td>\n",
       "      <td>0.0</td>\n",
       "      <td>1.0</td>\n",
       "      <td>1</td>\n",
       "    </tr>\n",
       "    <tr>\n",
       "      <th>4</th>\n",
       "      <td>1.0</td>\n",
       "      <td>0.437500</td>\n",
       "      <td>0.245283</td>\n",
       "      <td>0.256466</td>\n",
       "      <td>0.664122</td>\n",
       "      <td>0.258065</td>\n",
       "      <td>0.0</td>\n",
       "      <td>1.0</td>\n",
       "      <td>0.0</td>\n",
       "      <td>1.0</td>\n",
       "      <td>...</td>\n",
       "      <td>0.0</td>\n",
       "      <td>1.0</td>\n",
       "      <td>0.0</td>\n",
       "      <td>1.0</td>\n",
       "      <td>0.0</td>\n",
       "      <td>1.0</td>\n",
       "      <td>0.0</td>\n",
       "      <td>1.0</td>\n",
       "      <td>0.0</td>\n",
       "      <td>0</td>\n",
       "    </tr>\n",
       "    <tr>\n",
       "      <th>...</th>\n",
       "      <td>...</td>\n",
       "      <td>...</td>\n",
       "      <td>...</td>\n",
       "      <td>...</td>\n",
       "      <td>...</td>\n",
       "      <td>...</td>\n",
       "      <td>...</td>\n",
       "      <td>...</td>\n",
       "      <td>...</td>\n",
       "      <td>...</td>\n",
       "      <td>...</td>\n",
       "      <td>...</td>\n",
       "      <td>...</td>\n",
       "      <td>...</td>\n",
       "      <td>...</td>\n",
       "      <td>...</td>\n",
       "      <td>...</td>\n",
       "      <td>...</td>\n",
       "      <td>...</td>\n",
       "      <td>...</td>\n",
       "      <td>...</td>\n",
       "    </tr>\n",
       "    <tr>\n",
       "      <th>294</th>\n",
       "      <td>1.0</td>\n",
       "      <td>0.645833</td>\n",
       "      <td>0.339623</td>\n",
       "      <td>0.329741</td>\n",
       "      <td>0.557252</td>\n",
       "      <td>0.225806</td>\n",
       "      <td>1.0</td>\n",
       "      <td>0.0</td>\n",
       "      <td>1.0</td>\n",
       "      <td>1.0</td>\n",
       "      <td>...</td>\n",
       "      <td>0.0</td>\n",
       "      <td>1.0</td>\n",
       "      <td>0.0</td>\n",
       "      <td>0.0</td>\n",
       "      <td>1.0</td>\n",
       "      <td>1.0</td>\n",
       "      <td>0.0</td>\n",
       "      <td>0.0</td>\n",
       "      <td>1.0</td>\n",
       "      <td>1</td>\n",
       "    </tr>\n",
       "    <tr>\n",
       "      <th>295</th>\n",
       "      <td>1.0</td>\n",
       "      <td>0.854167</td>\n",
       "      <td>0.584906</td>\n",
       "      <td>0.312500</td>\n",
       "      <td>0.549618</td>\n",
       "      <td>0.000000</td>\n",
       "      <td>0.0</td>\n",
       "      <td>0.0</td>\n",
       "      <td>1.0</td>\n",
       "      <td>1.0</td>\n",
       "      <td>...</td>\n",
       "      <td>0.0</td>\n",
       "      <td>0.0</td>\n",
       "      <td>1.0</td>\n",
       "      <td>1.0</td>\n",
       "      <td>0.0</td>\n",
       "      <td>1.0</td>\n",
       "      <td>0.0</td>\n",
       "      <td>1.0</td>\n",
       "      <td>0.0</td>\n",
       "      <td>0</td>\n",
       "    </tr>\n",
       "    <tr>\n",
       "      <th>296</th>\n",
       "      <td>1.0</td>\n",
       "      <td>0.500000</td>\n",
       "      <td>0.433962</td>\n",
       "      <td>0.221983</td>\n",
       "      <td>0.641221</td>\n",
       "      <td>0.500000</td>\n",
       "      <td>1.0</td>\n",
       "      <td>0.0</td>\n",
       "      <td>1.0</td>\n",
       "      <td>1.0</td>\n",
       "      <td>...</td>\n",
       "      <td>1.0</td>\n",
       "      <td>0.0</td>\n",
       "      <td>1.0</td>\n",
       "      <td>0.0</td>\n",
       "      <td>1.0</td>\n",
       "      <td>1.0</td>\n",
       "      <td>0.0</td>\n",
       "      <td>1.0</td>\n",
       "      <td>0.0</td>\n",
       "      <td>1</td>\n",
       "    </tr>\n",
       "    <tr>\n",
       "      <th>297</th>\n",
       "      <td>1.0</td>\n",
       "      <td>0.583333</td>\n",
       "      <td>0.150943</td>\n",
       "      <td>0.506466</td>\n",
       "      <td>0.549618</td>\n",
       "      <td>0.161290</td>\n",
       "      <td>1.0</td>\n",
       "      <td>0.0</td>\n",
       "      <td>1.0</td>\n",
       "      <td>1.0</td>\n",
       "      <td>...</td>\n",
       "      <td>0.0</td>\n",
       "      <td>1.0</td>\n",
       "      <td>0.0</td>\n",
       "      <td>0.0</td>\n",
       "      <td>1.0</td>\n",
       "      <td>1.0</td>\n",
       "      <td>0.0</td>\n",
       "      <td>0.0</td>\n",
       "      <td>1.0</td>\n",
       "      <td>1</td>\n",
       "    </tr>\n",
       "    <tr>\n",
       "      <th>298</th>\n",
       "      <td>1.0</td>\n",
       "      <td>0.479167</td>\n",
       "      <td>0.735849</td>\n",
       "      <td>0.213362</td>\n",
       "      <td>0.694656</td>\n",
       "      <td>0.080645</td>\n",
       "      <td>1.0</td>\n",
       "      <td>0.0</td>\n",
       "      <td>1.0</td>\n",
       "      <td>1.0</td>\n",
       "      <td>...</td>\n",
       "      <td>1.0</td>\n",
       "      <td>1.0</td>\n",
       "      <td>0.0</td>\n",
       "      <td>1.0</td>\n",
       "      <td>0.0</td>\n",
       "      <td>1.0</td>\n",
       "      <td>0.0</td>\n",
       "      <td>1.0</td>\n",
       "      <td>0.0</td>\n",
       "      <td>0</td>\n",
       "    </tr>\n",
       "  </tbody>\n",
       "</table>\n",
       "<p>299 rows × 22 columns</p>\n",
       "</div>"
      ],
      "text/plain": [
       "     Bias       age  trestbps      chol   thalach   oldpeak  thal  sex_0  \\\n",
       "0     1.0  0.625000  0.415094  0.368534  0.847328  0.000000   0.0    0.0   \n",
       "1     1.0  0.291667  0.358491  0.519397  0.496183  0.161290   1.0    1.0   \n",
       "2     1.0  0.437500  0.330189  0.206897  0.702290  0.000000   0.0    0.0   \n",
       "3     1.0  0.583333  0.669811  0.407328  0.404580  0.161290   1.0    0.0   \n",
       "4     1.0  0.437500  0.245283  0.256466  0.664122  0.258065   0.0    1.0   \n",
       "..    ...       ...       ...       ...       ...       ...   ...    ...   \n",
       "294   1.0  0.645833  0.339623  0.329741  0.557252  0.225806   1.0    0.0   \n",
       "295   1.0  0.854167  0.584906  0.312500  0.549618  0.000000   0.0    0.0   \n",
       "296   1.0  0.500000  0.433962  0.221983  0.641221  0.500000   1.0    0.0   \n",
       "297   1.0  0.583333  0.150943  0.506466  0.549618  0.161290   1.0    0.0   \n",
       "298   1.0  0.479167  0.735849  0.213362  0.694656  0.080645   1.0    0.0   \n",
       "\n",
       "     sex_1  cp_1  ...  fbs_1  restecg_0  restecg_1  exang_0  exang_1  slope_1  \\\n",
       "0      1.0   1.0  ...    0.0        0.0        1.0      1.0      0.0      1.0   \n",
       "1      0.0   1.0  ...    1.0        0.0        1.0      0.0      1.0      1.0   \n",
       "2      1.0   1.0  ...    0.0        1.0        0.0      1.0      0.0      1.0   \n",
       "3      1.0   1.0  ...    1.0        0.0        1.0      1.0      0.0      1.0   \n",
       "4      0.0   1.0  ...    0.0        1.0        0.0      1.0      0.0      1.0   \n",
       "..     ...   ...  ...    ...        ...        ...      ...      ...      ...   \n",
       "294    1.0   1.0  ...    0.0        1.0        0.0      0.0      1.0      1.0   \n",
       "295    1.0   1.0  ...    0.0        0.0        1.0      1.0      0.0      1.0   \n",
       "296    1.0   1.0  ...    1.0        0.0        1.0      0.0      1.0      1.0   \n",
       "297    1.0   1.0  ...    0.0        1.0        0.0      0.0      1.0      1.0   \n",
       "298    1.0   1.0  ...    1.0        1.0        0.0      1.0      0.0      1.0   \n",
       "\n",
       "     slope_2  ca_0  ca_1  num  \n",
       "0        0.0   1.0   0.0    0  \n",
       "1        0.0   1.0   0.0    1  \n",
       "2        0.0   1.0   0.0    0  \n",
       "3        0.0   0.0   1.0    1  \n",
       "4        0.0   1.0   0.0    0  \n",
       "..       ...   ...   ...  ...  \n",
       "294      0.0   0.0   1.0    1  \n",
       "295      0.0   1.0   0.0    0  \n",
       "296      0.0   1.0   0.0    1  \n",
       "297      0.0   0.0   1.0    1  \n",
       "298      0.0   1.0   0.0    0  \n",
       "\n",
       "[299 rows x 22 columns]"
      ]
     },
     "execution_count": 13,
     "metadata": {},
     "output_type": "execute_result"
    }
   ],
   "source": [
    "model_dataset = encode_drop_missing_heart.copy()\n",
    "model_dataset = dp.minmax_scale(model_dataset)\n",
    "model_dataset = dp.add_bias(model_dataset)\n",
    "model_dataset = model_dataset.sample(frac=1).reset_index(drop=True)\n",
    "model_dataset"
   ]
  },
  {
   "cell_type": "code",
   "execution_count": 14,
   "id": "artistic-priority",
   "metadata": {},
   "outputs": [],
   "source": [
    "X = model_dataset.iloc[:,:-1]\n",
    "y = model_dataset.iloc[:,-1] # # X_train, X_test, y_train, y_test = train_test_split(X, y, test_size=0.33, random_state=42)\n",
    "sixty_split =  int(len(model_dataset) * 0.6)\n",
    "twenty_split = int(len(model_dataset) * 0.2)\n",
    "X_train = X.iloc[:sixty_split];X_valid = X.iloc[sixty_split:sixty_split+twenty_split];X_test = X.iloc[sixty_split+twenty_split:]\n",
    "y_train = y.iloc[:sixty_split];y_valid = y.iloc[sixty_split:sixty_split+twenty_split];y_test = y.iloc[sixty_split+twenty_split:]"
   ]
  },
  {
   "cell_type": "code",
   "execution_count": 15,
   "id": "respected-australia",
   "metadata": {},
   "outputs": [
    {
     "data": {
      "text/html": [
       "<div>\n",
       "<style scoped>\n",
       "    .dataframe tbody tr th:only-of-type {\n",
       "        vertical-align: middle;\n",
       "    }\n",
       "\n",
       "    .dataframe tbody tr th {\n",
       "        vertical-align: top;\n",
       "    }\n",
       "\n",
       "    .dataframe thead th {\n",
       "        text-align: right;\n",
       "    }\n",
       "</style>\n",
       "<table border=\"1\" class=\"dataframe\">\n",
       "  <thead>\n",
       "    <tr style=\"text-align: right;\">\n",
       "      <th></th>\n",
       "      <th>Bias</th>\n",
       "      <th>age</th>\n",
       "      <th>trestbps</th>\n",
       "      <th>chol</th>\n",
       "      <th>thalach</th>\n",
       "      <th>oldpeak</th>\n",
       "      <th>thal</th>\n",
       "      <th>sex_0</th>\n",
       "      <th>sex_1</th>\n",
       "      <th>cp_1</th>\n",
       "      <th>...</th>\n",
       "      <th>fbs_1</th>\n",
       "      <th>restecg_0</th>\n",
       "      <th>restecg_1</th>\n",
       "      <th>exang_0</th>\n",
       "      <th>exang_1</th>\n",
       "      <th>slope_1</th>\n",
       "      <th>slope_2</th>\n",
       "      <th>ca_0</th>\n",
       "      <th>ca_1</th>\n",
       "      <th>num</th>\n",
       "    </tr>\n",
       "  </thead>\n",
       "  <tbody>\n",
       "    <tr>\n",
       "      <th>238</th>\n",
       "      <td>1.0</td>\n",
       "      <td>0.333333</td>\n",
       "      <td>0.452830</td>\n",
       "      <td>0.450431</td>\n",
       "      <td>0.580153</td>\n",
       "      <td>0.000000</td>\n",
       "      <td>1.0</td>\n",
       "      <td>0.0</td>\n",
       "      <td>1.0</td>\n",
       "      <td>1.0</td>\n",
       "      <td>...</td>\n",
       "      <td>0.0</td>\n",
       "      <td>0.0</td>\n",
       "      <td>1.0</td>\n",
       "      <td>0.0</td>\n",
       "      <td>1.0</td>\n",
       "      <td>1.0</td>\n",
       "      <td>0.0</td>\n",
       "      <td>0.0</td>\n",
       "      <td>1.0</td>\n",
       "      <td>1</td>\n",
       "    </tr>\n",
       "    <tr>\n",
       "      <th>239</th>\n",
       "      <td>1.0</td>\n",
       "      <td>0.270833</td>\n",
       "      <td>0.509434</td>\n",
       "      <td>0.310345</td>\n",
       "      <td>0.816794</td>\n",
       "      <td>0.129032</td>\n",
       "      <td>0.0</td>\n",
       "      <td>0.0</td>\n",
       "      <td>1.0</td>\n",
       "      <td>1.0</td>\n",
       "      <td>...</td>\n",
       "      <td>0.0</td>\n",
       "      <td>0.0</td>\n",
       "      <td>1.0</td>\n",
       "      <td>1.0</td>\n",
       "      <td>0.0</td>\n",
       "      <td>1.0</td>\n",
       "      <td>0.0</td>\n",
       "      <td>0.0</td>\n",
       "      <td>1.0</td>\n",
       "      <td>0</td>\n",
       "    </tr>\n",
       "    <tr>\n",
       "      <th>240</th>\n",
       "      <td>1.0</td>\n",
       "      <td>0.645833</td>\n",
       "      <td>0.433962</td>\n",
       "      <td>0.415948</td>\n",
       "      <td>0.755725</td>\n",
       "      <td>0.193548</td>\n",
       "      <td>1.0</td>\n",
       "      <td>0.0</td>\n",
       "      <td>1.0</td>\n",
       "      <td>1.0</td>\n",
       "      <td>...</td>\n",
       "      <td>0.0</td>\n",
       "      <td>0.0</td>\n",
       "      <td>1.0</td>\n",
       "      <td>1.0</td>\n",
       "      <td>0.0</td>\n",
       "      <td>1.0</td>\n",
       "      <td>0.0</td>\n",
       "      <td>0.0</td>\n",
       "      <td>1.0</td>\n",
       "      <td>1</td>\n",
       "    </tr>\n",
       "    <tr>\n",
       "      <th>241</th>\n",
       "      <td>1.0</td>\n",
       "      <td>0.291667</td>\n",
       "      <td>0.150943</td>\n",
       "      <td>0.239224</td>\n",
       "      <td>0.687023</td>\n",
       "      <td>0.000000</td>\n",
       "      <td>1.0</td>\n",
       "      <td>0.0</td>\n",
       "      <td>1.0</td>\n",
       "      <td>1.0</td>\n",
       "      <td>...</td>\n",
       "      <td>0.0</td>\n",
       "      <td>1.0</td>\n",
       "      <td>0.0</td>\n",
       "      <td>1.0</td>\n",
       "      <td>0.0</td>\n",
       "      <td>1.0</td>\n",
       "      <td>0.0</td>\n",
       "      <td>1.0</td>\n",
       "      <td>0.0</td>\n",
       "      <td>0</td>\n",
       "    </tr>\n",
       "    <tr>\n",
       "      <th>242</th>\n",
       "      <td>1.0</td>\n",
       "      <td>0.541667</td>\n",
       "      <td>0.622642</td>\n",
       "      <td>0.407328</td>\n",
       "      <td>0.564885</td>\n",
       "      <td>0.129032</td>\n",
       "      <td>1.0</td>\n",
       "      <td>0.0</td>\n",
       "      <td>1.0</td>\n",
       "      <td>1.0</td>\n",
       "      <td>...</td>\n",
       "      <td>0.0</td>\n",
       "      <td>0.0</td>\n",
       "      <td>1.0</td>\n",
       "      <td>0.0</td>\n",
       "      <td>1.0</td>\n",
       "      <td>1.0</td>\n",
       "      <td>0.0</td>\n",
       "      <td>0.0</td>\n",
       "      <td>1.0</td>\n",
       "      <td>1</td>\n",
       "    </tr>\n",
       "  </tbody>\n",
       "</table>\n",
       "<p>5 rows × 22 columns</p>\n",
       "</div>"
      ],
      "text/plain": [
       "     Bias       age  trestbps      chol   thalach   oldpeak  thal  sex_0  \\\n",
       "238   1.0  0.333333  0.452830  0.450431  0.580153  0.000000   1.0    0.0   \n",
       "239   1.0  0.270833  0.509434  0.310345  0.816794  0.129032   0.0    0.0   \n",
       "240   1.0  0.645833  0.433962  0.415948  0.755725  0.193548   1.0    0.0   \n",
       "241   1.0  0.291667  0.150943  0.239224  0.687023  0.000000   1.0    0.0   \n",
       "242   1.0  0.541667  0.622642  0.407328  0.564885  0.129032   1.0    0.0   \n",
       "\n",
       "     sex_1  cp_1  ...  fbs_1  restecg_0  restecg_1  exang_0  exang_1  slope_1  \\\n",
       "238    1.0   1.0  ...    0.0        0.0        1.0      0.0      1.0      1.0   \n",
       "239    1.0   1.0  ...    0.0        0.0        1.0      1.0      0.0      1.0   \n",
       "240    1.0   1.0  ...    0.0        0.0        1.0      1.0      0.0      1.0   \n",
       "241    1.0   1.0  ...    0.0        1.0        0.0      1.0      0.0      1.0   \n",
       "242    1.0   1.0  ...    0.0        0.0        1.0      0.0      1.0      1.0   \n",
       "\n",
       "     slope_2  ca_0  ca_1  num  \n",
       "238      0.0   0.0   1.0    1  \n",
       "239      0.0   0.0   1.0    0  \n",
       "240      0.0   0.0   1.0    1  \n",
       "241      0.0   1.0   0.0    0  \n",
       "242      0.0   0.0   1.0    1  \n",
       "\n",
       "[5 rows x 22 columns]"
      ]
     },
     "execution_count": 15,
     "metadata": {},
     "output_type": "execute_result"
    }
   ],
   "source": [
    "training_data = X_train.join(y_train)\n",
    "validation_data = X_valid.join(y_valid)\n",
    "testing_data = X_test.join(y_test)\n",
    "testing_data.head()"
   ]
  },
  {
   "cell_type": "code",
   "execution_count": 16,
   "id": "recreational-gather",
   "metadata": {},
   "outputs": [],
   "source": [
    "learning_rates =  [0.3,0.4,0.5,0.6]\n",
    "regularization_terms=[0,0.005,0.008,0.1]\n",
    "epochs = [120,150,200,250]"
   ]
  },
  {
   "cell_type": "markdown",
   "id": "continuous-christian",
   "metadata": {},
   "source": [
    "<a id=\"section_4_2\" name=\"section_4_2\">section_4_2</a>"
   ]
  },
  {
   "cell_type": "markdown",
   "id": "unique-departure",
   "metadata": {},
   "source": [
    "<h4 style=\"color:lightcoral\"><strong>Training A Model</strong></h4>\n",
    "\n",
    "> Train A Logistic Regression Model\n",
    "\n",
    "> Train A Regularized Model\n",
    "\n",
    "> Train An Optimized Logistic Regression Model Using Mini-Batch Gradient Descent\n",
    "\n",
    "> Tune hyperparameters\n",
    "\n",
    "> Choose the best model\n"
   ]
  },
  {
   "cell_type": "code",
   "execution_count": 17,
   "id": "extreme-height",
   "metadata": {},
   "outputs": [],
   "source": [
    "hyperparameter = lr.validation_with_regularization(training_data,validation_data,y_valid,learning_rates = learning_rates,epochs =epochs) "
   ]
  },
  {
   "cell_type": "code",
   "execution_count": 18,
   "id": "controversial-illustration",
   "metadata": {},
   "outputs": [
    {
     "name": "stdout",
     "output_type": "stream",
     "text": [
      "The tuned learning rate hyperparemter is : 0.3\n",
      "The tuned epochs hyperparemter is : 120\n",
      "The tuned regularized_term hyperparemter is : 0\n"
     ]
    }
   ],
   "source": [
    "lrate = learning_rates[hyperparameter]\n",
    "nepochs = epochs[hyperparameter]\n",
    "regularized_term=regularization_terms[hyperparameter]\n",
    "print(\"The tuned learning rate hyperparemter is :\", lrate)\n",
    "print(\"The tuned epochs hyperparemter is :\", nepochs)\n",
    "print(\"The tuned regularized_term hyperparemter is :\", regularized_term)"
   ]
  },
  {
   "cell_type": "code",
   "execution_count": 19,
   "id": "awful-graham",
   "metadata": {},
   "outputs": [],
   "source": [
    "types = [\"bincross\",\"regularization\",\"bincross_mini_batch\"]\n",
    "type_titles = [\"Logistic Regression\",\"Logistic Regression With Regularization\",\"Logistic Regression With Mini-Batch Gradient Descent\"]\n",
    "normal_avg_acc,normal_predictions,normal_results,normal_ = lr.average_results(training_data,testing_data,y_test,lrate=lrate,nepochs=nepochs,regularized_term=regularized_term,niters=5,batch_size=32,type_=\"bincross\")\n",
    "regularization_avg_acc,regularization_predictions,regularization_results,regularization_ = lr.average_results(training_data,testing_data,y_test,lrate=lrate,nepochs=nepochs,regularized_term=regularized_term,niters=5,batch_size=32,type_=\"regularization\")\n",
    "mini_batch_avg_acc,mini_batch_predictions,mini_batch_results,mini_batch_ = lr.average_results(training_data,testing_data,y_test,lrate=lrate,nepochs=nepochs,regularized_term=regularized_term,niters=5,batch_size=32,type_=\"bincross_mini_batch\")"
   ]
  },
  {
   "cell_type": "code",
   "execution_count": 20,
   "id": "marine-manhattan",
   "metadata": {},
   "outputs": [
    {
     "name": "stdout",
     "output_type": "stream",
     "text": [
      "The accuracy for logistic regression model without regularization is: 75.40983606557377%\n",
      "The accuracy for regularized logistic regression model is: 78.68852459016394%\n",
      "The accuracy for optimized logistic regression model using mini-batch is: 77.70491803278688%\n"
     ]
    }
   ],
   "source": [
    "print(\"The accuracy for logistic regression model without regularization is: {}%\".format(normal_avg_acc))\n",
    "print(\"The accuracy for regularized logistic regression model is: {}%\".format(regularization_avg_acc))\n",
    "print(\"The accuracy for optimized logistic regression model using mini-batch is: {}%\".format(mini_batch_avg_acc))"
   ]
  },
  {
   "cell_type": "code",
   "execution_count": 21,
   "id": "prepared-hypothetical",
   "metadata": {},
   "outputs": [],
   "source": [
    "results = [normal_results,regularization_results,mini_batch_results]\n",
    "predictions =[normal_predictions,regularization_predictions,mini_batch_predictions]\n",
    "errors = [normal_,regularization_,mini_batch_]"
   ]
  },
  {
   "cell_type": "code",
   "execution_count": 22,
   "id": "dried-rover",
   "metadata": {},
   "outputs": [
    {
     "data": {
      "text/html": [
       "<div>\n",
       "<style scoped>\n",
       "    .dataframe tbody tr th:only-of-type {\n",
       "        vertical-align: middle;\n",
       "    }\n",
       "\n",
       "    .dataframe tbody tr th {\n",
       "        vertical-align: top;\n",
       "    }\n",
       "\n",
       "    .dataframe thead th {\n",
       "        text-align: right;\n",
       "    }\n",
       "</style>\n",
       "<table border=\"1\" class=\"dataframe\">\n",
       "  <thead>\n",
       "    <tr style=\"text-align: right;\">\n",
       "      <th></th>\n",
       "      <th>Bias</th>\n",
       "      <th>age</th>\n",
       "      <th>trestbps</th>\n",
       "      <th>chol</th>\n",
       "      <th>thalach</th>\n",
       "      <th>oldpeak</th>\n",
       "      <th>thal</th>\n",
       "      <th>sex_0</th>\n",
       "      <th>sex_1</th>\n",
       "      <th>cp_1</th>\n",
       "      <th>...</th>\n",
       "      <th>exang_0</th>\n",
       "      <th>exang_1</th>\n",
       "      <th>slope_1</th>\n",
       "      <th>slope_2</th>\n",
       "      <th>ca_0</th>\n",
       "      <th>ca_1</th>\n",
       "      <th>num</th>\n",
       "      <th>normal_predictions</th>\n",
       "      <th>regularized_predictions</th>\n",
       "      <th>optimized_predictions</th>\n",
       "    </tr>\n",
       "  </thead>\n",
       "  <tbody>\n",
       "    <tr>\n",
       "      <th>238</th>\n",
       "      <td>1.0</td>\n",
       "      <td>0.333333</td>\n",
       "      <td>0.452830</td>\n",
       "      <td>0.450431</td>\n",
       "      <td>0.580153</td>\n",
       "      <td>0.000000</td>\n",
       "      <td>1.0</td>\n",
       "      <td>0.0</td>\n",
       "      <td>1.0</td>\n",
       "      <td>1.0</td>\n",
       "      <td>...</td>\n",
       "      <td>0.0</td>\n",
       "      <td>1.0</td>\n",
       "      <td>1.0</td>\n",
       "      <td>0.0</td>\n",
       "      <td>0.0</td>\n",
       "      <td>1.0</td>\n",
       "      <td>1</td>\n",
       "      <td>1</td>\n",
       "      <td>1</td>\n",
       "      <td>1</td>\n",
       "    </tr>\n",
       "    <tr>\n",
       "      <th>239</th>\n",
       "      <td>1.0</td>\n",
       "      <td>0.270833</td>\n",
       "      <td>0.509434</td>\n",
       "      <td>0.310345</td>\n",
       "      <td>0.816794</td>\n",
       "      <td>0.129032</td>\n",
       "      <td>0.0</td>\n",
       "      <td>0.0</td>\n",
       "      <td>1.0</td>\n",
       "      <td>1.0</td>\n",
       "      <td>...</td>\n",
       "      <td>1.0</td>\n",
       "      <td>0.0</td>\n",
       "      <td>1.0</td>\n",
       "      <td>0.0</td>\n",
       "      <td>0.0</td>\n",
       "      <td>1.0</td>\n",
       "      <td>0</td>\n",
       "      <td>1</td>\n",
       "      <td>1</td>\n",
       "      <td>1</td>\n",
       "    </tr>\n",
       "    <tr>\n",
       "      <th>240</th>\n",
       "      <td>1.0</td>\n",
       "      <td>0.645833</td>\n",
       "      <td>0.433962</td>\n",
       "      <td>0.415948</td>\n",
       "      <td>0.755725</td>\n",
       "      <td>0.193548</td>\n",
       "      <td>1.0</td>\n",
       "      <td>0.0</td>\n",
       "      <td>1.0</td>\n",
       "      <td>1.0</td>\n",
       "      <td>...</td>\n",
       "      <td>1.0</td>\n",
       "      <td>0.0</td>\n",
       "      <td>1.0</td>\n",
       "      <td>0.0</td>\n",
       "      <td>0.0</td>\n",
       "      <td>1.0</td>\n",
       "      <td>1</td>\n",
       "      <td>1</td>\n",
       "      <td>1</td>\n",
       "      <td>1</td>\n",
       "    </tr>\n",
       "    <tr>\n",
       "      <th>241</th>\n",
       "      <td>1.0</td>\n",
       "      <td>0.291667</td>\n",
       "      <td>0.150943</td>\n",
       "      <td>0.239224</td>\n",
       "      <td>0.687023</td>\n",
       "      <td>0.000000</td>\n",
       "      <td>1.0</td>\n",
       "      <td>0.0</td>\n",
       "      <td>1.0</td>\n",
       "      <td>1.0</td>\n",
       "      <td>...</td>\n",
       "      <td>1.0</td>\n",
       "      <td>0.0</td>\n",
       "      <td>1.0</td>\n",
       "      <td>0.0</td>\n",
       "      <td>1.0</td>\n",
       "      <td>0.0</td>\n",
       "      <td>0</td>\n",
       "      <td>0</td>\n",
       "      <td>0</td>\n",
       "      <td>0</td>\n",
       "    </tr>\n",
       "    <tr>\n",
       "      <th>242</th>\n",
       "      <td>1.0</td>\n",
       "      <td>0.541667</td>\n",
       "      <td>0.622642</td>\n",
       "      <td>0.407328</td>\n",
       "      <td>0.564885</td>\n",
       "      <td>0.129032</td>\n",
       "      <td>1.0</td>\n",
       "      <td>0.0</td>\n",
       "      <td>1.0</td>\n",
       "      <td>1.0</td>\n",
       "      <td>...</td>\n",
       "      <td>0.0</td>\n",
       "      <td>1.0</td>\n",
       "      <td>1.0</td>\n",
       "      <td>0.0</td>\n",
       "      <td>0.0</td>\n",
       "      <td>1.0</td>\n",
       "      <td>1</td>\n",
       "      <td>1</td>\n",
       "      <td>1</td>\n",
       "      <td>1</td>\n",
       "    </tr>\n",
       "  </tbody>\n",
       "</table>\n",
       "<p>5 rows × 25 columns</p>\n",
       "</div>"
      ],
      "text/plain": [
       "     Bias       age  trestbps      chol   thalach   oldpeak  thal  sex_0  \\\n",
       "238   1.0  0.333333  0.452830  0.450431  0.580153  0.000000   1.0    0.0   \n",
       "239   1.0  0.270833  0.509434  0.310345  0.816794  0.129032   0.0    0.0   \n",
       "240   1.0  0.645833  0.433962  0.415948  0.755725  0.193548   1.0    0.0   \n",
       "241   1.0  0.291667  0.150943  0.239224  0.687023  0.000000   1.0    0.0   \n",
       "242   1.0  0.541667  0.622642  0.407328  0.564885  0.129032   1.0    0.0   \n",
       "\n",
       "     sex_1  cp_1  ...  exang_0  exang_1  slope_1  slope_2  ca_0  ca_1  num  \\\n",
       "238    1.0   1.0  ...      0.0      1.0      1.0      0.0   0.0   1.0    1   \n",
       "239    1.0   1.0  ...      1.0      0.0      1.0      0.0   0.0   1.0    0   \n",
       "240    1.0   1.0  ...      1.0      0.0      1.0      0.0   0.0   1.0    1   \n",
       "241    1.0   1.0  ...      1.0      0.0      1.0      0.0   1.0   0.0    0   \n",
       "242    1.0   1.0  ...      0.0      1.0      1.0      0.0   0.0   1.0    1   \n",
       "\n",
       "     normal_predictions  regularized_predictions  optimized_predictions  \n",
       "238                   1                        1                      1  \n",
       "239                   1                        1                      1  \n",
       "240                   1                        1                      1  \n",
       "241                   0                        0                      0  \n",
       "242                   1                        1                      1  \n",
       "\n",
       "[5 rows x 25 columns]"
      ]
     },
     "execution_count": 22,
     "metadata": {},
     "output_type": "execute_result"
    }
   ],
   "source": [
    "predicted_dataset = testing_data.copy()\n",
    "predicted_dataset['normal_predictions'] = normal_results\n",
    "predicted_dataset['regularized_predictions'] = regularization_results\n",
    "predicted_dataset['optimized_predictions'] = mini_batch_results\n",
    "predicted_dataset.head()"
   ]
  },
  {
   "cell_type": "code",
   "execution_count": 23,
   "id": "formed-spank",
   "metadata": {},
   "outputs": [
    {
     "data": {
      "image/png": "[encoded data removed]",
      "text/plain": [
       "<Figure size 1080x432 with 3 Axes>"
      ]
     },
     "metadata": {
      "needs_background": "light"
     },
     "output_type": "display_data"
    }
   ],
   "source": [
    "acc.plot_cost_functions(nepochs,errors,type_titles)"
   ]
  },
  {
   "cell_type": "code",
   "execution_count": 24,
   "id": "turkish-reservation",
   "metadata": {},
   "outputs": [
    {
     "data": {
      "image/png": "[encoded data removed]",
      "text/plain": [
       "<Figure size 1080x432 with 6 Axes>"
      ]
     },
     "metadata": {
      "needs_background": "light"
     },
     "output_type": "display_data"
    }
   ],
   "source": [
    "acc.display_confusion_matrices(y_test,results,type_titles)"
   ]
  },
  {
   "cell_type": "code",
   "execution_count": 25,
   "id": "given-hopkins",
   "metadata": {},
   "outputs": [
    {
     "name": "stdout",
     "output_type": "stream",
     "text": [
      "No Skill for Logistic Regression: ROC AUC=50.0\n",
      "Logistic Regression: ROC AUC=88.12636165577342\n",
      "No Skill for Logistic Regression With Regularization: ROC AUC=50.0\n",
      "Logistic Regression With Regularization: ROC AUC=89.43355119825709\n",
      "No Skill for Logistic Regression With Mini-Batch Gradient Descent: ROC AUC=50.0\n",
      "Logistic Regression With Mini-Batch Gradient Descent: ROC AUC=89.54248366013071\n"
     ]
    },
    {
     "data": {
      "image/png": "[encoded data removed]",
      "text/plain": [
       "<Figure size 1080x432 with 3 Axes>"
      ]
     },
     "metadata": {
      "needs_background": "light"
     },
     "output_type": "display_data"
    }
   ],
   "source": [
    "acc.plot_roc_curves(y_test,predictions,type_titles)"
   ]
  },
  {
   "cell_type": "markdown",
   "id": "several-genealogy",
   "metadata": {},
   "source": [
    "The best model is the regularized logistic regression model because it has the highest AUC value"
   ]
  },
  {
   "cell_type": "markdown",
   "id": "revolutionary-logging",
   "metadata": {},
   "source": [
    "<a id=\"section_4_3\" name=\"section_4_3\">section_4_3</a>"
   ]
  },
  {
   "cell_type": "markdown",
   "id": "systematic-coating",
   "metadata": {},
   "source": [
    "<h4 style=\"color:lightcoral\"><strong>Training A State of The Art Model</strong></h4>\n",
    "\n",
    "> Train A State of The Art Logistic Regression Model"
   ]
  },
  {
   "cell_type": "code",
   "execution_count": 26,
   "id": "jewish-heart",
   "metadata": {},
   "outputs": [],
   "source": [
    "logreg = LogisticRegression()\n",
    "logreg.fit(X_train,y_train)\n",
    "y_pred = logreg.predict(X_test)\n",
    "y_pred_proba = logreg.predict_proba(X_test)[::,1]\n",
    "chosen_titles = [\"State of the Art Model\",\"Best Model\"]\n",
    "compare_results = [y_pred,regularization_results]\n",
    "compare_predictions = [y_pred_proba,regularization_predictions]"
   ]
  },
  {
   "cell_type": "code",
   "execution_count": 27,
   "id": "absolute-motion",
   "metadata": {},
   "outputs": [
    {
     "name": "stdout",
     "output_type": "stream",
     "text": [
      "The accuracy of the state of the art logistic regression  is: 77.04918032786885\n",
      "The accuracy of the best logistic regression  is: 78.68852459016394\n"
     ]
    }
   ],
   "source": [
    "print(\"The accuracy of the state of the art logistic regression  is: {}\".format(acc.accuracy_metric(y_test,y_pred)))\n",
    "print(\"The accuracy of the best logistic regression  is: {}\".format(regularization_avg_acc))"
   ]
  },
  {
   "cell_type": "code",
   "execution_count": 28,
   "id": "outstanding-nursery",
   "metadata": {},
   "outputs": [
    {
     "data": {
      "image/png": "[encoded data removed]",
      "text/plain": [
       "<Figure size 1080x432 with 4 Axes>"
      ]
     },
     "metadata": {
      "needs_background": "light"
     },
     "output_type": "display_data"
    }
   ],
   "source": [
    "acc.display_confusion_matrices(y_test,compare_results,chosen_titles)"
   ]
  },
  {
   "cell_type": "code",
   "execution_count": 29,
   "id": "identified-solid",
   "metadata": {},
   "outputs": [
    {
     "name": "stdout",
     "output_type": "stream",
     "text": [
      "No Skill for State of the Art Model: ROC AUC=50.0\n",
      "State of the Art Model: ROC AUC=88.88888888888889\n",
      "No Skill for Best Model: ROC AUC=50.0\n",
      "Best Model: ROC AUC=89.43355119825709\n"
     ]
    },
    {
     "data": {
      "image/png": "[encoded data removed]",
      "text/plain": [
       "<Figure size 1080x432 with 2 Axes>"
      ]
     },
     "metadata": {
      "needs_background": "light"
     },
     "output_type": "display_data"
    }
   ],
   "source": [
    "acc.plot_roc_curves(y_test,compare_predictions,chosen_titles)"
   ]
  },
  {
   "cell_type": "markdown",
   "id": "loving-turkey",
   "metadata": {},
   "source": [
    "<a id=\"section_4_4\" name=\"section_4_4\">section_4_4</a>"
   ]
  },
  {
   "cell_type": "markdown",
   "id": "incoming-puzzle",
   "metadata": {},
   "source": [
    "<h4 style=\"color:lightcoral\"><strong>Compare Model Performance</strong></h4>\n",
    "\n",
    "> Compare the state of the art and the best chosen model\n",
    "\n",
    "We can see that the regularized logisitic regression model outperformed the state of the art algorithm in terms of the ROC curve and AUC value"
   ]
  },
  {
   "cell_type": "markdown",
   "id": "interpreted-metro",
   "metadata": {},
   "source": [
    "<a id=\"section_4_5\" name=\"section_4_5\">section_4_5</a>"
   ]
  },
  {
   "cell_type": "markdown",
   "id": "divine-jewelry",
   "metadata": {},
   "source": [
    "<h4 style=\"color:lightcoral\"><strong>Compare Best Dataset</strong></h4>\n",
    "\n",
    "> Run regularized logistic regression on the other datasets"
   ]
  },
  {
   "cell_type": "code",
   "execution_count": 30,
   "id": "instructional-horizon",
   "metadata": {},
   "outputs": [
    {
     "data": {
      "text/html": [
       "<div>\n",
       "<style scoped>\n",
       "    .dataframe tbody tr th:only-of-type {\n",
       "        vertical-align: middle;\n",
       "    }\n",
       "\n",
       "    .dataframe tbody tr th {\n",
       "        vertical-align: top;\n",
       "    }\n",
       "\n",
       "    .dataframe thead th {\n",
       "        text-align: right;\n",
       "    }\n",
       "</style>\n",
       "<table border=\"1\" class=\"dataframe\">\n",
       "  <thead>\n",
       "    <tr style=\"text-align: right;\">\n",
       "      <th></th>\n",
       "      <th>Bias</th>\n",
       "      <th>age</th>\n",
       "      <th>trestbps</th>\n",
       "      <th>chol</th>\n",
       "      <th>thalach</th>\n",
       "      <th>oldpeak</th>\n",
       "      <th>thal</th>\n",
       "      <th>sex_0</th>\n",
       "      <th>sex_1</th>\n",
       "      <th>cp_1</th>\n",
       "      <th>...</th>\n",
       "      <th>restecg_1</th>\n",
       "      <th>restecg_2</th>\n",
       "      <th>exang_0</th>\n",
       "      <th>exang_1</th>\n",
       "      <th>slope_1</th>\n",
       "      <th>slope_2</th>\n",
       "      <th>slope_3</th>\n",
       "      <th>ca_0</th>\n",
       "      <th>ca_1</th>\n",
       "      <th>num</th>\n",
       "    </tr>\n",
       "  </thead>\n",
       "  <tbody>\n",
       "    <tr>\n",
       "      <th>0</th>\n",
       "      <td>1.0</td>\n",
       "      <td>0.510204</td>\n",
       "      <td>0.600</td>\n",
       "      <td>0.407960</td>\n",
       "      <td>0.394366</td>\n",
       "      <td>0.295455</td>\n",
       "      <td>1.000000</td>\n",
       "      <td>0.0</td>\n",
       "      <td>1.0</td>\n",
       "      <td>0.0</td>\n",
       "      <td>...</td>\n",
       "      <td>0.0</td>\n",
       "      <td>0.0</td>\n",
       "      <td>0.0</td>\n",
       "      <td>1.0</td>\n",
       "      <td>1.0</td>\n",
       "      <td>0.0</td>\n",
       "      <td>0.0</td>\n",
       "      <td>1.0</td>\n",
       "      <td>0.0</td>\n",
       "      <td>1</td>\n",
       "    </tr>\n",
       "    <tr>\n",
       "      <th>1</th>\n",
       "      <td>1.0</td>\n",
       "      <td>0.265306</td>\n",
       "      <td>0.675</td>\n",
       "      <td>0.336650</td>\n",
       "      <td>0.507042</td>\n",
       "      <td>0.295455</td>\n",
       "      <td>0.833333</td>\n",
       "      <td>0.0</td>\n",
       "      <td>1.0</td>\n",
       "      <td>1.0</td>\n",
       "      <td>...</td>\n",
       "      <td>0.0</td>\n",
       "      <td>0.0</td>\n",
       "      <td>1.0</td>\n",
       "      <td>0.0</td>\n",
       "      <td>1.0</td>\n",
       "      <td>0.0</td>\n",
       "      <td>0.0</td>\n",
       "      <td>1.0</td>\n",
       "      <td>0.0</td>\n",
       "      <td>0</td>\n",
       "    </tr>\n",
       "    <tr>\n",
       "      <th>2</th>\n",
       "      <td>1.0</td>\n",
       "      <td>0.530612</td>\n",
       "      <td>0.550</td>\n",
       "      <td>0.341625</td>\n",
       "      <td>0.338028</td>\n",
       "      <td>0.295455</td>\n",
       "      <td>0.000000</td>\n",
       "      <td>0.0</td>\n",
       "      <td>1.0</td>\n",
       "      <td>1.0</td>\n",
       "      <td>...</td>\n",
       "      <td>1.0</td>\n",
       "      <td>0.0</td>\n",
       "      <td>0.0</td>\n",
       "      <td>1.0</td>\n",
       "      <td>1.0</td>\n",
       "      <td>0.0</td>\n",
       "      <td>0.0</td>\n",
       "      <td>0.0</td>\n",
       "      <td>1.0</td>\n",
       "      <td>1</td>\n",
       "    </tr>\n",
       "    <tr>\n",
       "      <th>3</th>\n",
       "      <td>1.0</td>\n",
       "      <td>0.734694</td>\n",
       "      <td>0.650</td>\n",
       "      <td>0.502488</td>\n",
       "      <td>0.436620</td>\n",
       "      <td>0.409091</td>\n",
       "      <td>0.000000</td>\n",
       "      <td>1.0</td>\n",
       "      <td>0.0</td>\n",
       "      <td>1.0</td>\n",
       "      <td>...</td>\n",
       "      <td>0.0</td>\n",
       "      <td>0.0</td>\n",
       "      <td>1.0</td>\n",
       "      <td>0.0</td>\n",
       "      <td>1.0</td>\n",
       "      <td>0.0</td>\n",
       "      <td>0.0</td>\n",
       "      <td>0.0</td>\n",
       "      <td>1.0</td>\n",
       "      <td>0</td>\n",
       "    </tr>\n",
       "    <tr>\n",
       "      <th>4</th>\n",
       "      <td>1.0</td>\n",
       "      <td>0.346939</td>\n",
       "      <td>0.550</td>\n",
       "      <td>0.000000</td>\n",
       "      <td>0.549296</td>\n",
       "      <td>0.284091</td>\n",
       "      <td>1.000000</td>\n",
       "      <td>0.0</td>\n",
       "      <td>1.0</td>\n",
       "      <td>1.0</td>\n",
       "      <td>...</td>\n",
       "      <td>0.0</td>\n",
       "      <td>0.0</td>\n",
       "      <td>1.0</td>\n",
       "      <td>0.0</td>\n",
       "      <td>1.0</td>\n",
       "      <td>0.0</td>\n",
       "      <td>0.0</td>\n",
       "      <td>1.0</td>\n",
       "      <td>0.0</td>\n",
       "      <td>0</td>\n",
       "    </tr>\n",
       "    <tr>\n",
       "      <th>...</th>\n",
       "      <td>...</td>\n",
       "      <td>...</td>\n",
       "      <td>...</td>\n",
       "      <td>...</td>\n",
       "      <td>...</td>\n",
       "      <td>...</td>\n",
       "      <td>...</td>\n",
       "      <td>...</td>\n",
       "      <td>...</td>\n",
       "      <td>...</td>\n",
       "      <td>...</td>\n",
       "      <td>...</td>\n",
       "      <td>...</td>\n",
       "      <td>...</td>\n",
       "      <td>...</td>\n",
       "      <td>...</td>\n",
       "      <td>...</td>\n",
       "      <td>...</td>\n",
       "      <td>...</td>\n",
       "      <td>...</td>\n",
       "      <td>...</td>\n",
       "    </tr>\n",
       "    <tr>\n",
       "      <th>910</th>\n",
       "      <td>1.0</td>\n",
       "      <td>0.693878</td>\n",
       "      <td>0.550</td>\n",
       "      <td>0.000000</td>\n",
       "      <td>0.422535</td>\n",
       "      <td>0.352273</td>\n",
       "      <td>0.000000</td>\n",
       "      <td>0.0</td>\n",
       "      <td>1.0</td>\n",
       "      <td>1.0</td>\n",
       "      <td>...</td>\n",
       "      <td>0.0</td>\n",
       "      <td>0.0</td>\n",
       "      <td>0.0</td>\n",
       "      <td>1.0</td>\n",
       "      <td>1.0</td>\n",
       "      <td>0.0</td>\n",
       "      <td>0.0</td>\n",
       "      <td>1.0</td>\n",
       "      <td>0.0</td>\n",
       "      <td>1</td>\n",
       "    </tr>\n",
       "    <tr>\n",
       "      <th>911</th>\n",
       "      <td>1.0</td>\n",
       "      <td>0.224490</td>\n",
       "      <td>0.550</td>\n",
       "      <td>0.452736</td>\n",
       "      <td>0.507042</td>\n",
       "      <td>0.295455</td>\n",
       "      <td>1.000000</td>\n",
       "      <td>0.0</td>\n",
       "      <td>1.0</td>\n",
       "      <td>0.0</td>\n",
       "      <td>...</td>\n",
       "      <td>0.0</td>\n",
       "      <td>0.0</td>\n",
       "      <td>1.0</td>\n",
       "      <td>0.0</td>\n",
       "      <td>1.0</td>\n",
       "      <td>0.0</td>\n",
       "      <td>0.0</td>\n",
       "      <td>1.0</td>\n",
       "      <td>0.0</td>\n",
       "      <td>0</td>\n",
       "    </tr>\n",
       "    <tr>\n",
       "      <th>912</th>\n",
       "      <td>1.0</td>\n",
       "      <td>0.632653</td>\n",
       "      <td>0.750</td>\n",
       "      <td>0.351575</td>\n",
       "      <td>0.683099</td>\n",
       "      <td>0.477273</td>\n",
       "      <td>0.000000</td>\n",
       "      <td>0.0</td>\n",
       "      <td>1.0</td>\n",
       "      <td>1.0</td>\n",
       "      <td>...</td>\n",
       "      <td>0.0</td>\n",
       "      <td>0.0</td>\n",
       "      <td>1.0</td>\n",
       "      <td>0.0</td>\n",
       "      <td>1.0</td>\n",
       "      <td>0.0</td>\n",
       "      <td>0.0</td>\n",
       "      <td>1.0</td>\n",
       "      <td>0.0</td>\n",
       "      <td>0</td>\n",
       "    </tr>\n",
       "    <tr>\n",
       "      <th>913</th>\n",
       "      <td>1.0</td>\n",
       "      <td>0.897959</td>\n",
       "      <td>0.800</td>\n",
       "      <td>0.000000</td>\n",
       "      <td>0.380282</td>\n",
       "      <td>0.477273</td>\n",
       "      <td>1.000000</td>\n",
       "      <td>0.0</td>\n",
       "      <td>1.0</td>\n",
       "      <td>1.0</td>\n",
       "      <td>...</td>\n",
       "      <td>1.0</td>\n",
       "      <td>0.0</td>\n",
       "      <td>1.0</td>\n",
       "      <td>0.0</td>\n",
       "      <td>1.0</td>\n",
       "      <td>0.0</td>\n",
       "      <td>0.0</td>\n",
       "      <td>0.0</td>\n",
       "      <td>1.0</td>\n",
       "      <td>0</td>\n",
       "    </tr>\n",
       "    <tr>\n",
       "      <th>914</th>\n",
       "      <td>1.0</td>\n",
       "      <td>0.551020</td>\n",
       "      <td>0.700</td>\n",
       "      <td>0.444444</td>\n",
       "      <td>0.478873</td>\n",
       "      <td>0.465909</td>\n",
       "      <td>1.000000</td>\n",
       "      <td>0.0</td>\n",
       "      <td>1.0</td>\n",
       "      <td>0.0</td>\n",
       "      <td>...</td>\n",
       "      <td>0.0</td>\n",
       "      <td>0.0</td>\n",
       "      <td>0.0</td>\n",
       "      <td>1.0</td>\n",
       "      <td>0.0</td>\n",
       "      <td>1.0</td>\n",
       "      <td>0.0</td>\n",
       "      <td>1.0</td>\n",
       "      <td>0.0</td>\n",
       "      <td>1</td>\n",
       "    </tr>\n",
       "  </tbody>\n",
       "</table>\n",
       "<p>915 rows × 26 columns</p>\n",
       "</div>"
      ],
      "text/plain": [
       "     Bias       age  trestbps      chol   thalach   oldpeak      thal  sex_0  \\\n",
       "0     1.0  0.510204     0.600  0.407960  0.394366  0.295455  1.000000    0.0   \n",
       "1     1.0  0.265306     0.675  0.336650  0.507042  0.295455  0.833333    0.0   \n",
       "2     1.0  0.530612     0.550  0.341625  0.338028  0.295455  0.000000    0.0   \n",
       "3     1.0  0.734694     0.650  0.502488  0.436620  0.409091  0.000000    1.0   \n",
       "4     1.0  0.346939     0.550  0.000000  0.549296  0.284091  1.000000    0.0   \n",
       "..    ...       ...       ...       ...       ...       ...       ...    ...   \n",
       "910   1.0  0.693878     0.550  0.000000  0.422535  0.352273  0.000000    0.0   \n",
       "911   1.0  0.224490     0.550  0.452736  0.507042  0.295455  1.000000    0.0   \n",
       "912   1.0  0.632653     0.750  0.351575  0.683099  0.477273  0.000000    0.0   \n",
       "913   1.0  0.897959     0.800  0.000000  0.380282  0.477273  1.000000    0.0   \n",
       "914   1.0  0.551020     0.700  0.444444  0.478873  0.465909  1.000000    0.0   \n",
       "\n",
       "     sex_1  cp_1  ...  restecg_1  restecg_2  exang_0  exang_1  slope_1  \\\n",
       "0      1.0   0.0  ...        0.0        0.0      0.0      1.0      1.0   \n",
       "1      1.0   1.0  ...        0.0        0.0      1.0      0.0      1.0   \n",
       "2      1.0   1.0  ...        1.0        0.0      0.0      1.0      1.0   \n",
       "3      0.0   1.0  ...        0.0        0.0      1.0      0.0      1.0   \n",
       "4      1.0   1.0  ...        0.0        0.0      1.0      0.0      1.0   \n",
       "..     ...   ...  ...        ...        ...      ...      ...      ...   \n",
       "910    1.0   1.0  ...        0.0        0.0      0.0      1.0      1.0   \n",
       "911    1.0   0.0  ...        0.0        0.0      1.0      0.0      1.0   \n",
       "912    1.0   1.0  ...        0.0        0.0      1.0      0.0      1.0   \n",
       "913    1.0   1.0  ...        1.0        0.0      1.0      0.0      1.0   \n",
       "914    1.0   0.0  ...        0.0        0.0      0.0      1.0      0.0   \n",
       "\n",
       "     slope_2  slope_3  ca_0  ca_1  num  \n",
       "0        0.0      0.0   1.0   0.0    1  \n",
       "1        0.0      0.0   1.0   0.0    0  \n",
       "2        0.0      0.0   0.0   1.0    1  \n",
       "3        0.0      0.0   0.0   1.0    0  \n",
       "4        0.0      0.0   1.0   0.0    0  \n",
       "..       ...      ...   ...   ...  ...  \n",
       "910      0.0      0.0   1.0   0.0    1  \n",
       "911      0.0      0.0   1.0   0.0    0  \n",
       "912      0.0      0.0   1.0   0.0    0  \n",
       "913      0.0      0.0   0.0   1.0    0  \n",
       "914      1.0      0.0   1.0   0.0    1  \n",
       "\n",
       "[915 rows x 26 columns]"
      ]
     },
     "execution_count": 30,
     "metadata": {},
     "output_type": "execute_result"
    }
   ],
   "source": [
    "mode_dataset = encode_mode_heart.copy()\n",
    "mode_dataset = dp.minmax_scale(mode_dataset)\n",
    "mode_dataset = dp.add_bias(mode_dataset)\n",
    "mode_dataset = mode_dataset.sample(frac=1).reset_index(drop=True)\n",
    "mode_dataset"
   ]
  },
  {
   "cell_type": "code",
   "execution_count": 31,
   "id": "million-twenty",
   "metadata": {},
   "outputs": [],
   "source": [
    "X_mode = mode_dataset.iloc[:,:-1]\n",
    "y_mode = mode_dataset.iloc[:,-1] # # X_train, X_test, y_train, y_test = train_test_split(X, y, test_size=0.33, random_state=42)\n",
    "sixty_split =  int(len(mode_dataset) * 0.6)\n",
    "twenty_split = int(len(mode_dataset) * 0.2)\n",
    "X_train_mode = X_mode.iloc[:sixty_split];X_valid_mode = X_mode.iloc[sixty_split:sixty_split+twenty_split];X_test_mode = X_mode.iloc[sixty_split+twenty_split:]\n",
    "y_train_mode = y_mode.iloc[:sixty_split];y_valid_mode = y_mode.iloc[sixty_split:sixty_split+twenty_split];y_test_mode = y_mode.iloc[sixty_split+twenty_split:]"
   ]
  },
  {
   "cell_type": "code",
   "execution_count": 32,
   "id": "touched-valve",
   "metadata": {},
   "outputs": [
    {
     "data": {
      "text/html": [
       "<div>\n",
       "<style scoped>\n",
       "    .dataframe tbody tr th:only-of-type {\n",
       "        vertical-align: middle;\n",
       "    }\n",
       "\n",
       "    .dataframe tbody tr th {\n",
       "        vertical-align: top;\n",
       "    }\n",
       "\n",
       "    .dataframe thead th {\n",
       "        text-align: right;\n",
       "    }\n",
       "</style>\n",
       "<table border=\"1\" class=\"dataframe\">\n",
       "  <thead>\n",
       "    <tr style=\"text-align: right;\">\n",
       "      <th></th>\n",
       "      <th>Bias</th>\n",
       "      <th>age</th>\n",
       "      <th>trestbps</th>\n",
       "      <th>chol</th>\n",
       "      <th>thalach</th>\n",
       "      <th>oldpeak</th>\n",
       "      <th>thal</th>\n",
       "      <th>sex_0</th>\n",
       "      <th>sex_1</th>\n",
       "      <th>cp_1</th>\n",
       "      <th>...</th>\n",
       "      <th>restecg_1</th>\n",
       "      <th>restecg_2</th>\n",
       "      <th>exang_0</th>\n",
       "      <th>exang_1</th>\n",
       "      <th>slope_1</th>\n",
       "      <th>slope_2</th>\n",
       "      <th>slope_3</th>\n",
       "      <th>ca_0</th>\n",
       "      <th>ca_1</th>\n",
       "      <th>num</th>\n",
       "    </tr>\n",
       "  </thead>\n",
       "  <tbody>\n",
       "    <tr>\n",
       "      <th>732</th>\n",
       "      <td>1.0</td>\n",
       "      <td>0.346939</td>\n",
       "      <td>0.55</td>\n",
       "      <td>0.437811</td>\n",
       "      <td>0.507042</td>\n",
       "      <td>0.431818</td>\n",
       "      <td>1.0</td>\n",
       "      <td>0.0</td>\n",
       "      <td>1.0</td>\n",
       "      <td>1.0</td>\n",
       "      <td>...</td>\n",
       "      <td>0.0</td>\n",
       "      <td>0.0</td>\n",
       "      <td>1.0</td>\n",
       "      <td>0.0</td>\n",
       "      <td>1.0</td>\n",
       "      <td>0.0</td>\n",
       "      <td>0.0</td>\n",
       "      <td>1.0</td>\n",
       "      <td>0.0</td>\n",
       "      <td>1</td>\n",
       "    </tr>\n",
       "    <tr>\n",
       "      <th>733</th>\n",
       "      <td>1.0</td>\n",
       "      <td>0.142857</td>\n",
       "      <td>0.75</td>\n",
       "      <td>0.437811</td>\n",
       "      <td>0.760563</td>\n",
       "      <td>0.295455</td>\n",
       "      <td>1.0</td>\n",
       "      <td>0.0</td>\n",
       "      <td>1.0</td>\n",
       "      <td>0.0</td>\n",
       "      <td>...</td>\n",
       "      <td>0.0</td>\n",
       "      <td>0.0</td>\n",
       "      <td>1.0</td>\n",
       "      <td>0.0</td>\n",
       "      <td>1.0</td>\n",
       "      <td>0.0</td>\n",
       "      <td>0.0</td>\n",
       "      <td>1.0</td>\n",
       "      <td>0.0</td>\n",
       "      <td>0</td>\n",
       "    </tr>\n",
       "    <tr>\n",
       "      <th>734</th>\n",
       "      <td>1.0</td>\n",
       "      <td>0.857143</td>\n",
       "      <td>0.80</td>\n",
       "      <td>0.446103</td>\n",
       "      <td>0.366197</td>\n",
       "      <td>0.625000</td>\n",
       "      <td>1.0</td>\n",
       "      <td>0.0</td>\n",
       "      <td>1.0</td>\n",
       "      <td>1.0</td>\n",
       "      <td>...</td>\n",
       "      <td>0.0</td>\n",
       "      <td>0.0</td>\n",
       "      <td>0.0</td>\n",
       "      <td>1.0</td>\n",
       "      <td>1.0</td>\n",
       "      <td>0.0</td>\n",
       "      <td>0.0</td>\n",
       "      <td>0.0</td>\n",
       "      <td>1.0</td>\n",
       "      <td>1</td>\n",
       "    </tr>\n",
       "    <tr>\n",
       "      <th>735</th>\n",
       "      <td>1.0</td>\n",
       "      <td>0.163265</td>\n",
       "      <td>0.60</td>\n",
       "      <td>0.442786</td>\n",
       "      <td>0.704225</td>\n",
       "      <td>0.636364</td>\n",
       "      <td>1.0</td>\n",
       "      <td>0.0</td>\n",
       "      <td>1.0</td>\n",
       "      <td>0.0</td>\n",
       "      <td>...</td>\n",
       "      <td>0.0</td>\n",
       "      <td>0.0</td>\n",
       "      <td>1.0</td>\n",
       "      <td>0.0</td>\n",
       "      <td>0.0</td>\n",
       "      <td>1.0</td>\n",
       "      <td>0.0</td>\n",
       "      <td>1.0</td>\n",
       "      <td>0.0</td>\n",
       "      <td>1</td>\n",
       "    </tr>\n",
       "    <tr>\n",
       "      <th>736</th>\n",
       "      <td>1.0</td>\n",
       "      <td>0.428571</td>\n",
       "      <td>0.60</td>\n",
       "      <td>0.235489</td>\n",
       "      <td>0.633803</td>\n",
       "      <td>0.295455</td>\n",
       "      <td>1.0</td>\n",
       "      <td>0.0</td>\n",
       "      <td>1.0</td>\n",
       "      <td>1.0</td>\n",
       "      <td>...</td>\n",
       "      <td>0.0</td>\n",
       "      <td>0.0</td>\n",
       "      <td>1.0</td>\n",
       "      <td>0.0</td>\n",
       "      <td>1.0</td>\n",
       "      <td>0.0</td>\n",
       "      <td>0.0</td>\n",
       "      <td>1.0</td>\n",
       "      <td>0.0</td>\n",
       "      <td>1</td>\n",
       "    </tr>\n",
       "  </tbody>\n",
       "</table>\n",
       "<p>5 rows × 26 columns</p>\n",
       "</div>"
      ],
      "text/plain": [
       "     Bias       age  trestbps      chol   thalach   oldpeak  thal  sex_0  \\\n",
       "732   1.0  0.346939      0.55  0.437811  0.507042  0.431818   1.0    0.0   \n",
       "733   1.0  0.142857      0.75  0.437811  0.760563  0.295455   1.0    0.0   \n",
       "734   1.0  0.857143      0.80  0.446103  0.366197  0.625000   1.0    0.0   \n",
       "735   1.0  0.163265      0.60  0.442786  0.704225  0.636364   1.0    0.0   \n",
       "736   1.0  0.428571      0.60  0.235489  0.633803  0.295455   1.0    0.0   \n",
       "\n",
       "     sex_1  cp_1  ...  restecg_1  restecg_2  exang_0  exang_1  slope_1  \\\n",
       "732    1.0   1.0  ...        0.0        0.0      1.0      0.0      1.0   \n",
       "733    1.0   0.0  ...        0.0        0.0      1.0      0.0      1.0   \n",
       "734    1.0   1.0  ...        0.0        0.0      0.0      1.0      1.0   \n",
       "735    1.0   0.0  ...        0.0        0.0      1.0      0.0      0.0   \n",
       "736    1.0   1.0  ...        0.0        0.0      1.0      0.0      1.0   \n",
       "\n",
       "     slope_2  slope_3  ca_0  ca_1  num  \n",
       "732      0.0      0.0   1.0   0.0    1  \n",
       "733      0.0      0.0   1.0   0.0    0  \n",
       "734      0.0      0.0   0.0   1.0    1  \n",
       "735      1.0      0.0   1.0   0.0    1  \n",
       "736      0.0      0.0   1.0   0.0    1  \n",
       "\n",
       "[5 rows x 26 columns]"
      ]
     },
     "execution_count": 32,
     "metadata": {},
     "output_type": "execute_result"
    }
   ],
   "source": [
    "training_data_mode = X_train_mode.join(y_train_mode)\n",
    "validation_data_mode = X_valid_mode.join(y_valid_mode)\n",
    "testing_data_mode = X_test_mode.join(y_test_mode)\n",
    "testing_data_mode.head()"
   ]
  },
  {
   "cell_type": "code",
   "execution_count": 33,
   "id": "individual-glucose",
   "metadata": {},
   "outputs": [],
   "source": [
    "lrate = learning_rates[hyperparameter]\n",
    "nepochs = epochs[hyperparameter]\n",
    "regularized_term=regularization_terms[hyperparameter]"
   ]
  },
  {
   "cell_type": "code",
   "execution_count": 34,
   "id": "recent-alexander",
   "metadata": {},
   "outputs": [],
   "source": [
    "mode_regularization_avg_acc,mode_regularization_predictions,mode_regularization_results,mode_regularization_ = lr.average_results(training_data_mode,testing_data_mode,y_test_mode,lrate=lrate,nepochs=nepochs,regularized_term=regularized_term,niters=5,batch_size=32,type_=\"regularization\")"
   ]
  },
  {
   "cell_type": "code",
   "execution_count": 35,
   "id": "recovered-conclusion",
   "metadata": {},
   "outputs": [],
   "source": [
    "choose_results = [regularization_results,mode_regularization_results]\n",
    "choose_predictions =[regularization_predictions,mode_regularization_predictions]\n",
    "choose_errors = [regularization_,mode_regularization_]\n",
    "choose_titles = [\"Regularized Logistic With Dropped Missing Data\",\"Regularized Logistic With Mode Replacing Missing Data \"]"
   ]
  },
  {
   "cell_type": "code",
   "execution_count": 41,
   "id": "worth-explosion",
   "metadata": {},
   "outputs": [
    {
     "name": "stdout",
     "output_type": "stream",
     "text": [
      "The accuracy for Regularized Logistic With Dropped Missing Data is 78.68852459016394%\n",
      "The accuracy for Regularized Logistic With Mode Replacing Missing Data  is 80.87431693989072%\n"
     ]
    }
   ],
   "source": [
    "print(\"The accuracy for {} is {}%\".format(choose_titles[0],regularization_avg_acc))\n",
    "print(\"The accuracy for {} is {}%\".format(choose_titles[1],mode_regularization_avg_acc))"
   ]
  },
  {
   "cell_type": "code",
   "execution_count": 36,
   "id": "stretch-peninsula",
   "metadata": {},
   "outputs": [
    {
     "data": {
      "image/png": "[encoded data removed]",
      "text/plain": [
       "<Figure size 1080x432 with 2 Axes>"
      ]
     },
     "metadata": {
      "needs_background": "light"
     },
     "output_type": "display_data"
    }
   ],
   "source": [
    "acc.plot_cost_functions(nepochs,choose_errors,choose_titles)"
   ]
  },
  {
   "cell_type": "code",
   "execution_count": 37,
   "id": "surprising-concentration",
   "metadata": {},
   "outputs": [
    {
     "data": {
      "text/plain": [
       "Text(0.5, 1.0, 'Regularized Logistic With Dropped Missing Data')"
      ]
     },
     "execution_count": 37,
     "metadata": {},
     "output_type": "execute_result"
    },
    {
     "data": {
      "image/png": "[encoded data removed]",
      "text/plain": [
       "<Figure size 432x288 with 2 Axes>"
      ]
     },
     "metadata": {
      "needs_background": "light"
     },
     "output_type": "display_data"
    }
   ],
   "source": [
    "acc.display_confusion_matrix(y_test,regularization_results)\n",
    "plt.title(choose_titles[0])"
   ]
  },
  {
   "cell_type": "code",
   "execution_count": 38,
   "id": "latin-department",
   "metadata": {},
   "outputs": [
    {
     "data": {
      "text/plain": [
       "Text(0.5, 1.0, 'Regularized Logistic With Mode Replacing Missing Data ')"
      ]
     },
     "execution_count": 38,
     "metadata": {},
     "output_type": "execute_result"
    },
    {
     "data": {
      "image/png": "[encoded data removed]",
      "text/plain": [
       "<Figure size 432x288 with 2 Axes>"
      ]
     },
     "metadata": {
      "needs_background": "light"
     },
     "output_type": "display_data"
    }
   ],
   "source": [
    "acc.display_confusion_matrix(y_test_mode,mode_regularization_results)\n",
    "plt.title(choose_titles[1])"
   ]
  },
  {
   "cell_type": "code",
   "execution_count": 40,
   "id": "abroad-investigator",
   "metadata": {},
   "outputs": [
    {
     "name": "stdout",
     "output_type": "stream",
     "text": [
      "No Skill: ROC AUC=0.500\n",
      "Logistic: ROC AUC=0.894\n"
     ]
    },
    {
     "data": {
      "text/plain": [
       "Text(0.5, 1.0, 'Regularized Logistic With Dropped Missing Data')"
      ]
     },
     "execution_count": 40,
     "metadata": {},
     "output_type": "execute_result"
    },
    {
     "data": {
      "image/png": "[encoded data removed]",
      "text/plain": [
       "<Figure size 432x288 with 1 Axes>"
      ]
     },
     "metadata": {
      "needs_background": "light"
     },
     "output_type": "display_data"
    }
   ],
   "source": [
    "acc.plot_roc_curve(y_test,regularization_predictions)\n",
    "plt.title(choose_titles[0])"
   ]
  },
  {
   "cell_type": "code",
   "execution_count": 43,
   "id": "amazing-physics",
   "metadata": {},
   "outputs": [
    {
     "name": "stdout",
     "output_type": "stream",
     "text": [
      "No Skill: ROC AUC=0.500\n",
      "Logistic: ROC AUC=0.863\n"
     ]
    },
    {
     "data": {
      "text/plain": [
       "Text(0.5, 1.0, 'Regularized Logistic With Mode Replacing Missing Data ')"
      ]
     },
     "execution_count": 43,
     "metadata": {},
     "output_type": "execute_result"
    },
    {
     "data": {
      "image/png": "[encoded data removed]",
      "text/plain": [
       "<Figure size 432x288 with 1 Axes>"
      ]
     },
     "metadata": {
      "needs_background": "light"
     },
     "output_type": "display_data"
    }
   ],
   "source": [
    "acc.plot_roc_curve(y_test_mode,mode_regularization_predictions)\n",
    "plt.title(choose_titles[1])"
   ]
  },
  {
   "cell_type": "markdown",
   "id": "possible-knife",
   "metadata": {},
   "source": [
    "<a id=\"section_4_6\" name=\"section_4_6\">section_4_6</a>"
   ]
  },
  {
   "cell_type": "markdown",
   "id": "colonial-carroll",
   "metadata": {},
   "source": [
    "\n",
    "<h4 style=\"color:lightcoral\"><strong>Future Work</strong></h4>\n",
    "Our algorithm has taken account of all datasets. Prior research perform algorithms on their respective datasets relative to their schools. We have further extended and improved their algorithm to give a better diagnosis on whether a patient has heart disease. \n",
    "\n",
    "We investigated our algorithms by using the combined datasets in two different ways. We dropped the missing values and replaced the missing values with the mode of the feature. The performance an algorithm trained on data that learns the outcome of the missing values is left for investigations"
   ]
  },
  {
   "cell_type": "markdown",
   "id": "editorial-river",
   "metadata": {},
   "source": [
    "<a id=\"section_4_7\" name=\"section_4_7\">section_4_7</a>"
   ]
  },
  {
   "cell_type": "markdown",
   "id": "australian-participant",
   "metadata": {},
   "source": [
    "<h4 style=\"color:lightcoral\"><strong>Conclusion</strong></h4>\n"
   ]
  },
  {
   "cell_type": "markdown",
   "id": "instructional-minority",
   "metadata": {},
   "source": [
    "[back to top](#section_n)"
   ]
  }
 ],
 "metadata": {
  "kernelspec": {
   "display_name": "Python 3",
   "language": "python",
   "name": "python3"
  },
  "language_info": {
   "codemirror_mode": {
    "name": "ipython",
    "version": 3
   },
   "file_extension": ".py",
   "mimetype": "text/x-python",
   "name": "python",
   "nbconvert_exporter": "python",
   "pygments_lexer": "ipython3",
   "version": "3.8.5"
  }
 },
 "nbformat": 4,
 "nbformat_minor": 5
}
