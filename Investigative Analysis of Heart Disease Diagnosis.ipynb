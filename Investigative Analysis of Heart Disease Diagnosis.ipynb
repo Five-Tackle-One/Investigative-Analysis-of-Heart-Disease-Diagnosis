{
 "cells": [
  {
   "cell_type": "markdown",
   "id": "crucial-brick",
   "metadata": {},
   "source": [
    "<h1 style='text-align:center'>Investigative Analysis of Heart Disease Diagnosis</h1>"
   ]
  },
  {
   "cell_type": "markdown",
   "id": "tropical-steps",
   "metadata": {},
   "source": [
    "Dataset <a href=\"https://www.kaggle.com/ronitf/heart-disease-uci?select=heart.csv\">Heart Disease UCI</a>"
   ]
  },
  {
   "cell_type": "markdown",
   "id": "ecological-closer",
   "metadata": {},
   "source": [
    "<a id=\"section_n\" name=\"section_n\"></a>"
   ]
  },
  {
   "cell_type": "markdown",
   "id": "brown-national",
   "metadata": {},
   "source": [
    "## Table of Contents"
   ]
  },
  {
   "cell_type": "markdown",
   "id": "satisfactory-latitude",
   "metadata": {},
   "source": [
    "* [1. Introduction](#chapter2)\n",
    "    * [Heart Disease](#section_2_1)\n",
    "    * [Relevant Study](#section_2_2)\n",
    "    * [Research Question and Problem Statement](#section_2_3)\n",
    "    * [Data Description](#section_2_4)\n",
    "    * [Executive Summary](#section_2_5)\n",
    "    * [Variable Description](#section_2_6)\n",
    "* [2. Data Analysis and Exploration](#chapter3)\n",
    "    * [Data Preparation](#section_3_1)\n",
    "    * [Missing Values](#section_3_2)\n",
    "    * [Outliers](#section_3_3)\n",
    "    * [Encoding](#section_3_4)\n",
    "    * [Exploratory Analysis and Data Visualization](#section_3_5)\n",
    "* [3. Algorithm Implementation](#chapter4)\n",
    "    * [Data Preparation](#section_4_1)\n",
    "    * [Training A Model](#section_4_2)\n",
    "    * [Optimize The Model](#section_4_3)\n",
    "    * [Training A State of The Art Model](#section_4_4)\n",
    "    * [Compare Model Performance](#section_4_5)\n",
    "    * [Conclusion](#section_4_6)"
   ]
  },
  {
   "cell_type": "markdown",
   "id": "statewide-prophet",
   "metadata": {},
   "source": [
    "research / latex references\n",
    "\n",
    "*  https://0-pubmed-ncbi-nlm-nih-gov.innopac.wits.ac.za/2756873/  International application of a new probability algorithm for the diagnosis of coronary artery disease https://0-www-sciencedirect-com.innopac.wits.ac.za/science/article/pii/0002914989905249?via%3Dihub\n",
    "\n",
    "* Categories https://rdrr.io/github/coatless/ucidata/man/heart_disease.html#heading-3 \n",
    "\n",
    "* Another paper https://www.cabdirect.org/cabdirect/abstract/19711403775  \n",
    "Coronary heart disease in seven countries.\n",
    "\n",
    " \n",
    "*  Heart failure https://my.clevelandclinic.org/health/diseases/17069-heart-failure-understanding-heart-failure\n",
    "\n",
    "* Heart Disease https://my.clevelandclinic.org/health/diseases/16898-coronary-artery-disease"
   ]
  },
  {
   "cell_type": "markdown",
   "id": "intimate-uncertainty",
   "metadata": {},
   "source": [
    "<a id=\"chapter2\" name=\"chapter2\">chapter2</a> "
   ]
  },
  {
   "cell_type": "markdown",
   "id": "organized-jewelry",
   "metadata": {},
   "source": [
    "<h2 style=\"text-align:center\">Introduction: Heart Disease Diagnosis</h2>"
   ]
  },
  {
   "cell_type": "markdown",
   "id": "pharmaceutical-brook",
   "metadata": {},
   "source": [
    "<a id=\"section_2_1\" name=\"section_2_1\">section_2_1</a>"
   ]
  },
  {
   "cell_type": "markdown",
   "id": "intelligent-release",
   "metadata": {},
   "source": [
    "<h4 style=\"color:lightcoral\"><strong>Heart Disease</strong></h4>"
   ]
  },
  {
   "cell_type": "markdown",
   "id": "addressed-password",
   "metadata": {},
   "source": [
    "<a id=\"section_2_2\" name=\"section_2_2\">section_2_2</a>"
   ]
  },
  {
   "cell_type": "markdown",
   "id": "colonial-variation",
   "metadata": {},
   "source": [
    "<h4 style=\"color:lightcoral\"><strong>Relevant Study</strong></h4>"
   ]
  },
  {
   "cell_type": "markdown",
   "id": "whole-newsletter",
   "metadata": {},
   "source": [
    "<a id=\"section_2_3\" name=\"section_2_3\">section_2_3</a>"
   ]
  },
  {
   "cell_type": "markdown",
   "id": "southeast-sphere",
   "metadata": {},
   "source": [
    "<h4 style=\"color:lightcoral\"><strong>Researh Question and Problem</strong></h4>\n",
    "\n",
    "> <strong>Hypothesis:</strong>\n",
    "\n",
    "> <strong>Relationships</strong>:\n",
    "\n",
    "> <strong>Predictions</strong>: "
   ]
  },
  {
   "cell_type": "markdown",
   "id": "potential-neutral",
   "metadata": {},
   "source": [
    "<a id=\"section_2_4\" name=\"section_2_4\">section_2_4</a>"
   ]
  },
  {
   "cell_type": "markdown",
   "id": "tracked-lindsay",
   "metadata": {},
   "source": [
    "<h4 style=\"color:lightcoral\"><strong>Data Description</strong></h4>\n",
    "\n",
    "<strong style=\"color:lightcoral\">Age:</strong> age in years\n",
    "\n",
    "<strong style=\"color:lightcoral\">Sex</strong>\n",
    "> 1 = Male\n",
    "\n",
    "> 2 = Female\n",
    "\n",
    "\n",
    "\n",
    "<strong style=\"color:lightcoral\">Chol: Serum Cholestoral in mg/dl</strong>\n",
    "> $ x \\in \\mathbb{R}$ \n",
    "\n",
    "\n",
    "<strong style='color:lightcoral'>Trestbps: Resting Blood Pressure (in mm Hg on admission to the hospital)</strong>\n",
    "> $ x \\in \\mathbb{R}$ \n",
    "\n",
    "\n",
    "<strong style=\"color:lightcoral\">Chest Pain Type</strong>\n",
    "> Value 1 = Typical Angina\n",
    "\n",
    "> Value 2 = Atypical Angina\n",
    "\n",
    "> Value 3 = Non-Anginal Pain\n",
    "\n",
    "> Value 4 = Asymptomatic\n",
    "\n",
    "\n",
    "\n",
    "<strong style=\"color:lightcoral\">Thalach: Maximum Heart Rate Achieved</strong>\n",
    "> $ x \\in \\mathbb{R}$ \n",
    "\n",
    "\n",
    "<strong style=\"color:lightcoral\">Exang: Exercise Induced Angina </strong>\n",
    "> 1 = Yes\n",
    "\n",
    "> 0 = No\n",
    "\n",
    "<strong style=\"color:lightcoral\">Fasting Blood Sugar > 120 mg</strong>\n",
    "> 1 = True\n",
    "\n",
    "> 2 = False \n",
    "\n",
    "\n",
    "<strong style=\"color:lightcoral\">Resting Electrocardiographic Results</strong>\n",
    ">  Value 0=  Normal\n",
    "\n",
    ">  Value 2=Having ST-T Wave Abnormality (T Wave Inversions)\n",
    "\n",
    ">  Value 3= Showing Probable or Definite Left Ventricular Hypertrophy\n",
    "\n",
    "<strong style='color:lightcoral'>OldPeak = ST Depression Induced by Exercise Relative to Eest</strong>\n",
    "> $ x \\in \\mathbb{R}$ \n",
    "\n",
    "\n",
    "\n",
    "<strong style='color:lightcoral'>ca: Number of Major Vessels (0-3) colored by flourosopy</strong>\n",
    "\n",
    "<strong style='color:lightcoral'>thal: </strong>\n",
    "> 3 = normal\n",
    "\n",
    "> 6 = fixed defect\n",
    "\n",
    "> 7 = reversable defect\n",
    "\n",
    "<strong style=\"color:lightcoral\">Slope: The Slope of the Peak Exercise of ST Segment</strong>\n",
    ">  Value 1= Upsloping\n",
    "\n",
    ">  Value 2= Flat\n",
    "\n",
    ">  Value 3= Downsloping\n",
    "\n",
    "\n",
    "<strong style=\"color:lightcoral\">Target: Presence of Heart Disease</strong>\n",
    ">  Value 0= Absence\n",
    "\n",
    ">  Value 1= Presence\n"
   ]
  },
  {
   "cell_type": "markdown",
   "id": "flush-reaction",
   "metadata": {},
   "source": [
    "<a id=\"section_2_5\" name=\"section_2_5\">section_2_5</a>"
   ]
  },
  {
   "cell_type": "markdown",
   "id": "apart-serve",
   "metadata": {},
   "source": [
    "<h4 style=\"color:lightcoral\"><strong>Executive Summary</strong></h4>"
   ]
  },
  {
   "cell_type": "markdown",
   "id": "preceding-moscow",
   "metadata": {},
   "source": [
    "<a id=\"chapter3\" name=\"chapter3\">chapter3</a> "
   ]
  },
  {
   "cell_type": "markdown",
   "id": "impossible-supplement",
   "metadata": {},
   "source": [
    "<h2 style=\"text-align:center\">Data Analysis and Exploration</h2>"
   ]
  },
  {
   "cell_type": "markdown",
   "id": "aquatic-japanese",
   "metadata": {},
   "source": [
    "<a id=\"section_3_1\" name=\"section_3_1\">section_3_1</a>"
   ]
  },
  {
   "cell_type": "code",
   "execution_count": 22,
   "id": "champion-directory",
   "metadata": {},
   "outputs": [],
   "source": [
    "import pandas as pd\n",
    "import numpy as np\n",
    "import matplotlib.pyplot as plt\n",
    "import engine.data_preparation as dp\n",
    "import seaborn as sns"
   ]
  },
  {
   "cell_type": "markdown",
   "id": "thermal-yugoslavia",
   "metadata": {},
   "source": [
    "<h4 style=\"color:lightcoral\"><strong>Data Preparation</strong></h4>\n",
    "\n",
    "> Read dataset \n",
    "\n",
    "> Appropriately change data types\n",
    "\n",
    "> Description \n",
    "> * Number of rows\n",
    "> * Number of features\n",
    "\n",
    "> Is the data balanced ?\n"
   ]
  },
  {
   "cell_type": "code",
   "execution_count": 2,
   "id": "weird-lesbian",
   "metadata": {},
   "outputs": [],
   "source": [
    "dir_str = \"Datasets/data/processed.{}.data\"\n",
    "names = {\"age\":\"Age\",\"sex\":\"Sex\",\"cp\":\"Chest Pain Type\",\"trestbps\":\"Resting Blood Pressure\",\"chol\":\"Serum Cholestoral In mg/dl\",\n",
    "         \"fbs\":\"Fasting Blood Sugar > 120 mg/dl\",\"restecg\":\"Resting Electrocardiographic Results\",\"thalach\":\"Duration of Exercise In Minutes\",\n",
    "         \"exang\":\"Exercise Induced Angina\",\"oldpeak\":\"ST Depression Induced By Exercise\",\"slope\":\"The Slope of The Peak Exercise ST Segment\",\n",
    "         \"ca\":\"Number of Major Vessels\",\"thal\":\"Normal/Fixed or Reversable Defect\",\"num\":\"Presence\"\n",
    "        }\n",
    "convert_dict = {'sex': int,'cp': int,'fbs':int,'restecg':int,'exang':int,'slope':int,'ca':int,'num':int}\n",
    "columns = list(names.keys())"
   ]
  },
  {
   "cell_type": "code",
   "execution_count": 3,
   "id": "talented-receipt",
   "metadata": {},
   "outputs": [
    {
     "name": "stdout",
     "output_type": "stream",
     "text": [
      "cleveland: Number of Rows: 303 x Number of Columns: 14 \n",
      "hungarian: Number of Rows: 294 x Number of Columns: 14 \n",
      "switzerland: Number of Rows: 123 x Number of Columns: 14 \n",
      "long beach: Number of Rows: 200 x Number of Columns: 14 \n",
      "======================================================================================================\n"
     ]
    },
    {
     "data": {
      "text/html": [
       "<div>\n",
       "<style scoped>\n",
       "    .dataframe tbody tr th:only-of-type {\n",
       "        vertical-align: middle;\n",
       "    }\n",
       "\n",
       "    .dataframe tbody tr th {\n",
       "        vertical-align: top;\n",
       "    }\n",
       "\n",
       "    .dataframe thead th {\n",
       "        text-align: right;\n",
       "    }\n",
       "</style>\n",
       "<table border=\"1\" class=\"dataframe\">\n",
       "  <thead>\n",
       "    <tr style=\"text-align: right;\">\n",
       "      <th></th>\n",
       "      <th>age</th>\n",
       "      <th>sex</th>\n",
       "      <th>cp</th>\n",
       "      <th>trestbps</th>\n",
       "      <th>chol</th>\n",
       "      <th>fbs</th>\n",
       "      <th>restecg</th>\n",
       "      <th>thalach</th>\n",
       "      <th>exang</th>\n",
       "      <th>oldpeak</th>\n",
       "      <th>slope</th>\n",
       "      <th>ca</th>\n",
       "      <th>thal</th>\n",
       "      <th>num</th>\n",
       "    </tr>\n",
       "  </thead>\n",
       "  <tbody>\n",
       "    <tr>\n",
       "      <th>0</th>\n",
       "      <td>63.0</td>\n",
       "      <td>1.0</td>\n",
       "      <td>1.0</td>\n",
       "      <td>145.0</td>\n",
       "      <td>233.0</td>\n",
       "      <td>1.0</td>\n",
       "      <td>2.0</td>\n",
       "      <td>150.0</td>\n",
       "      <td>0.0</td>\n",
       "      <td>2.3</td>\n",
       "      <td>3.0</td>\n",
       "      <td>0.0</td>\n",
       "      <td>6.0</td>\n",
       "      <td>0</td>\n",
       "    </tr>\n",
       "    <tr>\n",
       "      <th>1</th>\n",
       "      <td>67.0</td>\n",
       "      <td>1.0</td>\n",
       "      <td>4.0</td>\n",
       "      <td>160.0</td>\n",
       "      <td>286.0</td>\n",
       "      <td>0.0</td>\n",
       "      <td>2.0</td>\n",
       "      <td>108.0</td>\n",
       "      <td>1.0</td>\n",
       "      <td>1.5</td>\n",
       "      <td>2.0</td>\n",
       "      <td>3.0</td>\n",
       "      <td>3.0</td>\n",
       "      <td>2</td>\n",
       "    </tr>\n",
       "    <tr>\n",
       "      <th>2</th>\n",
       "      <td>67.0</td>\n",
       "      <td>1.0</td>\n",
       "      <td>4.0</td>\n",
       "      <td>120.0</td>\n",
       "      <td>229.0</td>\n",
       "      <td>0.0</td>\n",
       "      <td>2.0</td>\n",
       "      <td>129.0</td>\n",
       "      <td>1.0</td>\n",
       "      <td>2.6</td>\n",
       "      <td>2.0</td>\n",
       "      <td>2.0</td>\n",
       "      <td>7.0</td>\n",
       "      <td>1</td>\n",
       "    </tr>\n",
       "    <tr>\n",
       "      <th>3</th>\n",
       "      <td>37.0</td>\n",
       "      <td>1.0</td>\n",
       "      <td>3.0</td>\n",
       "      <td>130.0</td>\n",
       "      <td>250.0</td>\n",
       "      <td>0.0</td>\n",
       "      <td>0.0</td>\n",
       "      <td>187.0</td>\n",
       "      <td>0.0</td>\n",
       "      <td>3.5</td>\n",
       "      <td>3.0</td>\n",
       "      <td>0.0</td>\n",
       "      <td>3.0</td>\n",
       "      <td>0</td>\n",
       "    </tr>\n",
       "    <tr>\n",
       "      <th>4</th>\n",
       "      <td>41.0</td>\n",
       "      <td>0.0</td>\n",
       "      <td>2.0</td>\n",
       "      <td>130.0</td>\n",
       "      <td>204.0</td>\n",
       "      <td>0.0</td>\n",
       "      <td>2.0</td>\n",
       "      <td>172.0</td>\n",
       "      <td>0.0</td>\n",
       "      <td>1.4</td>\n",
       "      <td>1.0</td>\n",
       "      <td>0.0</td>\n",
       "      <td>3.0</td>\n",
       "      <td>0</td>\n",
       "    </tr>\n",
       "  </tbody>\n",
       "</table>\n",
       "</div>"
      ],
      "text/plain": [
       "    age  sex   cp  trestbps   chol  fbs  restecg  thalach  exang  oldpeak  \\\n",
       "0  63.0  1.0  1.0     145.0  233.0  1.0      2.0    150.0    0.0      2.3   \n",
       "1  67.0  1.0  4.0     160.0  286.0  0.0      2.0    108.0    1.0      1.5   \n",
       "2  67.0  1.0  4.0     120.0  229.0  0.0      2.0    129.0    1.0      2.6   \n",
       "3  37.0  1.0  3.0     130.0  250.0  0.0      0.0    187.0    0.0      3.5   \n",
       "4  41.0  0.0  2.0     130.0  204.0  0.0      2.0    172.0    0.0      1.4   \n",
       "\n",
       "   slope   ca  thal  num  \n",
       "0    3.0  0.0   6.0    0  \n",
       "1    2.0  3.0   3.0    2  \n",
       "2    2.0  2.0   7.0    1  \n",
       "3    3.0  0.0   3.0    0  \n",
       "4    1.0  0.0   3.0    0  "
      ]
     },
     "execution_count": 3,
     "metadata": {},
     "output_type": "execute_result"
    }
   ],
   "source": [
    "cleveland = pd.read_csv(dir_str.format(\"cleveland\"),names=columns,na_values='?')\n",
    "hungarian = pd.read_csv(dir_str.format(\"hungarian\"),names=columns,na_values='?')\n",
    "switzerland = pd.read_csv(dir_str.format(\"switzerland\"),names=columns,na_values='?')\n",
    "va = pd.read_csv(dir_str.format(\"va\"),names=columns,na_values='?')\n",
    "print(\"{}: Number of Rows: {} x Number of Columns: {} \".format(\"cleveland\",len(cleveland),len(cleveland.columns)))\n",
    "print(\"{}: Number of Rows: {} x Number of Columns: {} \".format(\"hungarian\",len(hungarian),len(hungarian.columns)))\n",
    "print(\"{}: Number of Rows: {} x Number of Columns: {} \".format(\"switzerland\",len(switzerland),len(switzerland.columns)))\n",
    "print(\"{}: Number of Rows: {} x Number of Columns: {} \".format(\"long beach\",len(va),len(va.columns)))\n",
    "print('======================================================================================================')\n",
    "cleveland.head()"
   ]
  },
  {
   "cell_type": "code",
   "execution_count": 4,
   "id": "digital-excerpt",
   "metadata": {},
   "outputs": [],
   "source": [
    "cleveland = dp.group_target(cleveland);hungarian =  dp.group_target(hungarian)\n",
    "switzerland = dp.group_target(switzerland);va =  dp.group_target(va)\n",
    "heart_data = pd.concat([cleveland,hungarian,switzerland,va])\n",
    "heart_data = heart_data.drop_duplicates()"
   ]
  },
  {
   "cell_type": "markdown",
   "id": "judicial-transcript",
   "metadata": {},
   "source": [
    "<a id=\"section_3_2\" name=\"section_3_2\">section_3_2</a>"
   ]
  },
  {
   "cell_type": "markdown",
   "id": "serious-friend",
   "metadata": {},
   "source": [
    "<h4 style=\"color:lightcoral\"><strong>Missing Values</strong></h4>\n",
    "<strong style=\"color:lightcoral\">Goals</strong>: Create 3 different datasets from:\n",
    "\n",
    "> Dropping values\n",
    "\n",
    "> Replacing missing values with the means\n",
    "\n",
    "> Learn the missing feature using an algorithm\n"
   ]
  },
  {
   "cell_type": "code",
   "execution_count": 12,
   "id": "drawn-terrorism",
   "metadata": {},
   "outputs": [],
   "source": [
    "# ============== Drop Missing Values\n",
    "drop_missing_cleveland = (cleveland.copy().dropna()).astype(convert_dict)\n",
    "drop_missing_hungarian = ( hungarian.copy().dropna()).astype(convert_dict)\n",
    "drop_missing_switzerland = (switzerland.copy().dropna()).astype(convert_dict)\n",
    "drop_missing_va = (va.copy().dropna()).astype(convert_dict)\n",
    "drop_missing_heart = (heart_data.copy().dropna()).astype(convert_dict) # This is the combined dataset\n",
    "\n",
    "\n",
    "# ================ Mode Dataset  - Missing values replaced with the mode\n",
    "mode_cleveland = ((dp.replace_missing_with_mode(cleveland.copy())).astype(convert_dict)).drop_duplicates()\n",
    "mode_hungarian = ((dp.replace_missing_with_mode(hungarian.copy())).astype(convert_dict)).drop_duplicates()\n",
    "mode_switzerland = ((dp.replace_missing_with_mode(switzerland.copy())).astype(convert_dict)).drop_duplicates()\n",
    "mode_va = ((dp.replace_missing_with_mode(va.copy())).astype(convert_dict)).drop_duplicates()\n",
    "mode_heart = ((dp.replace_missing_with_mode(heart_data.copy())).astype(convert_dict)).drop_duplicates()\n",
    "\n",
    "\n",
    "\n",
    "# ================ Learned Missing Features Dataset "
   ]
  },
  {
   "cell_type": "markdown",
   "id": "departmental-whale",
   "metadata": {},
   "source": [
    "<a id=\"section_3_3\" name=\"section_3_3\">section_3_3</a>"
   ]
  },
  {
   "cell_type": "markdown",
   "id": "criminal-presentation",
   "metadata": {},
   "source": [
    "<h4 style=\"color:lightcoral\"><strong>Outliers</strong></h4>"
   ]
  },
  {
   "cell_type": "code",
   "execution_count": null,
   "id": "rocky-horizon",
   "metadata": {},
   "outputs": [],
   "source": []
  },
  {
   "cell_type": "markdown",
   "id": "advance-somewhere",
   "metadata": {},
   "source": [
    "<a id=\"section_3_4\" name=\"section_3_4\">section_3_4</a>"
   ]
  },
  {
   "cell_type": "markdown",
   "id": "scenic-links",
   "metadata": {},
   "source": [
    "<h4 style=\"color:lightcoral\"><strong>Encoding</strong></h4>\n",
    "<strong style=\"color:lightcoral\">Goals</strong>: Encode the data for model preparation\n",
    "\n",
    "> One-Hot encode dataset\n"
   ]
  },
  {
   "cell_type": "code",
   "execution_count": 19,
   "id": "varying-daisy",
   "metadata": {},
   "outputs": [
    {
     "data": {
      "text/html": [
       "<div>\n",
       "<style scoped>\n",
       "    .dataframe tbody tr th:only-of-type {\n",
       "        vertical-align: middle;\n",
       "    }\n",
       "\n",
       "    .dataframe tbody tr th {\n",
       "        vertical-align: top;\n",
       "    }\n",
       "\n",
       "    .dataframe thead th {\n",
       "        text-align: right;\n",
       "    }\n",
       "</style>\n",
       "<table border=\"1\" class=\"dataframe\">\n",
       "  <thead>\n",
       "    <tr style=\"text-align: right;\">\n",
       "      <th></th>\n",
       "      <th>age</th>\n",
       "      <th>trestbps</th>\n",
       "      <th>chol</th>\n",
       "      <th>thalach</th>\n",
       "      <th>oldpeak</th>\n",
       "      <th>thal</th>\n",
       "      <th>sex_0</th>\n",
       "      <th>sex_1</th>\n",
       "      <th>cp_1</th>\n",
       "      <th>cp_4</th>\n",
       "      <th>...</th>\n",
       "      <th>fbs_1</th>\n",
       "      <th>restecg_0</th>\n",
       "      <th>restecg_1</th>\n",
       "      <th>exang_0</th>\n",
       "      <th>exang_1</th>\n",
       "      <th>slope_1</th>\n",
       "      <th>slope_2</th>\n",
       "      <th>ca_0</th>\n",
       "      <th>ca_1</th>\n",
       "      <th>num</th>\n",
       "    </tr>\n",
       "  </thead>\n",
       "  <tbody>\n",
       "    <tr>\n",
       "      <th>0</th>\n",
       "      <td>63.0</td>\n",
       "      <td>145.0</td>\n",
       "      <td>233.0</td>\n",
       "      <td>150.0</td>\n",
       "      <td>2.3</td>\n",
       "      <td>6.0</td>\n",
       "      <td>0</td>\n",
       "      <td>1</td>\n",
       "      <td>1</td>\n",
       "      <td>0</td>\n",
       "      <td>...</td>\n",
       "      <td>1</td>\n",
       "      <td>0</td>\n",
       "      <td>1</td>\n",
       "      <td>1</td>\n",
       "      <td>0</td>\n",
       "      <td>1</td>\n",
       "      <td>0</td>\n",
       "      <td>1</td>\n",
       "      <td>0</td>\n",
       "      <td>0</td>\n",
       "    </tr>\n",
       "    <tr>\n",
       "      <th>1</th>\n",
       "      <td>67.0</td>\n",
       "      <td>160.0</td>\n",
       "      <td>286.0</td>\n",
       "      <td>108.0</td>\n",
       "      <td>1.5</td>\n",
       "      <td>1.0</td>\n",
       "      <td>0</td>\n",
       "      <td>1</td>\n",
       "      <td>1</td>\n",
       "      <td>0</td>\n",
       "      <td>...</td>\n",
       "      <td>0</td>\n",
       "      <td>0</td>\n",
       "      <td>1</td>\n",
       "      <td>0</td>\n",
       "      <td>1</td>\n",
       "      <td>1</td>\n",
       "      <td>0</td>\n",
       "      <td>0</td>\n",
       "      <td>1</td>\n",
       "      <td>1</td>\n",
       "    </tr>\n",
       "    <tr>\n",
       "      <th>2</th>\n",
       "      <td>67.0</td>\n",
       "      <td>120.0</td>\n",
       "      <td>229.0</td>\n",
       "      <td>129.0</td>\n",
       "      <td>2.6</td>\n",
       "      <td>7.0</td>\n",
       "      <td>0</td>\n",
       "      <td>1</td>\n",
       "      <td>1</td>\n",
       "      <td>0</td>\n",
       "      <td>...</td>\n",
       "      <td>0</td>\n",
       "      <td>0</td>\n",
       "      <td>1</td>\n",
       "      <td>0</td>\n",
       "      <td>1</td>\n",
       "      <td>1</td>\n",
       "      <td>0</td>\n",
       "      <td>0</td>\n",
       "      <td>1</td>\n",
       "      <td>1</td>\n",
       "    </tr>\n",
       "    <tr>\n",
       "      <th>3</th>\n",
       "      <td>37.0</td>\n",
       "      <td>130.0</td>\n",
       "      <td>250.0</td>\n",
       "      <td>187.0</td>\n",
       "      <td>3.5</td>\n",
       "      <td>1.0</td>\n",
       "      <td>0</td>\n",
       "      <td>1</td>\n",
       "      <td>1</td>\n",
       "      <td>0</td>\n",
       "      <td>...</td>\n",
       "      <td>0</td>\n",
       "      <td>1</td>\n",
       "      <td>0</td>\n",
       "      <td>1</td>\n",
       "      <td>0</td>\n",
       "      <td>1</td>\n",
       "      <td>0</td>\n",
       "      <td>1</td>\n",
       "      <td>0</td>\n",
       "      <td>0</td>\n",
       "    </tr>\n",
       "    <tr>\n",
       "      <th>4</th>\n",
       "      <td>41.0</td>\n",
       "      <td>130.0</td>\n",
       "      <td>204.0</td>\n",
       "      <td>172.0</td>\n",
       "      <td>1.4</td>\n",
       "      <td>1.0</td>\n",
       "      <td>1</td>\n",
       "      <td>0</td>\n",
       "      <td>1</td>\n",
       "      <td>0</td>\n",
       "      <td>...</td>\n",
       "      <td>0</td>\n",
       "      <td>0</td>\n",
       "      <td>1</td>\n",
       "      <td>1</td>\n",
       "      <td>0</td>\n",
       "      <td>1</td>\n",
       "      <td>0</td>\n",
       "      <td>1</td>\n",
       "      <td>0</td>\n",
       "      <td>0</td>\n",
       "    </tr>\n",
       "    <tr>\n",
       "      <th>...</th>\n",
       "      <td>...</td>\n",
       "      <td>...</td>\n",
       "      <td>...</td>\n",
       "      <td>...</td>\n",
       "      <td>...</td>\n",
       "      <td>...</td>\n",
       "      <td>...</td>\n",
       "      <td>...</td>\n",
       "      <td>...</td>\n",
       "      <td>...</td>\n",
       "      <td>...</td>\n",
       "      <td>...</td>\n",
       "      <td>...</td>\n",
       "      <td>...</td>\n",
       "      <td>...</td>\n",
       "      <td>...</td>\n",
       "      <td>...</td>\n",
       "      <td>...</td>\n",
       "      <td>...</td>\n",
       "      <td>...</td>\n",
       "      <td>...</td>\n",
       "    </tr>\n",
       "    <tr>\n",
       "      <th>299</th>\n",
       "      <td>68.0</td>\n",
       "      <td>144.0</td>\n",
       "      <td>193.0</td>\n",
       "      <td>141.0</td>\n",
       "      <td>3.4</td>\n",
       "      <td>7.0</td>\n",
       "      <td>0</td>\n",
       "      <td>1</td>\n",
       "      <td>1</td>\n",
       "      <td>0</td>\n",
       "      <td>...</td>\n",
       "      <td>1</td>\n",
       "      <td>1</td>\n",
       "      <td>0</td>\n",
       "      <td>1</td>\n",
       "      <td>0</td>\n",
       "      <td>1</td>\n",
       "      <td>0</td>\n",
       "      <td>0</td>\n",
       "      <td>1</td>\n",
       "      <td>1</td>\n",
       "    </tr>\n",
       "    <tr>\n",
       "      <th>300</th>\n",
       "      <td>57.0</td>\n",
       "      <td>130.0</td>\n",
       "      <td>131.0</td>\n",
       "      <td>115.0</td>\n",
       "      <td>1.2</td>\n",
       "      <td>7.0</td>\n",
       "      <td>0</td>\n",
       "      <td>1</td>\n",
       "      <td>1</td>\n",
       "      <td>0</td>\n",
       "      <td>...</td>\n",
       "      <td>0</td>\n",
       "      <td>1</td>\n",
       "      <td>0</td>\n",
       "      <td>0</td>\n",
       "      <td>1</td>\n",
       "      <td>1</td>\n",
       "      <td>0</td>\n",
       "      <td>0</td>\n",
       "      <td>1</td>\n",
       "      <td>1</td>\n",
       "    </tr>\n",
       "    <tr>\n",
       "      <th>301</th>\n",
       "      <td>57.0</td>\n",
       "      <td>130.0</td>\n",
       "      <td>236.0</td>\n",
       "      <td>174.0</td>\n",
       "      <td>0.0</td>\n",
       "      <td>1.0</td>\n",
       "      <td>1</td>\n",
       "      <td>0</td>\n",
       "      <td>1</td>\n",
       "      <td>0</td>\n",
       "      <td>...</td>\n",
       "      <td>0</td>\n",
       "      <td>0</td>\n",
       "      <td>1</td>\n",
       "      <td>1</td>\n",
       "      <td>0</td>\n",
       "      <td>1</td>\n",
       "      <td>0</td>\n",
       "      <td>0</td>\n",
       "      <td>1</td>\n",
       "      <td>1</td>\n",
       "    </tr>\n",
       "    <tr>\n",
       "      <th>205</th>\n",
       "      <td>47.0</td>\n",
       "      <td>150.0</td>\n",
       "      <td>226.0</td>\n",
       "      <td>98.0</td>\n",
       "      <td>1.5</td>\n",
       "      <td>7.0</td>\n",
       "      <td>0</td>\n",
       "      <td>1</td>\n",
       "      <td>0</td>\n",
       "      <td>1</td>\n",
       "      <td>...</td>\n",
       "      <td>0</td>\n",
       "      <td>1</td>\n",
       "      <td>0</td>\n",
       "      <td>0</td>\n",
       "      <td>1</td>\n",
       "      <td>0</td>\n",
       "      <td>1</td>\n",
       "      <td>1</td>\n",
       "      <td>0</td>\n",
       "      <td>1</td>\n",
       "    </tr>\n",
       "    <tr>\n",
       "      <th>28</th>\n",
       "      <td>56.0</td>\n",
       "      <td>120.0</td>\n",
       "      <td>100.0</td>\n",
       "      <td>120.0</td>\n",
       "      <td>1.5</td>\n",
       "      <td>7.0</td>\n",
       "      <td>0</td>\n",
       "      <td>1</td>\n",
       "      <td>1</td>\n",
       "      <td>0</td>\n",
       "      <td>...</td>\n",
       "      <td>0</td>\n",
       "      <td>1</td>\n",
       "      <td>0</td>\n",
       "      <td>0</td>\n",
       "      <td>1</td>\n",
       "      <td>1</td>\n",
       "      <td>0</td>\n",
       "      <td>1</td>\n",
       "      <td>0</td>\n",
       "      <td>1</td>\n",
       "    </tr>\n",
       "  </tbody>\n",
       "</table>\n",
       "<p>299 rows × 21 columns</p>\n",
       "</div>"
      ],
      "text/plain": [
       "      age  trestbps   chol  thalach  oldpeak  thal  sex_0  sex_1  cp_1  cp_4  \\\n",
       "0    63.0     145.0  233.0    150.0      2.3   6.0      0      1     1     0   \n",
       "1    67.0     160.0  286.0    108.0      1.5   1.0      0      1     1     0   \n",
       "2    67.0     120.0  229.0    129.0      2.6   7.0      0      1     1     0   \n",
       "3    37.0     130.0  250.0    187.0      3.5   1.0      0      1     1     0   \n",
       "4    41.0     130.0  204.0    172.0      1.4   1.0      1      0     1     0   \n",
       "..    ...       ...    ...      ...      ...   ...    ...    ...   ...   ...   \n",
       "299  68.0     144.0  193.0    141.0      3.4   7.0      0      1     1     0   \n",
       "300  57.0     130.0  131.0    115.0      1.2   7.0      0      1     1     0   \n",
       "301  57.0     130.0  236.0    174.0      0.0   1.0      1      0     1     0   \n",
       "205  47.0     150.0  226.0     98.0      1.5   7.0      0      1     0     1   \n",
       "28   56.0     120.0  100.0    120.0      1.5   7.0      0      1     1     0   \n",
       "\n",
       "     ...  fbs_1  restecg_0  restecg_1  exang_0  exang_1  slope_1  slope_2  \\\n",
       "0    ...      1          0          1        1        0        1        0   \n",
       "1    ...      0          0          1        0        1        1        0   \n",
       "2    ...      0          0          1        0        1        1        0   \n",
       "3    ...      0          1          0        1        0        1        0   \n",
       "4    ...      0          0          1        1        0        1        0   \n",
       "..   ...    ...        ...        ...      ...      ...      ...      ...   \n",
       "299  ...      1          1          0        1        0        1        0   \n",
       "300  ...      0          1          0        0        1        1        0   \n",
       "301  ...      0          0          1        1        0        1        0   \n",
       "205  ...      0          1          0        0        1        0        1   \n",
       "28   ...      0          1          0        0        1        1        0   \n",
       "\n",
       "     ca_0  ca_1  num  \n",
       "0       1     0    0  \n",
       "1       0     1    1  \n",
       "2       0     1    1  \n",
       "3       1     0    0  \n",
       "4       1     0    0  \n",
       "..    ...   ...  ...  \n",
       "299     0     1    1  \n",
       "300     0     1    1  \n",
       "301     0     1    1  \n",
       "205     1     0    1  \n",
       "28      1     0    1  \n",
       "\n",
       "[299 rows x 21 columns]"
      ]
     },
     "execution_count": 19,
     "metadata": {},
     "output_type": "execute_result"
    }
   ],
   "source": [
    "# ============== Drop Missing Values\n",
    "encode_drop_missing_cleveland = dp.one_hot_encoding_2(drop_missing_cleveland)\n",
    "encode_drop_missing_hungarian = dp.one_hot_encoding_2(drop_missing_hungarian)\n",
    "encode_drop_missing_switzerland = dp.one_hot_encoding_2(drop_missing_switzerland)\n",
    "encode_drop_missing_va = dp.one_hot_encoding_2(drop_missing_va)\n",
    "encode_drop_missing_heart = dp.one_hot_encoding_2(drop_missing_heart)\n",
    "\n",
    "# ================ Mode Dataset  - Missing values replaced with the mode\n",
    "encode_mode_cleveland = dp.one_hot_encoding_2(mode_cleveland)\n",
    "encode_mode_hungarian = dp.one_hot_encoding_2(mode_hungarian)\n",
    "encode_mode_switzerland = dp.one_hot_encoding_2(mode_switzerland)\n",
    "encode_mode_va = dp.one_hot_encoding_2(mode_va)\n",
    "encode_mode_heart = dp.one_hot_encoding_2(mode_heart)\n",
    "\n",
    "\n",
    "\n",
    "# ================ Learned Missing Features Dataset "
   ]
  },
  {
   "cell_type": "markdown",
   "id": "balanced-shock",
   "metadata": {},
   "source": [
    "<a id=\"section_3_5\" name=\"section_3_5\">section_3_5</a>"
   ]
  },
  {
   "cell_type": "markdown",
   "id": "arctic-salon",
   "metadata": {},
   "source": [
    "<h4 style=\"color:lightcoral\"><strong>Exploratory Analysis and Data Visualization</strong></h4>\n",
    "\n",
    "\n",
    "> Countplots\n",
    "\n",
    "> Histogram\n",
    "\n",
    "> Box Plot\n"
   ]
  },
  {
   "cell_type": "code",
   "execution_count": null,
   "id": "handled-final",
   "metadata": {},
   "outputs": [],
   "source": [
    "categories = list(convert_dict.keys())\n",
    "continuous = list(filter(lambda x:x not in categories,drop_missing_cleveland.columns))"
   ]
  },
  {
   "cell_type": "code",
   "execution_count": 110,
   "id": "liberal-franklin",
   "metadata": {},
   "outputs": [
    {
     "data": {
      "text/plain": [
       "<AxesSubplot:xlabel='num', ylabel='count'>"
      ]
     },
     "execution_count": 110,
     "metadata": {},
     "output_type": "execute_result"
    },
    {
     "data": {
      "image/png": "[encoded data removed]",
      "text/plain": [
       "<Figure size 432x288 with 1 Axes>"
      ]
     },
     "metadata": {},
     "output_type": "display_data"
    }
   ],
   "source": [
    "sns.countplot(x=\"num\",data=drop_missing_cleveland)"
   ]
  },
  {
   "cell_type": "code",
   "execution_count": 115,
   "id": "seasonal-joyce",
   "metadata": {},
   "outputs": [
    {
     "data": {
      "image/png": "[encoded data removed]",
      "text/plain": [
       "<Figure size 1080x720 with 6 Axes>"
      ]
     },
     "metadata": {},
     "output_type": "display_data"
    }
   ],
   "source": [
    "n = 3;m = 2\n",
    "fig1, f1_axes = plt.subplots(ncols=3, nrows=2, constrained_layout=True,figsize=(15,10))\n",
    "for i in range(m):\n",
    "    for j in range(n):\n",
    "        sns.countplot(data=drop_missing_cleveland, x=list(convert_dict.keys())[i*m + j],ax=f1_axes[i,j])\n",
    "        f1_axes[i,j].set_xlabel(names[list(convert_dict.keys())[i*m + j]])"
   ]
  },
  {
   "cell_type": "code",
   "execution_count": 103,
   "id": "systematic-boring",
   "metadata": {},
   "outputs": [
    {
     "data": {
      "image/png": "[encoded data removed]",
      "text/plain": [
       "<Figure size 1080x720 with 6 Axes>"
      ]
     },
     "metadata": {},
     "output_type": "display_data"
    }
   ],
   "source": [
    "n = 3;m = 2\n",
    "fig1, f1_axes = plt.subplots(ncols=3, nrows=2, constrained_layout=True,figsize=(15,10))\n",
    "for i in range(m):\n",
    "    for j in range(n):\n",
    "        sns.boxplot(data=drop_missing_cleveland, x=continuous[i*m + j], hue=\"num\",ax=f1_axes[i,j])\n",
    "        f1_axes[i,j].set_xlabel(names[continuous[i*m + j]])"
   ]
  },
  {
   "cell_type": "code",
   "execution_count": 100,
   "id": "identical-arizona",
   "metadata": {},
   "outputs": [
    {
     "name": "stdout",
     "output_type": "stream",
     "text": [
      "age\n",
      "trestbps\n",
      "chol\n",
      "chol\n",
      "thalach\n",
      "oldpeak\n"
     ]
    },
    {
     "data": {
      "image/png": "[encoded data removed]",
      "text/plain": [
       "<Figure size 1080x720 with 6 Axes>"
      ]
     },
     "metadata": {},
     "output_type": "display_data"
    }
   ],
   "source": [
    "n = 3\n",
    "m = 2\n",
    "fig1, f1_axes = plt.subplots(ncols=3, nrows=2, constrained_layout=True,figsize=(15,10))\n",
    "for i in range(m):\n",
    "    for j in range(n):\n",
    "        sns.histplot(data=drop_missing_cleveland, x=continuous[i*m + j], hue=\"num\",ax=f1_axes[i,j])\n",
    "        f1_axes[i,j].set_xlabel(names[continuous[i*m + j]])"
   ]
  },
  {
   "cell_type": "markdown",
   "id": "satellite-temple",
   "metadata": {},
   "source": [
    "<h4 style=\"color:lightcoral\"><strong>Compare Model Performance</strong></h4>\n",
    "\n",
    "> Train A Logistic regression model\n"
   ]
  },
  {
   "cell_type": "markdown",
   "id": "obvious-generation",
   "metadata": {},
   "source": [
    "<a id=\"chapter4\" name=\"chapter4\">chapter4</a> "
   ]
  },
  {
   "cell_type": "markdown",
   "id": "individual-albuquerque",
   "metadata": {},
   "source": [
    "<h2 style=\"text-align:center\">Algorithm</h2>\n",
    "\n",
    "> Train a model to predict heart disease \n",
    "> * Perform Hyperparameter Tuning\n",
    "\n",
    "> Optimize the model to predict heart disease \n",
    "> * Perform Hyperparameter Tuning\n",
    "\n",
    "> Train a state of the art algorithm\n",
    "\n",
    "> Compare the three models and interpret the results\n",
    "\n",
    "> Finalize the choice of the final model"
   ]
  },
  {
   "cell_type": "markdown",
   "id": "wireless-keyboard",
   "metadata": {},
   "source": [
    "<a id=\"section_4_1\" name=\"section_4_1\">section_4_1</a>"
   ]
  },
  {
   "cell_type": "markdown",
   "id": "sublime-worth",
   "metadata": {},
   "source": [
    "<h4 style=\"color:lightcoral\"><strong>Data Preparation</strong></h4>\n",
    "\n",
    "> Train Validation Test Split\n",
    "\n",
    "> Cross-Validation using K-Fold\n",
    "\n",
    "> Set the hyperparameters of the model\n"
   ]
  },
  {
   "cell_type": "markdown",
   "id": "statistical-target",
   "metadata": {},
   "source": [
    "<a id=\"section_4_2\" name=\"section_4_2\">section_4_2</a>"
   ]
  },
  {
   "cell_type": "markdown",
   "id": "fluid-integrity",
   "metadata": {},
   "source": [
    "<h4 style=\"color:lightcoral\"><strong>Training A Model</strong></h4>\n",
    "\n",
    "> Train A Logistic regression model\n",
    "\n",
    "> Tune hyperparameters\n",
    "\n",
    "> Choose the best model\n"
   ]
  },
  {
   "cell_type": "markdown",
   "id": "covered-highlight",
   "metadata": {},
   "source": [
    "<a id=\"section_4_3\" name=\"section_4_3\">section_4_3</a>"
   ]
  },
  {
   "cell_type": "markdown",
   "id": "varied-jurisdiction",
   "metadata": {},
   "source": [
    "<h4 style=\"color:lightcoral\"><strong>Optimize The Model</strong></h4>\n",
    "\n",
    "> Train An Optimized Logistic regression model\n",
    "\n",
    "> Tune hyperparameters\n",
    "\n",
    "> Choose the best model\n"
   ]
  },
  {
   "cell_type": "markdown",
   "id": "whole-paris",
   "metadata": {},
   "source": [
    "<a id=\"section_4_4\" name=\"section_4_4\">section_4_4</a>"
   ]
  },
  {
   "cell_type": "markdown",
   "id": "split-teaching",
   "metadata": {},
   "source": [
    "<h4 style=\"color:lightcoral\"><strong>Training A State of The Art Model</strong></h4>\n",
    "\n",
    "> Train A Logistic regression model\n"
   ]
  },
  {
   "cell_type": "markdown",
   "id": "surprising-stockholm",
   "metadata": {},
   "source": [
    "<a id=\"section_4_5\" name=\"section_4_5\">section_4_5</a>"
   ]
  },
  {
   "cell_type": "markdown",
   "id": "bigger-vision",
   "metadata": {},
   "source": [
    "<h4 style=\"color:lightcoral\"><strong>Compare Model Performance</strong></h4>\n",
    "\n",
    "> Train A Logistic regression model\n"
   ]
  },
  {
   "cell_type": "markdown",
   "id": "searching-pearl",
   "metadata": {},
   "source": [
    "<a id=\"section_4_6\" name=\"section_4_6\">section_4_6</a>"
   ]
  },
  {
   "cell_type": "markdown",
   "id": "ceramic-chemical",
   "metadata": {},
   "source": [
    "<h4 style=\"color:lightcoral\"><strong>Conclusion</strong></h4>"
   ]
  },
  {
   "cell_type": "markdown",
   "id": "working-allah",
   "metadata": {},
   "source": [
    "[back to top](#section_n)"
   ]
  },
  {
   "cell_type": "code",
   "execution_count": null,
   "id": "composite-library",
   "metadata": {},
   "outputs": [],
   "source": []
  }
 ],
 "metadata": {
  "kernelspec": {
   "display_name": "Python 3",
   "language": "python",
   "name": "python3"
  },
  "language_info": {
   "codemirror_mode": {
    "name": "ipython",
    "version": 3
   },
   "file_extension": ".py",
   "mimetype": "text/x-python",
   "name": "python",
   "nbconvert_exporter": "python",
   "pygments_lexer": "ipython3",
   "version": "3.8.5"
  }
 },
 "nbformat": 4,
 "nbformat_minor": 5
}
